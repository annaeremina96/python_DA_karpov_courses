{
 "cells": [
  {
   "cell_type": "markdown",
   "metadata": {},
   "source": [
    "# API\n",
    "\n",
    "Яндекс.Метрика, Телеграм"
   ]
  },
  {
   "cell_type": "code",
   "execution_count": 1,
   "metadata": {},
   "outputs": [],
   "source": [
    "# Одноимённая библиотека json используется для его преобразования в действительно питоновский словарь.\n",
    "import json\n",
    "\n",
    "# Convert json to python dict\n",
    "# json_date = json.loads(some_json)"
   ]
  },
  {
   "cell_type": "code",
   "execution_count": 2,
   "metadata": {},
   "outputs": [],
   "source": [
    "# Библиотека requests позволяет взаимодействовать с сайтами. \n",
    "# Метод get() принимает ссылку на сайт в виде строки, и возвращает объект, содержащий ответ с сайта в виде строки:\n",
    "import requests\n",
    "\n",
    "# query = requests.get(url)"
   ]
  },
  {
   "cell_type": "markdown",
   "metadata": {},
   "source": [
    "Конструирование ссылок\n",
    "\n",
    "Если вам не нравится вручную делать ссылки-запросы для Яндекс.Метрики, есть решение:"
   ]
  },
  {
   "cell_type": "code",
   "execution_count": 3,
   "metadata": {},
   "outputs": [
    {
     "data": {
      "text/plain": [
       "'https://api-metrika.yandex.net/stat/v1/data?metrics=ym%3As%3Avisits&dimensions=ym%3As%3Adate&id=44147844'"
      ]
     },
     "execution_count": 3,
     "metadata": {},
     "output_type": "execute_result"
    }
   ],
   "source": [
    "from urllib.parse import urlencode\n",
    "\n",
    "# Base path to service\n",
    "base_url = 'https://api-metrika.yandex.net/stat/v1/data?'\n",
    "\n",
    "# Parameters of query\n",
    "params = {'metrics': 'ym:s:visits',\n",
    "          'dimensions': 'ym:s:date',\n",
    "          'id': '44147844'}\n",
    "\n",
    "visits_url = base_url + urlencode(params)\n",
    "visits_url\n",
    "'https://api-metrika.yandex.net/stat/v1/data?metrics=ym%3As%3Avisits&dimensions=ym%3As%3Adate&id=44147844'"
   ]
  },
  {
   "cell_type": "markdown",
   "metadata": {},
   "source": [
    "Чтобы закодировать несколько значений параметра с одним именем, просто передайте в словарь вместо значения к нужному параметру \n",
    "список из них, и укажите параметр doseq=True"
   ]
  },
  {
   "cell_type": "code",
   "execution_count": 4,
   "metadata": {},
   "outputs": [
    {
     "data": {
      "text/plain": [
       "'https://api-metrika.yandex.net/stat/v1/data?metrics=ym%3As%3Avisits&dimensions=ym%3As%3Adate&dimensions=ym%3As%3AisRobot&id=44147844'"
      ]
     },
     "execution_count": 4,
     "metadata": {},
     "output_type": "execute_result"
    }
   ],
   "source": [
    "# Base path to service\n",
    "base_url = 'https://api-metrika.yandex.net/stat/v1/data?'\n",
    "\n",
    "# Parameters of query\n",
    "params = {'metrics': 'ym:s:visits',\n",
    "          'dimensions': ['ym:s:date', 'ym:s:isRobot'],\n",
    "          'id': '44147844'}\n",
    "                \n",
    "visits_url = base_url + urlencode(params, doseq=True)\n",
    "visits_url\n",
    "'https://api-metrika.yandex.net/stat/v1/data?metrics=ym%3As%3Avisits&dimensions=ym%3As%3Adate&dimensions=ym%3As%3AisRobot&id=44147844'"
   ]
  },
  {
   "cell_type": "markdown",
   "metadata": {},
   "source": [
    "Параметры requests.get\n",
    "\n",
    "Всё можно сделать еще короче — достаточно запихнуть словарь с параметрами в params внутри requests.get"
   ]
  },
  {
   "cell_type": "code",
   "execution_count": 5,
   "metadata": {},
   "outputs": [
    {
     "data": {
      "text/plain": [
       "<Response [200]>"
      ]
     },
     "execution_count": 5,
     "metadata": {},
     "output_type": "execute_result"
    }
   ],
   "source": [
    "requests.get(base_url,\n",
    "             params={\n",
    "             'metrics': 'ym:s:visits',\n",
    "             'dimensions': ['ym:s:date', 'ym:s:isRobot'],\n",
    "             'id': 44147844\n",
    "             })\n",
    "# Этот код делает то же самое, что предварительное конструирование ссылки и requests.get на ней."
   ]
  },
  {
   "cell_type": "markdown",
   "metadata": {},
   "source": [
    "### Yandex metrica"
   ]
  },
  {
   "cell_type": "code",
   "execution_count": 6,
   "metadata": {},
   "outputs": [],
   "source": [
    "import pandas as pd\n",
    "import requests\n",
    "import json\n",
    "\n",
    "# Base url to service\n",
    "url = 'https://api-metrika.yandex.net/stat/v1/data?'\n",
    "\n",
    "# &-separated parameters of query in a form of name=value, taken from the metrica site\n",
    "visits = 'metrics=ym:s:visits&dimensions=ym:s:date&id=44147844'\n",
    "url = url + visits\n",
    "\n",
    "# Get json of response\n",
    "query = requests.get(url)\n",
    "json_data = json.loads(query.text)\n",
    "\n",
    "# Conversion of obtained json to dataframe\n",
    "visits_data = pd.DataFrame([(\n",
    "                             i['dimensions'][0]['name'],\n",
    "                             i['metrics'][0]) for i in json_data['data']], \n",
    "                           columns=['date', 'visits'])"
   ]
  },
  {
   "cell_type": "markdown",
   "metadata": {},
   "source": [
    "### Telegram"
   ]
  },
  {
   "cell_type": "markdown",
   "metadata": {},
   "source": [
    "Воспользуйтесь username бота (или ссылкой на него), полученным от Botfather, начните диалог и отправьте ему что-нибудь. \n",
    "Затем введите в браузере ссылку вида\n",
    "https://api.telegram.org/bot{token}/getUpdates\n",
    "\n",
    "Где вместо <token> будет ваш токен."
   ]
  },
  {
   "cell_type": "markdown",
   "metadata": {},
   "source": [
    "В открывшемся окне вы увидите содержание json файла, где будет содержаться id чата (result > 0 > chat > id). Сохраните его.\n",
    "\n"
   ]
  },
  {
   "cell_type": "markdown",
   "metadata": {},
   "source": [
    "После этого через бота можно посылать сообщения вам с помощью модуля request. \n",
    "Чтобы отправлять сообщения кому-нибудь другому, попросите его начать диалог с ботом, и повторите операцию с просмотром страницы, чтобы выяснить id чата."
   ]
  },
  {
   "cell_type": "code",
   "execution_count": 8,
   "metadata": {},
   "outputs": [],
   "source": [
    "# Прокси\n",
    "# Для обхода блокировки в коде используются прокси. \n",
    "# Помните, что их работа, к сожалению, нестабильна – может быть долгий отклик и программа будет долго выполняться, \n",
    "# или они могут отрубать доступ из-за большого числа запросов. \n",
    "# В таких случаях нужно брать другое прокси. \n",
    "# Для Telegram нужны https прокси. К счастью, пока телеграм разбанен, всё работает без прокси:"
   ]
  },
  {
   "cell_type": "markdown",
   "metadata": {},
   "source": [
    "Отправка сообщений"
   ]
  },
  {
   "cell_type": "code",
   "execution_count": 9,
   "metadata": {},
   "outputs": [],
   "source": [
    "import requests\n",
    "import json\n",
    "from urllib.parse import urlencode\n",
    "\n",
    "\n",
    "token = '******'\n",
    "chat_id = 724965106  # your chat id\n",
    "\n",
    "message = 'красиво'  # text which you want to send\n",
    "\n",
    "params = {'chat_id': chat_id, 'text': message}\n",
    "\n",
    "base_url = f'https://api.telegram.org/bot{token}/'\n",
    "url = base_url + 'sendMessage?' + urlencode(params)\n",
    "# Only if you need it\n",
    "# proxy = {'https': 'https://77.48.23.199:57842'}\n",
    "\n",
    "# To send request via proxy\n",
    "# resp = requests.get(url, proxies=proxy)\n",
    "resp = requests.get(url)"
   ]
  },
  {
   "cell_type": "code",
   "execution_count": 2,
   "metadata": {},
   "outputs": [
    {
     "data": {
      "text/plain": [
       "{'ok': True,\n",
       " 'result': {'message_id': 6,\n",
       "  'from': {'id': 5927447872,\n",
       "   'is_bot': True,\n",
       "   'first_name': 'Vot_eto_da',\n",
       "   'username': 'annaeremina96_bot'},\n",
       "  'chat': {'id': 724965106,\n",
       "   'first_name': 'Анна',\n",
       "   'last_name': 'Еремина',\n",
       "   'username': 'anermn',\n",
       "   'type': 'private'},\n",
       "  'date': 1692876220,\n",
       "  'text': 'красиво'}}"
      ]
     },
     "execution_count": 2,
     "metadata": {},
     "output_type": "execute_result"
    }
   ],
   "source": [
    "resp.json()"
   ]
  },
  {
   "cell_type": "code",
   "execution_count": 3,
   "metadata": {},
   "outputs": [],
   "source": [
    "# chat_id = resp.json()['result'][0]['message']['chat']['id']"
   ]
  },
  {
   "cell_type": "code",
   "execution_count": 5,
   "metadata": {},
   "outputs": [
    {
     "data": {
      "text/plain": [
       "'{\"ok\":true,\"result\":{\"message_id\":6,\"from\":{\"id\":5927447872,\"is_bot\":true,\"first_name\":\"Vot_eto_da\",\"username\":\"annaeremina96_bot\"},\"chat\":{\"id\":724965106,\"first_name\":\"\\\\u0410\\\\u043d\\\\u043d\\\\u0430\",\"last_name\":\"\\\\u0415\\\\u0440\\\\u0435\\\\u043c\\\\u0438\\\\u043d\\\\u0430\",\"username\":\"anermn\",\"type\":\"private\"},\"date\":1692876220,\"text\":\"\\\\u043a\\\\u0440\\\\u0430\\\\u0441\\\\u0438\\\\u0432\\\\u043e\"}}'"
      ]
     },
     "execution_count": 5,
     "metadata": {},
     "output_type": "execute_result"
    }
   ],
   "source": [
    "resp.text"
   ]
  },
  {
   "cell_type": "markdown",
   "metadata": {},
   "source": [
    "Отправка документов"
   ]
  },
  {
   "cell_type": "code",
   "execution_count": 10,
   "metadata": {},
   "outputs": [],
   "source": [
    "# Path to necessary file\n",
    "filepath = '/mnt/HC_Volume_18315164/home-jupyter/jupyter-a-eremina/lesson_7/top_ctr_data.csv'\n",
    "\n",
    "url = base_url + 'sendDocument?' + urlencode(params)\n",
    "\n",
    "files = {'document': open(filepath, 'rb')}\n",
    "\n",
    "# If you need proxy\n",
    "# resp = requests.get(url, files=files, proxies=proxy)\n",
    "resp = requests.get(url, files=files)"
   ]
  }
 ],
 "metadata": {
  "kernelspec": {
   "display_name": "Python 3",
   "language": "python",
   "name": "python3"
  },
  "language_info": {
   "codemirror_mode": {
    "name": "ipython",
    "version": 3
   },
   "file_extension": ".py",
   "mimetype": "text/x-python",
   "name": "python",
   "nbconvert_exporter": "python",
   "pygments_lexer": "ipython3",
   "version": "3.7.3"
  }
 },
 "nbformat": 4,
 "nbformat_minor": 4
}
