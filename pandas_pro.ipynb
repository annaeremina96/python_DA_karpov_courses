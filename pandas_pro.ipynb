{
 "cells": [
  {
   "cell_type": "markdown",
   "metadata": {},
   "source": [
    "# Продвинутые темы pandas \n",
    "- Ускоряем и оптимизируем панд\n",
    "- Shape of data, или работа с таблицами\n",
    "- Управляем временем\n",
    "- Стильный урок"
   ]
  },
  {
   "cell_type": "markdown",
   "metadata": {},
   "source": [
    "### Ускоряем и оптимизируем панд"
   ]
  },
  {
   "cell_type": "markdown",
   "metadata": {},
   "source": [
    "Cпособы итерации по датафреймам и применение операции к каждому элементу.\n",
    "\n",
    "Определение эффективности вариантов."
   ]
  },
  {
   "cell_type": "markdown",
   "metadata": {},
   "source": [
    "**Первый метод — pd.iterrows().**\n",
    "На каждой итерации возвращает строку датафрейма в виде пар (index, series), где первый элемент является индексом, а содержимое самого ряда представляется в виде Series. Таким образом, можно использовать его в цикле"
   ]
  },
  {
   "cell_type": "code",
   "execution_count": 28,
   "metadata": {},
   "outputs": [],
   "source": [
    "import pandas as pd\n",
    "import numpy as np\n",
    "\n",
    "import seaborn as sns\n",
    "import matplotlib.pyplot as plt\n",
    "%matplotlib inline "
   ]
  },
  {
   "cell_type": "code",
   "execution_count": 3,
   "metadata": {},
   "outputs": [],
   "source": [
    "df = pd.read_csv('/mnt/HC_Volume_18315164/home-jupyter/jupyter-a-eremina/lesson_1/money_by_city.csv')"
   ]
  },
  {
   "cell_type": "code",
   "execution_count": 4,
   "metadata": {},
   "outputs": [
    {
     "data": {
      "text/html": [
       "<div>\n",
       "<style scoped>\n",
       "    .dataframe tbody tr th:only-of-type {\n",
       "        vertical-align: middle;\n",
       "    }\n",
       "\n",
       "    .dataframe tbody tr th {\n",
       "        vertical-align: top;\n",
       "    }\n",
       "\n",
       "    .dataframe thead th {\n",
       "        text-align: right;\n",
       "    }\n",
       "</style>\n",
       "<table border=\"1\" class=\"dataframe\">\n",
       "  <thead>\n",
       "    <tr style=\"text-align: right;\">\n",
       "      <th></th>\n",
       "      <th>title</th>\n",
       "      <th>money</th>\n",
       "      <th>number</th>\n",
       "    </tr>\n",
       "  </thead>\n",
       "  <tbody>\n",
       "    <tr>\n",
       "      <th>0</th>\n",
       "      <td>Подписка «ОНЛАЙН ДИЕТОЛОГ» с ежемесячным автос...</td>\n",
       "      <td>366947.20</td>\n",
       "      <td>125</td>\n",
       "    </tr>\n",
       "    <tr>\n",
       "      <th>1</th>\n",
       "      <td>Курс обучения «Консультант»</td>\n",
       "      <td>208163.49</td>\n",
       "      <td>31</td>\n",
       "    </tr>\n",
       "    <tr>\n",
       "      <th>2</th>\n",
       "      <td>Курс обучения «Специалист»</td>\n",
       "      <td>160862.64</td>\n",
       "      <td>7</td>\n",
       "    </tr>\n",
       "    <tr>\n",
       "      <th>3</th>\n",
       "      <td>Курс обучения «Эксперт»</td>\n",
       "      <td>148992.80</td>\n",
       "      <td>5</td>\n",
       "    </tr>\n",
       "    <tr>\n",
       "      <th>4</th>\n",
       "      <td>Курс от Школы Диетологов. Повышение квалификац...</td>\n",
       "      <td>88384.92</td>\n",
       "      <td>9</td>\n",
       "    </tr>\n",
       "  </tbody>\n",
       "</table>\n",
       "</div>"
      ],
      "text/plain": [
       "                                               title      money  number\n",
       "0  Подписка «ОНЛАЙН ДИЕТОЛОГ» с ежемесячным автос...  366947.20     125\n",
       "1                        Курс обучения «Консультант»  208163.49      31\n",
       "2                         Курс обучения «Специалист»  160862.64       7\n",
       "3                            Курс обучения «Эксперт»  148992.80       5\n",
       "4  Курс от Школы Диетологов. Повышение квалификац...   88384.92       9"
      ]
     },
     "execution_count": 4,
     "metadata": {},
     "output_type": "execute_result"
    }
   ],
   "source": [
    "df.head()"
   ]
  },
  {
   "cell_type": "code",
   "execution_count": 5,
   "metadata": {},
   "outputs": [
    {
     "name": "stdout",
     "output_type": "stream",
     "text": [
      "Тип индекса: <class 'int'>,\n",
      "Тип содержимого строки: <class 'pandas.core.series.Series'>\n"
     ]
    }
   ],
   "source": [
    "for index, row in df[:1].iterrows():\n",
    "    print(f\"Тип индекса: {type(index)},\\nТип содержимого строки: {type(row)}\")"
   ]
  },
  {
   "cell_type": "markdown",
   "metadata": {},
   "source": [
    "Посмотрим, в каком формате возвращается содержимое строки:"
   ]
  },
  {
   "cell_type": "code",
   "execution_count": 6,
   "metadata": {},
   "outputs": [
    {
     "name": "stdout",
     "output_type": "stream",
     "text": [
      "Индекс: 0,\n",
      "Содержимое строки:\n",
      "title     Подписка «ОНЛАЙН ДИЕТОЛОГ» с ежемесячным автос...\n",
      "money                                                366947\n",
      "number                                                  125\n",
      "Name: 0, dtype: object\n",
      "\n",
      "Индекс: 1,\n",
      "Содержимое строки:\n",
      "title     Курс обучения «Консультант»\n",
      "money                          208163\n",
      "number                             31\n",
      "Name: 1, dtype: object\n",
      "\n"
     ]
    }
   ],
   "source": [
    "for index, row in df[:2].iterrows():\n",
    "    print(\"Индекс: {},\\nСодержимое строки:\\n{}\\n\".format(index, row))"
   ]
  },
  {
   "cell_type": "markdown",
   "metadata": {},
   "source": [
    "К конкретным колонкам тоже можно обратиться. Так, выведем индекс и число для первых трех наблюдений:"
   ]
  },
  {
   "cell_type": "code",
   "execution_count": 7,
   "metadata": {},
   "outputs": [
    {
     "name": "stdout",
     "output_type": "stream",
     "text": [
      "Индекс 0; Число: 125\n",
      "Индекс 1; Число: 31\n",
      "Индекс 2; Число: 7\n"
     ]
    }
   ],
   "source": [
    "for index, row in df[:3].iterrows():\n",
    "    print(\"Индекс {}; Число: {}\".format(index, row['number']))"
   ]
  },
  {
   "cell_type": "markdown",
   "metadata": {},
   "source": [
    "Этот метод является одним из наименее эффективных. Тем не менее, работает быстрее, чем самые обычные циклы."
   ]
  },
  {
   "cell_type": "markdown",
   "metadata": {},
   "source": [
    "**Представьте, что вы аналитик в сервисе такси.** Нужно написать функцию haversine для подсчета расстояния между пунктами отправления и прибытия и, используя  pd.iterrows(), создать колонку distance с подсчитанным расстоянием. "
   ]
  },
  {
   "cell_type": "code",
   "execution_count": 8,
   "metadata": {},
   "outputs": [],
   "source": [
    "nyc = pd.read_csv('/mnt/HC_Volume_18315164/home-jupyter/jupyter-a-eremina/lesson_8/nyc.csv.zip', compression='zip')"
   ]
  },
  {
   "cell_type": "code",
   "execution_count": 9,
   "metadata": {},
   "outputs": [
    {
     "data": {
      "text/html": [
       "<div>\n",
       "<style scoped>\n",
       "    .dataframe tbody tr th:only-of-type {\n",
       "        vertical-align: middle;\n",
       "    }\n",
       "\n",
       "    .dataframe tbody tr th {\n",
       "        vertical-align: top;\n",
       "    }\n",
       "\n",
       "    .dataframe thead th {\n",
       "        text-align: right;\n",
       "    }\n",
       "</style>\n",
       "<table border=\"1\" class=\"dataframe\">\n",
       "  <thead>\n",
       "    <tr style=\"text-align: right;\">\n",
       "      <th></th>\n",
       "      <th>key</th>\n",
       "      <th>fare_amount</th>\n",
       "      <th>pickup_datetime</th>\n",
       "      <th>pickup_longitude</th>\n",
       "      <th>pickup_latitude</th>\n",
       "      <th>dropoff_longitude</th>\n",
       "      <th>dropoff_latitude</th>\n",
       "      <th>passenger_count</th>\n",
       "    </tr>\n",
       "  </thead>\n",
       "  <tbody>\n",
       "    <tr>\n",
       "      <th>0</th>\n",
       "      <td>2009-06-15 17:26:21.0000001</td>\n",
       "      <td>4.5</td>\n",
       "      <td>2009-06-15 17:26:21 UTC</td>\n",
       "      <td>-73.844311</td>\n",
       "      <td>40.721319</td>\n",
       "      <td>-73.841610</td>\n",
       "      <td>40.712278</td>\n",
       "      <td>1</td>\n",
       "    </tr>\n",
       "    <tr>\n",
       "      <th>1</th>\n",
       "      <td>2010-01-05 16:52:16.0000002</td>\n",
       "      <td>16.9</td>\n",
       "      <td>2010-01-05 16:52:16 UTC</td>\n",
       "      <td>-74.016048</td>\n",
       "      <td>40.711303</td>\n",
       "      <td>-73.979268</td>\n",
       "      <td>40.782004</td>\n",
       "      <td>1</td>\n",
       "    </tr>\n",
       "    <tr>\n",
       "      <th>2</th>\n",
       "      <td>2011-08-18 00:35:00.00000049</td>\n",
       "      <td>5.7</td>\n",
       "      <td>2011-08-18 00:35:00 UTC</td>\n",
       "      <td>-73.982738</td>\n",
       "      <td>40.761270</td>\n",
       "      <td>-73.991242</td>\n",
       "      <td>40.750562</td>\n",
       "      <td>2</td>\n",
       "    </tr>\n",
       "    <tr>\n",
       "      <th>3</th>\n",
       "      <td>2012-04-21 04:30:42.0000001</td>\n",
       "      <td>7.7</td>\n",
       "      <td>2012-04-21 04:30:42 UTC</td>\n",
       "      <td>-73.987130</td>\n",
       "      <td>40.733143</td>\n",
       "      <td>-73.991567</td>\n",
       "      <td>40.758092</td>\n",
       "      <td>1</td>\n",
       "    </tr>\n",
       "    <tr>\n",
       "      <th>4</th>\n",
       "      <td>2010-03-09 07:51:00.000000135</td>\n",
       "      <td>5.3</td>\n",
       "      <td>2010-03-09 07:51:00 UTC</td>\n",
       "      <td>-73.968095</td>\n",
       "      <td>40.768008</td>\n",
       "      <td>-73.956655</td>\n",
       "      <td>40.783762</td>\n",
       "      <td>1</td>\n",
       "    </tr>\n",
       "  </tbody>\n",
       "</table>\n",
       "</div>"
      ],
      "text/plain": [
       "                             key  fare_amount          pickup_datetime  \\\n",
       "0    2009-06-15 17:26:21.0000001          4.5  2009-06-15 17:26:21 UTC   \n",
       "1    2010-01-05 16:52:16.0000002         16.9  2010-01-05 16:52:16 UTC   \n",
       "2   2011-08-18 00:35:00.00000049          5.7  2011-08-18 00:35:00 UTC   \n",
       "3    2012-04-21 04:30:42.0000001          7.7  2012-04-21 04:30:42 UTC   \n",
       "4  2010-03-09 07:51:00.000000135          5.3  2010-03-09 07:51:00 UTC   \n",
       "\n",
       "   pickup_longitude  pickup_latitude  dropoff_longitude  dropoff_latitude  \\\n",
       "0        -73.844311        40.721319         -73.841610         40.712278   \n",
       "1        -74.016048        40.711303         -73.979268         40.782004   \n",
       "2        -73.982738        40.761270         -73.991242         40.750562   \n",
       "3        -73.987130        40.733143         -73.991567         40.758092   \n",
       "4        -73.968095        40.768008         -73.956655         40.783762   \n",
       "\n",
       "   passenger_count  \n",
       "0                1  \n",
       "1                1  \n",
       "2                2  \n",
       "3                1  \n",
       "4                1  "
      ]
     },
     "execution_count": 9,
     "metadata": {},
     "output_type": "execute_result"
    }
   ],
   "source": [
    "nyc.head()"
   ]
  },
  {
   "cell_type": "markdown",
   "metadata": {},
   "source": [
    "- pickup_datetime — дата начала поездки\n",
    "- pickup_longitude — долгота исходного местоположения\n",
    "- pickup_latitude — широта исходного местоположения\n",
    "- dropoff_longitude — долгота пункта назначения\n",
    "- dropoff_latitude — широта пункта назначения\n",
    "- fare_amount — стоимость поездки в долларах \n",
    "- passenger_count — число пассажиров"
   ]
  },
  {
   "cell_type": "markdown",
   "metadata": {},
   "source": [
    "Сама функция haversine() должна принимать на вход 5 параметров, один из которых должен иметь значение по умолчанию."
   ]
  },
  {
   "cell_type": "markdown",
   "metadata": {},
   "source": [
    "Чтобы оценить скорость выполнения операции, воспользуйтесь magic-функцией %timeit (или %%time), поместив её в начало ячейки. \n",
    "В дальнейшем результаты её выполнения позволят нам сравнить изученные методы и понять, какой из них справляется быстрее."
   ]
  },
  {
   "cell_type": "code",
   "execution_count": 10,
   "metadata": {},
   "outputs": [],
   "source": [
    "def haversine(q1, q2, l1, l2, radius=6371):\n",
    "    q1, q2, l1, l2 = map(np.radians, [q1, q2, l1, l2])\n",
    "    diff_q = q2 - q1\n",
    "    diff_l = l2 - l1 \n",
    "    a = np.sin(diff_q/2)**2 + np.cos(q1) * np.cos(q2) * np.sin(diff_l/2)**2\n",
    "    c = 2 * np.arcsin(np.sqrt(a))\n",
    "    d = radius * c \n",
    "    return d"
   ]
  },
  {
   "cell_type": "code",
   "execution_count": 11,
   "metadata": {},
   "outputs": [],
   "source": [
    "# Саму функцию можно применить как используя обычный цикл\n",
    "\n",
    "# dists = [ ]\n",
    "# for i, row in df.iterrows():\n",
    "#     dists.append(haversine(row['...'], ..., ..., ...))\n",
    "# df['distance'] = dists"
   ]
  },
  {
   "cell_type": "code",
   "execution_count": 12,
   "metadata": {},
   "outputs": [],
   "source": [
    "# так и используя более компактный вариант:"
   ]
  },
  {
   "cell_type": "code",
   "execution_count": 13,
   "metadata": {},
   "outputs": [
    {
     "name": "stdout",
     "output_type": "stream",
     "text": [
      "CPU times: user 5.83 s, sys: 0 ns, total: 5.83 s\n",
      "Wall time: 5.83 s\n"
     ]
    }
   ],
   "source": [
    "%%time\n",
    "nyc['distance'] = pd.Series(haversine(row['dropoff_latitude'], \n",
    "                                      row['pickup_latitude'], \n",
    "                                      row['dropoff_longitude'], \n",
    "                                      row['pickup_longitude']) for i, row in nyc.iterrows())"
   ]
  },
  {
   "cell_type": "code",
   "execution_count": 14,
   "metadata": {},
   "outputs": [
    {
     "data": {
      "text/html": [
       "<div>\n",
       "<style scoped>\n",
       "    .dataframe tbody tr th:only-of-type {\n",
       "        vertical-align: middle;\n",
       "    }\n",
       "\n",
       "    .dataframe tbody tr th {\n",
       "        vertical-align: top;\n",
       "    }\n",
       "\n",
       "    .dataframe thead th {\n",
       "        text-align: right;\n",
       "    }\n",
       "</style>\n",
       "<table border=\"1\" class=\"dataframe\">\n",
       "  <thead>\n",
       "    <tr style=\"text-align: right;\">\n",
       "      <th></th>\n",
       "      <th>key</th>\n",
       "      <th>fare_amount</th>\n",
       "      <th>pickup_datetime</th>\n",
       "      <th>pickup_longitude</th>\n",
       "      <th>pickup_latitude</th>\n",
       "      <th>dropoff_longitude</th>\n",
       "      <th>dropoff_latitude</th>\n",
       "      <th>passenger_count</th>\n",
       "      <th>distance</th>\n",
       "    </tr>\n",
       "  </thead>\n",
       "  <tbody>\n",
       "    <tr>\n",
       "      <th>0</th>\n",
       "      <td>2009-06-15 17:26:21.0000001</td>\n",
       "      <td>4.5</td>\n",
       "      <td>2009-06-15 17:26:21 UTC</td>\n",
       "      <td>-73.844311</td>\n",
       "      <td>40.721319</td>\n",
       "      <td>-73.841610</td>\n",
       "      <td>40.712278</td>\n",
       "      <td>1</td>\n",
       "      <td>1.030764</td>\n",
       "    </tr>\n",
       "    <tr>\n",
       "      <th>1</th>\n",
       "      <td>2010-01-05 16:52:16.0000002</td>\n",
       "      <td>16.9</td>\n",
       "      <td>2010-01-05 16:52:16 UTC</td>\n",
       "      <td>-74.016048</td>\n",
       "      <td>40.711303</td>\n",
       "      <td>-73.979268</td>\n",
       "      <td>40.782004</td>\n",
       "      <td>1</td>\n",
       "      <td>8.450134</td>\n",
       "    </tr>\n",
       "    <tr>\n",
       "      <th>2</th>\n",
       "      <td>2011-08-18 00:35:00.00000049</td>\n",
       "      <td>5.7</td>\n",
       "      <td>2011-08-18 00:35:00 UTC</td>\n",
       "      <td>-73.982738</td>\n",
       "      <td>40.761270</td>\n",
       "      <td>-73.991242</td>\n",
       "      <td>40.750562</td>\n",
       "      <td>2</td>\n",
       "      <td>1.389525</td>\n",
       "    </tr>\n",
       "    <tr>\n",
       "      <th>3</th>\n",
       "      <td>2012-04-21 04:30:42.0000001</td>\n",
       "      <td>7.7</td>\n",
       "      <td>2012-04-21 04:30:42 UTC</td>\n",
       "      <td>-73.987130</td>\n",
       "      <td>40.733143</td>\n",
       "      <td>-73.991567</td>\n",
       "      <td>40.758092</td>\n",
       "      <td>1</td>\n",
       "      <td>2.799270</td>\n",
       "    </tr>\n",
       "    <tr>\n",
       "      <th>4</th>\n",
       "      <td>2010-03-09 07:51:00.000000135</td>\n",
       "      <td>5.3</td>\n",
       "      <td>2010-03-09 07:51:00 UTC</td>\n",
       "      <td>-73.968095</td>\n",
       "      <td>40.768008</td>\n",
       "      <td>-73.956655</td>\n",
       "      <td>40.783762</td>\n",
       "      <td>1</td>\n",
       "      <td>1.999157</td>\n",
       "    </tr>\n",
       "  </tbody>\n",
       "</table>\n",
       "</div>"
      ],
      "text/plain": [
       "                             key  fare_amount          pickup_datetime  \\\n",
       "0    2009-06-15 17:26:21.0000001          4.5  2009-06-15 17:26:21 UTC   \n",
       "1    2010-01-05 16:52:16.0000002         16.9  2010-01-05 16:52:16 UTC   \n",
       "2   2011-08-18 00:35:00.00000049          5.7  2011-08-18 00:35:00 UTC   \n",
       "3    2012-04-21 04:30:42.0000001          7.7  2012-04-21 04:30:42 UTC   \n",
       "4  2010-03-09 07:51:00.000000135          5.3  2010-03-09 07:51:00 UTC   \n",
       "\n",
       "   pickup_longitude  pickup_latitude  dropoff_longitude  dropoff_latitude  \\\n",
       "0        -73.844311        40.721319         -73.841610         40.712278   \n",
       "1        -74.016048        40.711303         -73.979268         40.782004   \n",
       "2        -73.982738        40.761270         -73.991242         40.750562   \n",
       "3        -73.987130        40.733143         -73.991567         40.758092   \n",
       "4        -73.968095        40.768008         -73.956655         40.783762   \n",
       "\n",
       "   passenger_count  distance  \n",
       "0                1  1.030764  \n",
       "1                1  8.450134  \n",
       "2                2  1.389525  \n",
       "3                1  2.799270  \n",
       "4                1  1.999157  "
      ]
     },
     "execution_count": 14,
     "metadata": {},
     "output_type": "execute_result"
    }
   ],
   "source": [
    "nyc.head()"
   ]
  },
  {
   "cell_type": "markdown",
   "metadata": {},
   "source": [
    "Еще один метод **pd.itertuples** на каждой итерации возвращает именованный кортеж (named tuple) для каждой строки датафрейма. \n",
    "Параметр index по умолчанию равен True, поэтому первым элементом кортежа следует индекс, далее — содержимое строки. "
   ]
  },
  {
   "cell_type": "markdown",
   "metadata": {},
   "source": [
    "Обратите внимание, что, в отличие от первого метода, строка возвращается уже не как Series:"
   ]
  },
  {
   "cell_type": "code",
   "execution_count": 15,
   "metadata": {},
   "outputs": [
    {
     "name": "stdout",
     "output_type": "stream",
     "text": [
      "Тип содержимого: <class 'pandas.core.frame.ride'>\n"
     ]
    }
   ],
   "source": [
    "for row in nyc[:1].itertuples(name='ride'):  # исп. \"ride\" как название кортежей\n",
    "    print(f\"Тип содержимого: {type(row)}\")"
   ]
  },
  {
   "cell_type": "code",
   "execution_count": 16,
   "metadata": {},
   "outputs": [
    {
     "name": "stdout",
     "output_type": "stream",
     "text": [
      "custom_name(Index=0, key='2009-06-15 17:26:21.0000001', fare_amount=4.5, pickup_datetime='2009-06-15 17:26:21 UTC', pickup_longitude=-73.844311, pickup_latitude=40.721319, dropoff_longitude=-73.84161, dropoff_latitude=40.71227800000001, passenger_count=1, distance=1.0307639350481281)\n",
      "custom_name(Index=1, key='2010-01-05 16:52:16.0000002', fare_amount=16.9, pickup_datetime='2010-01-05 16:52:16 UTC', pickup_longitude=-74.016048, pickup_latitude=40.711303, dropoff_longitude=-73.979268, dropoff_latitude=40.782004, passenger_count=1, distance=8.450133595805992)\n",
      "custom_name(Index=2, key='2011-08-18 00:35:00.00000049', fare_amount=5.7, pickup_datetime='2011-08-18 00:35:00 UTC', pickup_longitude=-73.982738, pickup_latitude=40.76127, dropoff_longitude=-73.991242, dropoff_latitude=40.750562, passenger_count=2, distance=1.3895252257697308)\n"
     ]
    }
   ],
   "source": [
    "for row in nyc[:3].itertuples(name='custom_name'):\n",
    "    print(row)"
   ]
  },
  {
   "cell_type": "markdown",
   "metadata": {},
   "source": [
    "Индекс и число пассажиров для первых трех наблюдений:"
   ]
  },
  {
   "cell_type": "code",
   "execution_count": 17,
   "metadata": {},
   "outputs": [
    {
     "name": "stdout",
     "output_type": "stream",
     "text": [
      "Индекс 0; Число пассажиров: 1\n",
      "Индекс 1; Число пассажиров: 1\n",
      "Индекс 2; Число пассажиров: 2\n"
     ]
    }
   ],
   "source": [
    "for row in nyc[:3].itertuples():\n",
    "    print(\"Индекс {}; Число пассажиров: {}\".format(row.Index, row.passenger_count))"
   ]
  },
  {
   "cell_type": "markdown",
   "metadata": {},
   "source": [
    "Проделайте ту же операцию, что и в предыдущем шаге, но уже используя pd.itertuples(), а затем сравните время выполнения."
   ]
  },
  {
   "cell_type": "code",
   "execution_count": 18,
   "metadata": {},
   "outputs": [
    {
     "name": "stdout",
     "output_type": "stream",
     "text": [
      "CPU times: user 907 ms, sys: 0 ns, total: 907 ms\n",
      "Wall time: 907 ms\n"
     ]
    }
   ],
   "source": [
    "%%time\n",
    "nyc['distance'] = pd.Series(haversine(row.dropoff_latitude, \n",
    "                                      row.pickup_latitude, \n",
    "                                      row.dropoff_longitude, \n",
    "                                      row.pickup_longitude) for row in nyc.itertuples())"
   ]
  },
  {
   "cell_type": "code",
   "execution_count": 19,
   "metadata": {},
   "outputs": [
    {
     "name": "stdout",
     "output_type": "stream",
     "text": [
      "custom_name(Index=0, key='2009-06-15 17:26:21.0000001', fare_amount=4.5, pickup_datetime='2009-06-15 17:26:21 UTC', pickup_longitude=-73.844311, pickup_latitude=40.721319, dropoff_longitude=-73.84161, dropoff_latitude=40.71227800000001, passenger_count=1, distance=1.0307639350481281)\n",
      "custom_name(Index=1, key='2010-01-05 16:52:16.0000002', fare_amount=16.9, pickup_datetime='2010-01-05 16:52:16 UTC', pickup_longitude=-74.016048, pickup_latitude=40.711303, dropoff_longitude=-73.979268, dropoff_latitude=40.782004, passenger_count=1, distance=8.450133595805992)\n",
      "custom_name(Index=2, key='2011-08-18 00:35:00.00000049', fare_amount=5.7, pickup_datetime='2011-08-18 00:35:00 UTC', pickup_longitude=-73.982738, pickup_latitude=40.76127, dropoff_longitude=-73.991242, dropoff_latitude=40.750562, passenger_count=2, distance=1.3895252257697308)\n"
     ]
    }
   ],
   "source": [
    "for row in nyc[:3].itertuples(name='custom_name'):\n",
    "    print(row)"
   ]
  },
  {
   "cell_type": "markdown",
   "metadata": {},
   "source": [
    "Метод **pd.apply()** применяет заданную функцию вдоль определенной оси (axis=0 – строки; axis=1 – столбцы) и является более эффективным способом, чем pd.iterrows() за счет использования внутренних оптимизаций в pandas. \n",
    "Тем не менее, все равно подразумевает итерацию по всем рядам."
   ]
  },
  {
   "cell_type": "code",
   "execution_count": 20,
   "metadata": {},
   "outputs": [],
   "source": [
    "# df['distance'] = df[['col1', 'col2', 'col3', 'col4']].apply(lambda row: haversine(row[0], row[1], row[2], row[3]), axis=1)"
   ]
  },
  {
   "cell_type": "code",
   "execution_count": 21,
   "metadata": {},
   "outputs": [],
   "source": [
    "# более медленный вариант\n",
    "# df['distance'] = df.apply(lambda x: haversine(x['col1'], x['col2'], x['col3'], x['col4']), axis=1)"
   ]
  },
  {
   "cell_type": "markdown",
   "metadata": {},
   "source": [
    "В столбец distance датафрейма nyc сохраните результат подсчета расстояния между точками отправки и прибытия, \n",
    "используя написанную ранее функцию. В переменную longest сохраните самое большое расстояние"
   ]
  },
  {
   "cell_type": "code",
   "execution_count": 22,
   "metadata": {},
   "outputs": [
    {
     "name": "stdout",
     "output_type": "stream",
     "text": [
      "CPU times: user 1.78 s, sys: 0 ns, total: 1.78 s\n",
      "Wall time: 1.78 s\n"
     ]
    }
   ],
   "source": [
    "%%time\n",
    "nyc['distance'] = (nyc[['dropoff_latitude', 'pickup_latitude', 'dropoff_longitude', 'pickup_longitude']]\n",
    "                  .apply(lambda row: haversine(row[0], row[1], row[2], row[3]), axis=1)\n",
    "                  )\n",
    "# более медленный вариант\n",
    "# nyc['distance'] = nyc.apply(lambda x: haversine(x['dropoff_latitude'], x['pickup_latitude'], x['dropoff_longitude'], x['pickup_longitude']), axis=1)"
   ]
  },
  {
   "cell_type": "code",
   "execution_count": 23,
   "metadata": {},
   "outputs": [
    {
     "data": {
      "text/plain": [
       "8667.818812217458"
      ]
     },
     "execution_count": 23,
     "metadata": {},
     "output_type": "execute_result"
    }
   ],
   "source": [
    "longest = nyc.distance.max()\n",
    "longest"
   ]
  },
  {
   "cell_type": "markdown",
   "metadata": {},
   "source": [
    "В целом, itertuples — это именно то, что нам нужно! Но есть пара моментов.\n",
    "\n",
    "Оказывается, в нашем случае itertuples — не предел. На всех предыдущих шагах мы использовали циклы, что не очень хорошо. \n",
    "\n",
    "Базовые объекты в pandas — Series и DataFrame, которые представляют собой одномерные и двумерные массивы (arrays). Так, векторизация — процесс выполнения операций над массивами. В pandas есть большой набор векторизованных функций, и их использование во многих случаях предпочтительнее обычных циклов, поскольку они предназначены для работы именно с Series. \n",
    "К таким функциям относятся, например, sum и agg.  \n",
    "\n",
    "С помощью векторизации можно получить ещё большее ускорение, значительно уменьшив количество итераций. Иными словами, действия будут происходят сразу над всей серией, а не над каждым элементом по отдельности."
   ]
  },
  {
   "cell_type": "markdown",
   "metadata": {},
   "source": [
    "Изменения в коде весьма незначительны: передаем функции на вход необходимые колонки, и получается магия!"
   ]
  },
  {
   "cell_type": "code",
   "execution_count": 24,
   "metadata": {},
   "outputs": [],
   "source": [
    "# df['distance'] = haversine(df['col1'], df['col2'], df['col3'], df['col4'])"
   ]
  },
  {
   "cell_type": "code",
   "execution_count": 25,
   "metadata": {},
   "outputs": [
    {
     "name": "stdout",
     "output_type": "stream",
     "text": [
      "CPU times: user 25.9 ms, sys: 10 µs, total: 25.9 ms\n",
      "Wall time: 24.1 ms\n"
     ]
    }
   ],
   "source": [
    "%%time\n",
    "nyc['distance'] = haversine(nyc['dropoff_latitude'], nyc['pickup_latitude'], nyc['dropoff_longitude'], nyc['pickup_longitude'])"
   ]
  },
  {
   "cell_type": "markdown",
   "metadata": {},
   "source": [
    "В предыдущем шаге мы передавали функции колонки формата Series, с чем связаны дополнительные вычислительные затраты, например, индексирование и проверка типа данных. \n",
    "\n",
    "Чтобы этого избежать, в качестве аргументов функции можно передать всё те же необходимые колонки, дополнительно указав .values, чтобы из Series получить массив NumPy (numpy array). \n",
    "\n",
    "В таком случае действия будут выполняться непосредственно над ndarrays. Такой способ можно использовать, когда отсутствие индексов и пр. не приведет к нарушению работы применяемой функции. "
   ]
  },
  {
   "cell_type": "code",
   "execution_count": 26,
   "metadata": {},
   "outputs": [
    {
     "name": "stdout",
     "output_type": "stream",
     "text": [
      "CPU times: user 18.1 ms, sys: 76 µs, total: 18.2 ms\n",
      "Wall time: 21.4 ms\n"
     ]
    }
   ],
   "source": [
    "%%time\n",
    "nyc['distance'] = haversine(nyc['dropoff_latitude'].values, nyc['pickup_latitude'].values, nyc['dropoff_longitude'].values, nyc['pickup_longitude'].values)"
   ]
  },
  {
   "cell_type": "markdown",
   "metadata": {},
   "source": [
    "Давайте подробнее посмотрим на информацию о самой длинной поездке в датасете nyc с 50 000 наблюдений. Как вы уже заметили, произошло что-то странное: в качестве широты и долготы стоят нулевые значения, а расстояние — целых 8667 км! Неужели наш пассажир действительно уехал так далеко \n",
    "\n",
    "Посмотрите, есть ли еще кейсы, где в качестве хотя бы одной из координат пункта назначения стоят нули, и в качестве ответа укажите количество таких случаев."
   ]
  },
  {
   "cell_type": "code",
   "execution_count": 27,
   "metadata": {},
   "outputs": [
    {
     "data": {
      "text/plain": [
       "958"
      ]
     },
     "execution_count": 27,
     "metadata": {},
     "output_type": "execute_result"
    }
   ],
   "source": [
    "nyc.query('dropoff_longitude == 0 or dropoff_latitude == 0').shape[0]"
   ]
  },
  {
   "cell_type": "markdown",
   "metadata": {},
   "source": [
    "Постройте графики распределения переменных pickup_latitude, pickup_longitude, dropoff_latitude, dropoff_longitude, и для каждой переменной выберите только один наиболее подходящий вариант для дальнейшей фильтрации данных "
   ]
  },
  {
   "cell_type": "code",
   "execution_count": 29,
   "metadata": {},
   "outputs": [
    {
     "name": "stderr",
     "output_type": "stream",
     "text": [
      "/opt/tljh/user/lib/python3.7/site-packages/seaborn/_decorators.py:43: FutureWarning: Pass the following variable as a keyword arg: x. From version 0.12, the only valid positional argument will be `data`, and passing other arguments without an explicit keyword will result in an error or misinterpretation.\n",
      "  FutureWarning\n",
      "/opt/tljh/user/lib/python3.7/site-packages/seaborn/_decorators.py:43: FutureWarning: Pass the following variable as a keyword arg: x. From version 0.12, the only valid positional argument will be `data`, and passing other arguments without an explicit keyword will result in an error or misinterpretation.\n",
      "  FutureWarning\n",
      "/opt/tljh/user/lib/python3.7/site-packages/seaborn/_decorators.py:43: FutureWarning: Pass the following variable as a keyword arg: x. From version 0.12, the only valid positional argument will be `data`, and passing other arguments without an explicit keyword will result in an error or misinterpretation.\n",
      "  FutureWarning\n",
      "/opt/tljh/user/lib/python3.7/site-packages/seaborn/_decorators.py:43: FutureWarning: Pass the following variable as a keyword arg: x. From version 0.12, the only valid positional argument will be `data`, and passing other arguments without an explicit keyword will result in an error or misinterpretation.\n",
      "  FutureWarning\n"
     ]
    },
    {
     "data": {
      "image/png": "[encoded data removed]",
      "text/plain": [
       "<Figure size 432x288 with 4 Axes>"
      ]
     },
     "metadata": {
      "needs_background": "light"
     },
     "output_type": "display_data"
    }
   ],
   "source": [
    "fig, axes = plt.subplots(ncols = 2, nrows = 2)\n",
    "\n",
    "sns.boxplot(nyc.dropoff_latitude, ax = axes.flatten()[0])\n",
    "sns.boxplot(nyc.pickup_latitude, ax = axes.flatten()[1])\n",
    "sns.boxplot(nyc.dropoff_longitude, ax = axes.flatten()[2])\n",
    "sns.boxplot(nyc.pickup_longitude, ax = axes.flatten()[3])\n",
    "plt.tight_layout()"
   ]
  },
  {
   "cell_type": "markdown",
   "metadata": {},
   "source": [
    "Критерии для фильтрации выбраны, остался последний шаг: отфильтровать имеющиеся данные и наконец-то найти самую дальнюю поездку.\n",
    "\n",
    "Для фильтрации используйте условия из предыдущего степа, а также добавьте еще одно ограничение для переменной distance. \n",
    "Предположим, максимальная удаленность пунктов друг от друга не должна превышать 50 км, иначе такой заказ не будет принят системой, а наличие подобных результатов в таблице будет считаться ошибкой.\n",
    "\n",
    "В качестве ответа укажите сумму, которую заплатил пассажир, проехавший наибольшее расстояние."
   ]
  },
  {
   "cell_type": "code",
   "execution_count": 30,
   "metadata": {},
   "outputs": [
    {
     "data": {
      "text/plain": [
       "136.0"
      ]
     },
     "execution_count": 30,
     "metadata": {},
     "output_type": "execute_result"
    }
   ],
   "source": [
    "# первый вариант\n",
    "nyc_filtered = nyc.query('(10 < pickup_latitude < 120) and (pickup_longitude < -60) and (10 < dropoff_latitude) and (dropoff_longitude < -60) and (distance <= 50)') \\\n",
    "                  .sort_values('distance', ascending=False)\n",
    "longest = nyc_filtered.distance.idxmax()\n",
    "nyc_filtered.loc[longest].fare_amount"
   ]
  },
  {
   "cell_type": "code",
   "execution_count": 31,
   "metadata": {},
   "outputs": [
    {
     "data": {
      "text/plain": [
       "33502    136.0\n",
       "Name: fare_amount, dtype: float64"
      ]
     },
     "execution_count": 31,
     "metadata": {},
     "output_type": "execute_result"
    }
   ],
   "source": [
    "# второй вариант, предпочтительнее, т.к. несколько пассажиров могли проехать одинаковое расстояние, \n",
    "# idxmax вернул бы только 1 индекс\n",
    "nyc_filtered.query('distance == @nyc_filtered.distance.max()').fare_amount"
   ]
  },
  {
   "cell_type": "markdown",
   "metadata": {},
   "source": [
    "### Shape of data, или работа с таблицами"
   ]
  },
  {
   "cell_type": "markdown",
   "metadata": {},
   "source": [
    "Начнем с методов stack и unstack, которые очень похожи на pivot(), и предназначены для работы с MultiIndex"
   ]
  },
  {
   "cell_type": "markdown",
   "metadata": {},
   "source": [
    "**Stack** — помещает уровень столбцов в уровни индекса строк. Результирующий объект – Series.Например, создадим датафрейм из трех колонок:"
   ]
  },
  {
   "cell_type": "code",
   "execution_count": 32,
   "metadata": {},
   "outputs": [
    {
     "data": {
      "text/html": [
       "<div>\n",
       "<style scoped>\n",
       "    .dataframe tbody tr th:only-of-type {\n",
       "        vertical-align: middle;\n",
       "    }\n",
       "\n",
       "    .dataframe tbody tr th {\n",
       "        vertical-align: top;\n",
       "    }\n",
       "\n",
       "    .dataframe thead th {\n",
       "        text-align: right;\n",
       "    }\n",
       "</style>\n",
       "<table border=\"1\" class=\"dataframe\">\n",
       "  <thead>\n",
       "    <tr style=\"text-align: right;\">\n",
       "      <th></th>\n",
       "      <th>col_1</th>\n",
       "      <th>col_2</th>\n",
       "      <th>col_3</th>\n",
       "    </tr>\n",
       "  </thead>\n",
       "  <tbody>\n",
       "    <tr>\n",
       "      <th>0</th>\n",
       "      <td>item_1</td>\n",
       "      <td>1</td>\n",
       "      <td>6</td>\n",
       "    </tr>\n",
       "    <tr>\n",
       "      <th>1</th>\n",
       "      <td>item_2</td>\n",
       "      <td>6</td>\n",
       "      <td>4</td>\n",
       "    </tr>\n",
       "    <tr>\n",
       "      <th>2</th>\n",
       "      <td>item_3</td>\n",
       "      <td>6</td>\n",
       "      <td>7</td>\n",
       "    </tr>\n",
       "    <tr>\n",
       "      <th>3</th>\n",
       "      <td>item_4</td>\n",
       "      <td>9</td>\n",
       "      <td>4</td>\n",
       "    </tr>\n",
       "    <tr>\n",
       "      <th>4</th>\n",
       "      <td>item_5</td>\n",
       "      <td>0</td>\n",
       "      <td>7</td>\n",
       "    </tr>\n",
       "  </tbody>\n",
       "</table>\n",
       "</div>"
      ],
      "text/plain": [
       "    col_1  col_2  col_3\n",
       "0  item_1      1      6\n",
       "1  item_2      6      4\n",
       "2  item_3      6      7\n",
       "3  item_4      9      4\n",
       "4  item_5      0      7"
      ]
     },
     "execution_count": 32,
     "metadata": {},
     "output_type": "execute_result"
    }
   ],
   "source": [
    "np.random.seed(17)\n",
    "df = pd.DataFrame({'col_1':['item_1', 'item_2', 'item_3', 'item_4', 'item_5'], \n",
    "                   'col_2': np.random.randint(0, 10, 5), \n",
    "                   'col_3': np.random.randint(0, 10, 5)})\n",
    "df"
   ]
  },
  {
   "cell_type": "markdown",
   "metadata": {},
   "source": [
    "Применяем .stack():"
   ]
  },
  {
   "cell_type": "code",
   "execution_count": 33,
   "metadata": {},
   "outputs": [
    {
     "data": {
      "text/plain": [
       "0  col_1    item_1\n",
       "   col_2         1\n",
       "   col_3         6\n",
       "1  col_1    item_2\n",
       "   col_2         6\n",
       "   col_3         4\n",
       "2  col_1    item_3\n",
       "   col_2         6\n",
       "   col_3         7\n",
       "3  col_1    item_4\n",
       "   col_2         9\n",
       "   col_3         4\n",
       "4  col_1    item_5\n",
       "   col_2         0\n",
       "   col_3         7\n",
       "dtype: object"
      ]
     },
     "execution_count": 33,
     "metadata": {},
     "output_type": "execute_result"
    }
   ],
   "source": [
    "df_stacked = df.stack()\n",
    "df_stacked"
   ]
  },
  {
   "cell_type": "markdown",
   "metadata": {},
   "source": [
    "Индексам также можно присвоить названия:"
   ]
  },
  {
   "cell_type": "code",
   "execution_count": 34,
   "metadata": {},
   "outputs": [
    {
     "data": {
      "text/plain": [
       "id  column\n",
       "0   col_1     item_1\n",
       "    col_2          1\n",
       "    col_3          6\n",
       "1   col_1     item_2\n",
       "    col_2          6\n",
       "    col_3          4\n",
       "2   col_1     item_3\n",
       "    col_2          6\n",
       "    col_3          7\n",
       "3   col_1     item_4\n",
       "    col_2          9\n",
       "    col_3          4\n",
       "4   col_1     item_5\n",
       "    col_2          0\n",
       "    col_3          7\n",
       "dtype: object"
      ]
     },
     "execution_count": 34,
     "metadata": {},
     "output_type": "execute_result"
    }
   ],
   "source": [
    "df_stacked.index.names = ['id', 'column']\n",
    "df_stacked"
   ]
  },
  {
   "cell_type": "markdown",
   "metadata": {},
   "source": [
    "В качестве аргументов stack можно передать два параметра.\n",
    "- level – отвечает за уровень, по которому будет проведена стыковка\n",
    "- dropna – нужно ли убрать ряды с пропущенными значениями "
   ]
  },
  {
   "cell_type": "markdown",
   "metadata": {},
   "source": [
    "Значения конкретного уровня индексов можно получить используя метод .xs(), передав ему интересующее нас значение индекса и уровень. \n",
    "\n",
    "Например, чтобы вывести все значения для height, в аргументах нужно указать само значение и название столбца с индексами интересующего нас уровня, в данном случае — param."
   ]
  },
  {
   "cell_type": "code",
   "execution_count": 35,
   "metadata": {},
   "outputs": [],
   "source": [
    "# df_stacked_2 = df.stack([0,1])\n",
    "# df_stacked_2.index.names = ['name', 'param', 'param_type']  # присваиваем индексам названия\n",
    "# df_stacked_2"
   ]
  },
  {
   "cell_type": "code",
   "execution_count": 36,
   "metadata": {},
   "outputs": [],
   "source": [
    "# name    param    param_type\n",
    "# Persik  height   new_cm      26.0\n",
    "#         weight   new_kg       3.4\n",
    "# Barsik  height   new_cm      30.0\n",
    "#                  old_cm      25.0\n",
    "#         weight   new_kg       4.1\n",
    "#                  old_kg       3.0\n",
    "# dtype: float64"
   ]
  },
  {
   "cell_type": "code",
   "execution_count": 37,
   "metadata": {},
   "outputs": [],
   "source": [
    "# Достаем все значения роста height из уровня индексов param с помощью xs: \n",
    "# df_stacked_2.xs('height', level='param')\n",
    "\n",
    "# name    param_type\n",
    "# Persik  new_cm        26.0\n",
    "# Barsik  new_cm        30.0\n",
    "#         old_cm        25.0\n",
    "# dtype: float64"
   ]
  },
  {
   "cell_type": "markdown",
   "metadata": {},
   "source": [
    "Попробуем достать значения из колонок исходного датафрейма. Для этого необходимо указать axis=1, далее – уровень и ключ, т.е. название интересующего нас уровня. "
   ]
  },
  {
   "cell_type": "code",
   "execution_count": 38,
   "metadata": {},
   "outputs": [],
   "source": [
    "#                 weight          height    # level 0\n",
    "#         old_kg  new_kg  old_cm  new_cm    # level 1\n",
    "# Persik     NaN     3.4     NaN    26.0\n",
    "# Barsik     3.0     4.1    25.0    30.0"
   ]
  },
  {
   "cell_type": "code",
   "execution_count": 39,
   "metadata": {},
   "outputs": [],
   "source": [
    "# df.xs(axis=1, level=1, key='old_kg')\n",
    "\n",
    "#         weight\n",
    "# Persik     NaN\n",
    "# Barsik     3.0"
   ]
  },
  {
   "cell_type": "code",
   "execution_count": 40,
   "metadata": {},
   "outputs": [],
   "source": [
    "# Старый и новый:\n",
    "# df.xs(axis=1, key='weight')  # в данном случае можно не указывать level, т.к. по умолчанию level=0\n",
    "\n",
    "#         old_kg  new_kg\n",
    "# Persik     NaN     3.4\n",
    "# Barsik     3.0     4.1"
   ]
  },
  {
   "cell_type": "code",
   "execution_count": 41,
   "metadata": {},
   "outputs": [],
   "source": [
    "# Note: Чтобы получить значения из исходного датафрейма, можно также передать кортеж из уровней:\n",
    "\n",
    "# df[('weight', 'old_kg')]\n",
    "\n",
    "# Persik    NaN\n",
    "# Barsik    3.0\n",
    "# Name: (weight, old_kg), dtype: float64"
   ]
  },
  {
   "cell_type": "markdown",
   "metadata": {},
   "source": [
    "Переименование индексов"
   ]
  },
  {
   "cell_type": "code",
   "execution_count": 47,
   "metadata": {},
   "outputs": [],
   "source": [
    "# df.index.set_names(['fisrt', 'second'], inplace=True)\n",
    "# или\n",
    "# df.index.names = ['1st', '2nd']"
   ]
  },
  {
   "cell_type": "markdown",
   "metadata": {},
   "source": [
    "**Unstack (расстыковка)** — операция, противоположная stack, которая помещает уровень индекса строк в уровень оси столбцов."
   ]
  },
  {
   "cell_type": "code",
   "execution_count": 48,
   "metadata": {},
   "outputs": [],
   "source": [
    "# df_stacked_2\n",
    "\n",
    "# name    param    param_type\n",
    "# Persik  height   new_cm      26.0\n",
    "#         weight   new_kg       3.4\n",
    "# Barsik  height   new_cm      30.0\n",
    "#                  old_cm      25.0\n",
    "#         weight   new_kg       4.1\n",
    "#                  old_kg       3.0\n",
    "# dtype: float64"
   ]
  },
  {
   "cell_type": "code",
   "execution_count": 49,
   "metadata": {},
   "outputs": [],
   "source": [
    "# df_stacked_2.unstack(level=1)"
   ]
  },
  {
   "cell_type": "code",
   "execution_count": 50,
   "metadata": {},
   "outputs": [],
   "source": [
    "#         param      height   weight\n",
    "# name    param_type\n",
    "# Persik      new_cm   26.0      NaN\n",
    "#             new_kg    NaN      3.4\n",
    "# Barsik      new_cm   30.0      NaN\n",
    "#             new_kg    NaN      4.1\n",
    "#             old_cm   25.0      NaN\n",
    "#             old_kg    NaN      3.0\n"
   ]
  },
  {
   "cell_type": "markdown",
   "metadata": {},
   "source": [
    "Один из аргументов метода — level, отвечает за уровень, по которому будет проведена расстыковка. Можно передать как число, так и название уровня индексов, если таковое имеется. \n",
    "В данном случае, 0 или \"name\", 1 или \"param\", 2 или \"param_type\"."
   ]
  },
  {
   "cell_type": "code",
   "execution_count": 51,
   "metadata": {},
   "outputs": [],
   "source": [
    "# df_stacked_2.unstack(level='name')\n",
    "\n",
    "#         name        Persik   Barsik\n",
    "# param   param_type\n",
    "# height\tnew_cm        26.0     30.0\n",
    "#         old_cm         NaN     25.0\n",
    "# weight  new_kg         3.4      4.1\n",
    "#         old_kg         NaN      3.0"
   ]
  },
  {
   "cell_type": "code",
   "execution_count": 52,
   "metadata": {},
   "outputs": [],
   "source": [
    "# Для того, чтобы сделать расстыковку по нескольким уровням, необходимо передать список, состоящий либо только из чисел, \n",
    "# либо только из названий. \n",
    "# Поместим параметры в столбцы, а имена оставим в индексах:\n",
    "    \n",
    "# df_stacked_2.unstack(level=['param', 'param_type'])\n",
    "\n",
    "# param       height  weight  height  weight\n",
    "# param_type  new_cm  new_kg  old_cm  old_kg\n",
    "#       name\t\t\t\t\n",
    "#     Persik    26.0     3.4     NaN     NaN\n",
    "#     Barsik    30.0     4.1    25.0     3.0\n"
   ]
  },
  {
   "cell_type": "code",
   "execution_count": 53,
   "metadata": {},
   "outputs": [],
   "source": [
    "pokemon = pd.read_csv('/mnt/HC_Volume_18315164/home-jupyter/jupyter-a-eremina/lesson_8/Pokemon.csv')"
   ]
  },
  {
   "cell_type": "code",
   "execution_count": 54,
   "metadata": {},
   "outputs": [
    {
     "data": {
      "text/html": [
       "<div>\n",
       "<style scoped>\n",
       "    .dataframe tbody tr th:only-of-type {\n",
       "        vertical-align: middle;\n",
       "    }\n",
       "\n",
       "    .dataframe tbody tr th {\n",
       "        vertical-align: top;\n",
       "    }\n",
       "\n",
       "    .dataframe thead th {\n",
       "        text-align: right;\n",
       "    }\n",
       "</style>\n",
       "<table border=\"1\" class=\"dataframe\">\n",
       "  <thead>\n",
       "    <tr style=\"text-align: right;\">\n",
       "      <th></th>\n",
       "      <th>#</th>\n",
       "      <th>Name</th>\n",
       "      <th>Type 1</th>\n",
       "      <th>Type 2</th>\n",
       "      <th>Total</th>\n",
       "      <th>HP</th>\n",
       "      <th>Attack</th>\n",
       "      <th>Defense</th>\n",
       "      <th>Sp. Atk</th>\n",
       "      <th>Sp. Def</th>\n",
       "      <th>Speed</th>\n",
       "      <th>Generation</th>\n",
       "      <th>Legendary</th>\n",
       "    </tr>\n",
       "  </thead>\n",
       "  <tbody>\n",
       "    <tr>\n",
       "      <th>0</th>\n",
       "      <td>1</td>\n",
       "      <td>Bulbasaur</td>\n",
       "      <td>Grass</td>\n",
       "      <td>Poison</td>\n",
       "      <td>318</td>\n",
       "      <td>45</td>\n",
       "      <td>49</td>\n",
       "      <td>49</td>\n",
       "      <td>65</td>\n",
       "      <td>65</td>\n",
       "      <td>45</td>\n",
       "      <td>1</td>\n",
       "      <td>False</td>\n",
       "    </tr>\n",
       "    <tr>\n",
       "      <th>1</th>\n",
       "      <td>2</td>\n",
       "      <td>Ivysaur</td>\n",
       "      <td>Grass</td>\n",
       "      <td>Poison</td>\n",
       "      <td>405</td>\n",
       "      <td>60</td>\n",
       "      <td>62</td>\n",
       "      <td>63</td>\n",
       "      <td>80</td>\n",
       "      <td>80</td>\n",
       "      <td>60</td>\n",
       "      <td>1</td>\n",
       "      <td>False</td>\n",
       "    </tr>\n",
       "    <tr>\n",
       "      <th>2</th>\n",
       "      <td>3</td>\n",
       "      <td>Venusaur</td>\n",
       "      <td>Grass</td>\n",
       "      <td>Poison</td>\n",
       "      <td>525</td>\n",
       "      <td>80</td>\n",
       "      <td>82</td>\n",
       "      <td>83</td>\n",
       "      <td>100</td>\n",
       "      <td>100</td>\n",
       "      <td>80</td>\n",
       "      <td>1</td>\n",
       "      <td>False</td>\n",
       "    </tr>\n",
       "    <tr>\n",
       "      <th>3</th>\n",
       "      <td>3</td>\n",
       "      <td>VenusaurMega Venusaur</td>\n",
       "      <td>Grass</td>\n",
       "      <td>Poison</td>\n",
       "      <td>625</td>\n",
       "      <td>80</td>\n",
       "      <td>100</td>\n",
       "      <td>123</td>\n",
       "      <td>122</td>\n",
       "      <td>120</td>\n",
       "      <td>80</td>\n",
       "      <td>1</td>\n",
       "      <td>False</td>\n",
       "    </tr>\n",
       "    <tr>\n",
       "      <th>4</th>\n",
       "      <td>4</td>\n",
       "      <td>Charmander</td>\n",
       "      <td>Fire</td>\n",
       "      <td>NaN</td>\n",
       "      <td>309</td>\n",
       "      <td>39</td>\n",
       "      <td>52</td>\n",
       "      <td>43</td>\n",
       "      <td>60</td>\n",
       "      <td>50</td>\n",
       "      <td>65</td>\n",
       "      <td>1</td>\n",
       "      <td>False</td>\n",
       "    </tr>\n",
       "  </tbody>\n",
       "</table>\n",
       "</div>"
      ],
      "text/plain": [
       "   #                   Name Type 1  Type 2  Total  HP  Attack  Defense  \\\n",
       "0  1              Bulbasaur  Grass  Poison    318  45      49       49   \n",
       "1  2                Ivysaur  Grass  Poison    405  60      62       63   \n",
       "2  3               Venusaur  Grass  Poison    525  80      82       83   \n",
       "3  3  VenusaurMega Venusaur  Grass  Poison    625  80     100      123   \n",
       "4  4             Charmander   Fire     NaN    309  39      52       43   \n",
       "\n",
       "   Sp. Atk  Sp. Def  Speed  Generation  Legendary  \n",
       "0       65       65     45           1      False  \n",
       "1       80       80     60           1      False  \n",
       "2      100      100     80           1      False  \n",
       "3      122      120     80           1      False  \n",
       "4       60       50     65           1      False  "
      ]
     },
     "execution_count": 54,
     "metadata": {},
     "output_type": "execute_result"
    }
   ],
   "source": [
    "pokemon.head()"
   ]
  },
  {
   "cell_type": "markdown",
   "metadata": {},
   "source": [
    "Сначала измените названия исходных столбцов:\n",
    "\n",
    "- пробелы и точки нужно заменить на \"_\" (напр. Sp. Atk → sp_atk).\n",
    "- приведите все названия к нижнему регистру\n",
    "- колонку \"#\" переименовать в \"id\""
   ]
  },
  {
   "cell_type": "code",
   "execution_count": 55,
   "metadata": {},
   "outputs": [],
   "source": [
    "pokemon.columns = pokemon.columns.str.replace(' ', '_')\n",
    "pokemon.columns = pokemon.columns.str.lower()\n",
    "pokemon.columns = pokemon.columns.str.replace('.', '')\n",
    "pokemon = pokemon.rename(columns={'#':'id'})"
   ]
  },
  {
   "cell_type": "code",
   "execution_count": 56,
   "metadata": {},
   "outputs": [],
   "source": [
    "# Другой способ:\n",
    "# pokemon = (pokemon\n",
    "#           .rename(columns={'#':'id'})\n",
    "#           .rename(columns=lambda x: x.replace(' ', '_').replace('.','').lower())\n",
    "#           )"
   ]
  },
  {
   "cell_type": "code",
   "execution_count": 57,
   "metadata": {},
   "outputs": [
    {
     "data": {
      "text/html": [
       "<div>\n",
       "<style scoped>\n",
       "    .dataframe tbody tr th:only-of-type {\n",
       "        vertical-align: middle;\n",
       "    }\n",
       "\n",
       "    .dataframe tbody tr th {\n",
       "        vertical-align: top;\n",
       "    }\n",
       "\n",
       "    .dataframe thead th {\n",
       "        text-align: right;\n",
       "    }\n",
       "</style>\n",
       "<table border=\"1\" class=\"dataframe\">\n",
       "  <thead>\n",
       "    <tr style=\"text-align: right;\">\n",
       "      <th></th>\n",
       "      <th>id</th>\n",
       "      <th>name</th>\n",
       "      <th>type_1</th>\n",
       "      <th>type_2</th>\n",
       "      <th>total</th>\n",
       "      <th>hp</th>\n",
       "      <th>attack</th>\n",
       "      <th>defense</th>\n",
       "      <th>sp_atk</th>\n",
       "      <th>sp_def</th>\n",
       "      <th>speed</th>\n",
       "      <th>generation</th>\n",
       "      <th>legendary</th>\n",
       "    </tr>\n",
       "  </thead>\n",
       "  <tbody>\n",
       "    <tr>\n",
       "      <th>0</th>\n",
       "      <td>1</td>\n",
       "      <td>Bulbasaur</td>\n",
       "      <td>Grass</td>\n",
       "      <td>Poison</td>\n",
       "      <td>318</td>\n",
       "      <td>45</td>\n",
       "      <td>49</td>\n",
       "      <td>49</td>\n",
       "      <td>65</td>\n",
       "      <td>65</td>\n",
       "      <td>45</td>\n",
       "      <td>1</td>\n",
       "      <td>False</td>\n",
       "    </tr>\n",
       "    <tr>\n",
       "      <th>1</th>\n",
       "      <td>2</td>\n",
       "      <td>Ivysaur</td>\n",
       "      <td>Grass</td>\n",
       "      <td>Poison</td>\n",
       "      <td>405</td>\n",
       "      <td>60</td>\n",
       "      <td>62</td>\n",
       "      <td>63</td>\n",
       "      <td>80</td>\n",
       "      <td>80</td>\n",
       "      <td>60</td>\n",
       "      <td>1</td>\n",
       "      <td>False</td>\n",
       "    </tr>\n",
       "    <tr>\n",
       "      <th>2</th>\n",
       "      <td>3</td>\n",
       "      <td>Venusaur</td>\n",
       "      <td>Grass</td>\n",
       "      <td>Poison</td>\n",
       "      <td>525</td>\n",
       "      <td>80</td>\n",
       "      <td>82</td>\n",
       "      <td>83</td>\n",
       "      <td>100</td>\n",
       "      <td>100</td>\n",
       "      <td>80</td>\n",
       "      <td>1</td>\n",
       "      <td>False</td>\n",
       "    </tr>\n",
       "    <tr>\n",
       "      <th>3</th>\n",
       "      <td>3</td>\n",
       "      <td>VenusaurMega Venusaur</td>\n",
       "      <td>Grass</td>\n",
       "      <td>Poison</td>\n",
       "      <td>625</td>\n",
       "      <td>80</td>\n",
       "      <td>100</td>\n",
       "      <td>123</td>\n",
       "      <td>122</td>\n",
       "      <td>120</td>\n",
       "      <td>80</td>\n",
       "      <td>1</td>\n",
       "      <td>False</td>\n",
       "    </tr>\n",
       "    <tr>\n",
       "      <th>4</th>\n",
       "      <td>4</td>\n",
       "      <td>Charmander</td>\n",
       "      <td>Fire</td>\n",
       "      <td>NaN</td>\n",
       "      <td>309</td>\n",
       "      <td>39</td>\n",
       "      <td>52</td>\n",
       "      <td>43</td>\n",
       "      <td>60</td>\n",
       "      <td>50</td>\n",
       "      <td>65</td>\n",
       "      <td>1</td>\n",
       "      <td>False</td>\n",
       "    </tr>\n",
       "  </tbody>\n",
       "</table>\n",
       "</div>"
      ],
      "text/plain": [
       "   id                   name type_1  type_2  total  hp  attack  defense  \\\n",
       "0   1              Bulbasaur  Grass  Poison    318  45      49       49   \n",
       "1   2                Ivysaur  Grass  Poison    405  60      62       63   \n",
       "2   3               Venusaur  Grass  Poison    525  80      82       83   \n",
       "3   3  VenusaurMega Venusaur  Grass  Poison    625  80     100      123   \n",
       "4   4             Charmander   Fire     NaN    309  39      52       43   \n",
       "\n",
       "   sp_atk  sp_def  speed  generation  legendary  \n",
       "0      65      65     45           1      False  \n",
       "1      80      80     60           1      False  \n",
       "2     100     100     80           1      False  \n",
       "3     122     120     80           1      False  \n",
       "4      60      50     65           1      False  "
      ]
     },
     "execution_count": 57,
     "metadata": {},
     "output_type": "execute_result"
    }
   ],
   "source": [
    "pokemon.head()"
   ]
  },
  {
   "cell_type": "markdown",
   "metadata": {},
   "source": [
    "Сгруппируйте данные по поколению покемонов (generation), и с помощью value_counts() посчитайте, сколько в каком поколении легендарных покемонов (legendary), а также сколько в этих поколениях нелегендарных покемонов. \n",
    "\n",
    "Полученный объект приведите к формату датафрейма (.to_frame()) и сохраните в legends."
   ]
  },
  {
   "cell_type": "code",
   "execution_count": 58,
   "metadata": {},
   "outputs": [],
   "source": [
    "legends = (pokemon\n",
    "          .groupby(['generation'])\n",
    "          .legendary\n",
    "          .value_counts()\n",
    "          .to_frame()\n",
    "          )"
   ]
  },
  {
   "cell_type": "code",
   "execution_count": 59,
   "metadata": {},
   "outputs": [
    {
     "data": {
      "text/html": [
       "<div>\n",
       "<style scoped>\n",
       "    .dataframe tbody tr th:only-of-type {\n",
       "        vertical-align: middle;\n",
       "    }\n",
       "\n",
       "    .dataframe tbody tr th {\n",
       "        vertical-align: top;\n",
       "    }\n",
       "\n",
       "    .dataframe thead th {\n",
       "        text-align: right;\n",
       "    }\n",
       "</style>\n",
       "<table border=\"1\" class=\"dataframe\">\n",
       "  <thead>\n",
       "    <tr style=\"text-align: right;\">\n",
       "      <th></th>\n",
       "      <th></th>\n",
       "      <th>legendary</th>\n",
       "    </tr>\n",
       "    <tr>\n",
       "      <th>generation</th>\n",
       "      <th>legendary</th>\n",
       "      <th></th>\n",
       "    </tr>\n",
       "  </thead>\n",
       "  <tbody>\n",
       "    <tr>\n",
       "      <th rowspan=\"2\" valign=\"top\">1</th>\n",
       "      <th>False</th>\n",
       "      <td>160</td>\n",
       "    </tr>\n",
       "    <tr>\n",
       "      <th>True</th>\n",
       "      <td>6</td>\n",
       "    </tr>\n",
       "    <tr>\n",
       "      <th rowspan=\"2\" valign=\"top\">2</th>\n",
       "      <th>False</th>\n",
       "      <td>101</td>\n",
       "    </tr>\n",
       "    <tr>\n",
       "      <th>True</th>\n",
       "      <td>5</td>\n",
       "    </tr>\n",
       "    <tr>\n",
       "      <th rowspan=\"2\" valign=\"top\">3</th>\n",
       "      <th>False</th>\n",
       "      <td>142</td>\n",
       "    </tr>\n",
       "    <tr>\n",
       "      <th>True</th>\n",
       "      <td>18</td>\n",
       "    </tr>\n",
       "    <tr>\n",
       "      <th rowspan=\"2\" valign=\"top\">4</th>\n",
       "      <th>False</th>\n",
       "      <td>108</td>\n",
       "    </tr>\n",
       "    <tr>\n",
       "      <th>True</th>\n",
       "      <td>13</td>\n",
       "    </tr>\n",
       "    <tr>\n",
       "      <th rowspan=\"2\" valign=\"top\">5</th>\n",
       "      <th>False</th>\n",
       "      <td>150</td>\n",
       "    </tr>\n",
       "    <tr>\n",
       "      <th>True</th>\n",
       "      <td>15</td>\n",
       "    </tr>\n",
       "    <tr>\n",
       "      <th rowspan=\"2\" valign=\"top\">6</th>\n",
       "      <th>False</th>\n",
       "      <td>74</td>\n",
       "    </tr>\n",
       "    <tr>\n",
       "      <th>True</th>\n",
       "      <td>8</td>\n",
       "    </tr>\n",
       "  </tbody>\n",
       "</table>\n",
       "</div>"
      ],
      "text/plain": [
       "                      legendary\n",
       "generation legendary           \n",
       "1          False            160\n",
       "           True               6\n",
       "2          False            101\n",
       "           True               5\n",
       "3          False            142\n",
       "           True              18\n",
       "4          False            108\n",
       "           True              13\n",
       "5          False            150\n",
       "           True              15\n",
       "6          False             74\n",
       "           True               8"
      ]
     },
     "execution_count": 59,
     "metadata": {},
     "output_type": "execute_result"
    }
   ],
   "source": [
    "legends"
   ]
  },
  {
   "cell_type": "markdown",
   "metadata": {},
   "source": [
    "Используйте датафрейм legends, полученный на предыдущем шаге, и измените в нём название столбца, перезаписав его в ту же переменную. \n",
    "\n",
    "Затем используйте unstack, чтобы поместить уровень индекса legendary в уровень оси столбцов. \n",
    "Иными словами, должно получиться две колонки – False & True. Результат сохраните в legends_unstacked."
   ]
  },
  {
   "cell_type": "code",
   "execution_count": 60,
   "metadata": {},
   "outputs": [],
   "source": [
    "legends = legends.rename(columns={'legendary' : 'legendary_count'})"
   ]
  },
  {
   "cell_type": "code",
   "execution_count": 61,
   "metadata": {},
   "outputs": [],
   "source": [
    "legends_unstacked = legends.unstack('legendary')"
   ]
  },
  {
   "cell_type": "code",
   "execution_count": 62,
   "metadata": {},
   "outputs": [
    {
     "data": {
      "text/html": [
       "<div>\n",
       "<style scoped>\n",
       "    .dataframe tbody tr th:only-of-type {\n",
       "        vertical-align: middle;\n",
       "    }\n",
       "\n",
       "    .dataframe tbody tr th {\n",
       "        vertical-align: top;\n",
       "    }\n",
       "\n",
       "    .dataframe thead tr th {\n",
       "        text-align: left;\n",
       "    }\n",
       "\n",
       "    .dataframe thead tr:last-of-type th {\n",
       "        text-align: right;\n",
       "    }\n",
       "</style>\n",
       "<table border=\"1\" class=\"dataframe\">\n",
       "  <thead>\n",
       "    <tr>\n",
       "      <th></th>\n",
       "      <th colspan=\"2\" halign=\"left\">legendary_count</th>\n",
       "    </tr>\n",
       "    <tr>\n",
       "      <th>legendary</th>\n",
       "      <th>False</th>\n",
       "      <th>True</th>\n",
       "    </tr>\n",
       "    <tr>\n",
       "      <th>generation</th>\n",
       "      <th></th>\n",
       "      <th></th>\n",
       "    </tr>\n",
       "  </thead>\n",
       "  <tbody>\n",
       "    <tr>\n",
       "      <th>1</th>\n",
       "      <td>160</td>\n",
       "      <td>6</td>\n",
       "    </tr>\n",
       "    <tr>\n",
       "      <th>2</th>\n",
       "      <td>101</td>\n",
       "      <td>5</td>\n",
       "    </tr>\n",
       "    <tr>\n",
       "      <th>3</th>\n",
       "      <td>142</td>\n",
       "      <td>18</td>\n",
       "    </tr>\n",
       "    <tr>\n",
       "      <th>4</th>\n",
       "      <td>108</td>\n",
       "      <td>13</td>\n",
       "    </tr>\n",
       "    <tr>\n",
       "      <th>5</th>\n",
       "      <td>150</td>\n",
       "      <td>15</td>\n",
       "    </tr>\n",
       "    <tr>\n",
       "      <th>6</th>\n",
       "      <td>74</td>\n",
       "      <td>8</td>\n",
       "    </tr>\n",
       "  </tbody>\n",
       "</table>\n",
       "</div>"
      ],
      "text/plain": [
       "           legendary_count      \n",
       "legendary            False True \n",
       "generation                      \n",
       "1                      160     6\n",
       "2                      101     5\n",
       "3                      142    18\n",
       "4                      108    13\n",
       "5                      150    15\n",
       "6                       74     8"
      ]
     },
     "execution_count": 62,
     "metadata": {},
     "output_type": "execute_result"
    }
   ],
   "source": [
    "legends_unstacked"
   ]
  },
  {
   "cell_type": "markdown",
   "metadata": {},
   "source": [
    "Сгруппируйте датасет pokemon по переменным generation и type_1, посчитайте количество легендарных покемонов внутри групп. \n",
    "Приведите данные в формат датафрейма, а затем используйте unstack(). \n",
    "\n",
    "В качестве ответа выберите вид и поколение покемона, среди которых больше всего легендарных.\n",
    "\n",
    "Hint: обратиться к колонке с мультииндексом можно с помощью .loc[:,('legendary', True)]"
   ]
  },
  {
   "cell_type": "code",
   "execution_count": 63,
   "metadata": {},
   "outputs": [
    {
     "data": {
      "text/html": [
       "<div>\n",
       "<style scoped>\n",
       "    .dataframe tbody tr th:only-of-type {\n",
       "        vertical-align: middle;\n",
       "    }\n",
       "\n",
       "    .dataframe tbody tr th {\n",
       "        vertical-align: top;\n",
       "    }\n",
       "\n",
       "    .dataframe thead tr th {\n",
       "        text-align: left;\n",
       "    }\n",
       "\n",
       "    .dataframe thead tr:last-of-type th {\n",
       "        text-align: right;\n",
       "    }\n",
       "</style>\n",
       "<table border=\"1\" class=\"dataframe\">\n",
       "  <thead>\n",
       "    <tr>\n",
       "      <th></th>\n",
       "      <th></th>\n",
       "      <th colspan=\"2\" halign=\"left\">legendary</th>\n",
       "    </tr>\n",
       "    <tr>\n",
       "      <th></th>\n",
       "      <th>legendary</th>\n",
       "      <th>False</th>\n",
       "      <th>True</th>\n",
       "    </tr>\n",
       "    <tr>\n",
       "      <th>generation</th>\n",
       "      <th>type_1</th>\n",
       "      <th></th>\n",
       "      <th></th>\n",
       "    </tr>\n",
       "  </thead>\n",
       "  <tbody>\n",
       "    <tr>\n",
       "      <th rowspan=\"5\" valign=\"top\">1</th>\n",
       "      <th>Bug</th>\n",
       "      <td>14.0</td>\n",
       "      <td>NaN</td>\n",
       "    </tr>\n",
       "    <tr>\n",
       "      <th>Dragon</th>\n",
       "      <td>3.0</td>\n",
       "      <td>NaN</td>\n",
       "    </tr>\n",
       "    <tr>\n",
       "      <th>Electric</th>\n",
       "      <td>8.0</td>\n",
       "      <td>1.0</td>\n",
       "    </tr>\n",
       "    <tr>\n",
       "      <th>Fairy</th>\n",
       "      <td>2.0</td>\n",
       "      <td>NaN</td>\n",
       "    </tr>\n",
       "    <tr>\n",
       "      <th>Fighting</th>\n",
       "      <td>7.0</td>\n",
       "      <td>NaN</td>\n",
       "    </tr>\n",
       "    <tr>\n",
       "      <th>...</th>\n",
       "      <th>...</th>\n",
       "      <td>...</td>\n",
       "      <td>...</td>\n",
       "    </tr>\n",
       "    <tr>\n",
       "      <th rowspan=\"5\" valign=\"top\">6</th>\n",
       "      <th>Poison</th>\n",
       "      <td>2.0</td>\n",
       "      <td>NaN</td>\n",
       "    </tr>\n",
       "    <tr>\n",
       "      <th>Psychic</th>\n",
       "      <td>3.0</td>\n",
       "      <td>2.0</td>\n",
       "    </tr>\n",
       "    <tr>\n",
       "      <th>Rock</th>\n",
       "      <td>7.0</td>\n",
       "      <td>2.0</td>\n",
       "    </tr>\n",
       "    <tr>\n",
       "      <th>Steel</th>\n",
       "      <td>5.0</td>\n",
       "      <td>NaN</td>\n",
       "    </tr>\n",
       "    <tr>\n",
       "      <th>Water</th>\n",
       "      <td>5.0</td>\n",
       "      <td>NaN</td>\n",
       "    </tr>\n",
       "  </tbody>\n",
       "</table>\n",
       "<p>98 rows × 2 columns</p>\n",
       "</div>"
      ],
      "text/plain": [
       "                    legendary      \n",
       "legendary               False True \n",
       "generation type_1                  \n",
       "1          Bug           14.0   NaN\n",
       "           Dragon         3.0   NaN\n",
       "           Electric       8.0   1.0\n",
       "           Fairy          2.0   NaN\n",
       "           Fighting       7.0   NaN\n",
       "...                       ...   ...\n",
       "6          Poison         2.0   NaN\n",
       "           Psychic        3.0   2.0\n",
       "           Rock           7.0   2.0\n",
       "           Steel          5.0   NaN\n",
       "           Water          5.0   NaN\n",
       "\n",
       "[98 rows x 2 columns]"
      ]
     },
     "execution_count": 63,
     "metadata": {},
     "output_type": "execute_result"
    }
   ],
   "source": [
    "pokemon.groupby(['generation','type_1']) \\\n",
    "          .legendary \\\n",
    "          .value_counts() \\\n",
    "          .to_frame() \\\n",
    "          .unstack()"
   ]
  },
  {
   "cell_type": "code",
   "execution_count": 64,
   "metadata": {},
   "outputs": [],
   "source": [
    "legends_type_1 = (pokemon\n",
    "          .groupby(['generation','type_1'])\n",
    "          .legendary\n",
    "          .value_counts()\n",
    "          .to_frame()\n",
    "          .unstack()\n",
    "          .loc[:,('legendary', True)]\n",
    "          .idxmax()\n",
    "          )"
   ]
  },
  {
   "cell_type": "code",
   "execution_count": 65,
   "metadata": {},
   "outputs": [
    {
     "data": {
      "text/plain": [
       "(3, 'Dragon')"
      ]
     },
     "execution_count": 65,
     "metadata": {},
     "output_type": "execute_result"
    }
   ],
   "source": [
    "legends_type_1"
   ]
  },
  {
   "cell_type": "markdown",
   "metadata": {},
   "source": [
    "### Широкий и длинный формат"
   ]
  },
  {
   "cell_type": "markdown",
   "metadata": {},
   "source": [
    "С помощью метода **melt** можно \"расплавить\" данные и привести их к длинному формату. \n",
    "Одна / несколько колонок помещаются в качестве идентификационных переменных, а остальные столбцы считаются измеряемыми переменными. \n",
    "Их названия и значения помещаются в колонки variable и value.\n",
    "\n",
    "Для изменения названий полученных столбцов используются параметры var_name и value_name."
   ]
  },
  {
   "cell_type": "code",
   "execution_count": 66,
   "metadata": {},
   "outputs": [
    {
     "data": {
      "text/html": [
       "<div>\n",
       "<style scoped>\n",
       "    .dataframe tbody tr th:only-of-type {\n",
       "        vertical-align: middle;\n",
       "    }\n",
       "\n",
       "    .dataframe tbody tr th {\n",
       "        vertical-align: top;\n",
       "    }\n",
       "\n",
       "    .dataframe thead th {\n",
       "        text-align: right;\n",
       "    }\n",
       "</style>\n",
       "<table border=\"1\" class=\"dataframe\">\n",
       "  <thead>\n",
       "    <tr style=\"text-align: right;\">\n",
       "      <th></th>\n",
       "      <th>name</th>\n",
       "      <th>type</th>\n",
       "      <th>color</th>\n",
       "      <th>height</th>\n",
       "      <th>weight</th>\n",
       "    </tr>\n",
       "  </thead>\n",
       "  <tbody>\n",
       "    <tr>\n",
       "      <th>0</th>\n",
       "      <td>Persik</td>\n",
       "      <td>cat</td>\n",
       "      <td>ginger</td>\n",
       "      <td>17</td>\n",
       "      <td>3.4</td>\n",
       "    </tr>\n",
       "    <tr>\n",
       "      <th>1</th>\n",
       "      <td>Brownie</td>\n",
       "      <td>dog</td>\n",
       "      <td>white</td>\n",
       "      <td>30</td>\n",
       "      <td>4.3</td>\n",
       "    </tr>\n",
       "  </tbody>\n",
       "</table>\n",
       "</div>"
      ],
      "text/plain": [
       "      name type   color  height  weight\n",
       "0   Persik  cat  ginger      17     3.4\n",
       "1  Brownie  dog   white      30     4.3"
      ]
     },
     "execution_count": 66,
     "metadata": {},
     "output_type": "execute_result"
    }
   ],
   "source": [
    "df3 = pd.DataFrame({'name': ['Persik', 'Brownie'], 'type': ['cat', 'dog'],\n",
    "                    'color': ['ginger', 'white'], 'height': [17, 30], \n",
    "                    'weight': [3.4, 4.3]})\n",
    "df3"
   ]
  },
  {
   "cell_type": "markdown",
   "metadata": {},
   "source": [
    "Расплавляем! \n",
    "\n",
    "Если не указать колонки, которые нужно использовать в качестве идентификаторов, то названия всех столбцов помещаются в variable,а соответствующие в value."
   ]
  },
  {
   "cell_type": "code",
   "execution_count": 67,
   "metadata": {},
   "outputs": [
    {
     "data": {
      "text/html": [
       "<div>\n",
       "<style scoped>\n",
       "    .dataframe tbody tr th:only-of-type {\n",
       "        vertical-align: middle;\n",
       "    }\n",
       "\n",
       "    .dataframe tbody tr th {\n",
       "        vertical-align: top;\n",
       "    }\n",
       "\n",
       "    .dataframe thead th {\n",
       "        text-align: right;\n",
       "    }\n",
       "</style>\n",
       "<table border=\"1\" class=\"dataframe\">\n",
       "  <thead>\n",
       "    <tr style=\"text-align: right;\">\n",
       "      <th></th>\n",
       "      <th>variable</th>\n",
       "      <th>value</th>\n",
       "    </tr>\n",
       "  </thead>\n",
       "  <tbody>\n",
       "    <tr>\n",
       "      <th>0</th>\n",
       "      <td>name</td>\n",
       "      <td>Persik</td>\n",
       "    </tr>\n",
       "    <tr>\n",
       "      <th>1</th>\n",
       "      <td>name</td>\n",
       "      <td>Brownie</td>\n",
       "    </tr>\n",
       "    <tr>\n",
       "      <th>2</th>\n",
       "      <td>type</td>\n",
       "      <td>cat</td>\n",
       "    </tr>\n",
       "    <tr>\n",
       "      <th>3</th>\n",
       "      <td>type</td>\n",
       "      <td>dog</td>\n",
       "    </tr>\n",
       "    <tr>\n",
       "      <th>4</th>\n",
       "      <td>color</td>\n",
       "      <td>ginger</td>\n",
       "    </tr>\n",
       "  </tbody>\n",
       "</table>\n",
       "</div>"
      ],
      "text/plain": [
       "  variable    value\n",
       "0     name   Persik\n",
       "1     name  Brownie\n",
       "2     type      cat\n",
       "3     type      dog\n",
       "4    color   ginger"
      ]
     },
     "execution_count": 67,
     "metadata": {},
     "output_type": "execute_result"
    }
   ],
   "source": [
    "df3.melt().head()"
   ]
  },
  {
   "cell_type": "markdown",
   "metadata": {},
   "source": [
    "Используем имена в качестве идентификатора:"
   ]
  },
  {
   "cell_type": "code",
   "execution_count": 68,
   "metadata": {},
   "outputs": [
    {
     "data": {
      "text/html": [
       "<div>\n",
       "<style scoped>\n",
       "    .dataframe tbody tr th:only-of-type {\n",
       "        vertical-align: middle;\n",
       "    }\n",
       "\n",
       "    .dataframe tbody tr th {\n",
       "        vertical-align: top;\n",
       "    }\n",
       "\n",
       "    .dataframe thead th {\n",
       "        text-align: right;\n",
       "    }\n",
       "</style>\n",
       "<table border=\"1\" class=\"dataframe\">\n",
       "  <thead>\n",
       "    <tr style=\"text-align: right;\">\n",
       "      <th></th>\n",
       "      <th>name</th>\n",
       "      <th>variable</th>\n",
       "      <th>value</th>\n",
       "    </tr>\n",
       "  </thead>\n",
       "  <tbody>\n",
       "    <tr>\n",
       "      <th>0</th>\n",
       "      <td>Persik</td>\n",
       "      <td>type</td>\n",
       "      <td>cat</td>\n",
       "    </tr>\n",
       "    <tr>\n",
       "      <th>1</th>\n",
       "      <td>Brownie</td>\n",
       "      <td>type</td>\n",
       "      <td>dog</td>\n",
       "    </tr>\n",
       "    <tr>\n",
       "      <th>2</th>\n",
       "      <td>Persik</td>\n",
       "      <td>color</td>\n",
       "      <td>ginger</td>\n",
       "    </tr>\n",
       "    <tr>\n",
       "      <th>3</th>\n",
       "      <td>Brownie</td>\n",
       "      <td>color</td>\n",
       "      <td>white</td>\n",
       "    </tr>\n",
       "    <tr>\n",
       "      <th>4</th>\n",
       "      <td>Persik</td>\n",
       "      <td>height</td>\n",
       "      <td>17</td>\n",
       "    </tr>\n",
       "  </tbody>\n",
       "</table>\n",
       "</div>"
      ],
      "text/plain": [
       "      name variable   value\n",
       "0   Persik     type     cat\n",
       "1  Brownie     type     dog\n",
       "2   Persik    color  ginger\n",
       "3  Brownie    color   white\n",
       "4   Persik   height      17"
      ]
     },
     "execution_count": 68,
     "metadata": {},
     "output_type": "execute_result"
    }
   ],
   "source": [
    "df3.melt(id_vars='name').head()"
   ]
  },
  {
   "cell_type": "markdown",
   "metadata": {},
   "source": [
    "Для изменения названий полученных столбцов используются параметры var_name и value_name. \n",
    "\n",
    "Передаем в качестве id_vars имена, для значений (value_vars) используем только три колонки и изменяем названия новых колонок:"
   ]
  },
  {
   "cell_type": "code",
   "execution_count": 69,
   "metadata": {},
   "outputs": [
    {
     "data": {
      "text/html": [
       "<div>\n",
       "<style scoped>\n",
       "    .dataframe tbody tr th:only-of-type {\n",
       "        vertical-align: middle;\n",
       "    }\n",
       "\n",
       "    .dataframe tbody tr th {\n",
       "        vertical-align: top;\n",
       "    }\n",
       "\n",
       "    .dataframe thead th {\n",
       "        text-align: right;\n",
       "    }\n",
       "</style>\n",
       "<table border=\"1\" class=\"dataframe\">\n",
       "  <thead>\n",
       "    <tr style=\"text-align: right;\">\n",
       "      <th></th>\n",
       "      <th>name</th>\n",
       "      <th>characteristics</th>\n",
       "      <th>value</th>\n",
       "    </tr>\n",
       "  </thead>\n",
       "  <tbody>\n",
       "    <tr>\n",
       "      <th>0</th>\n",
       "      <td>Persik</td>\n",
       "      <td>type</td>\n",
       "      <td>cat</td>\n",
       "    </tr>\n",
       "    <tr>\n",
       "      <th>1</th>\n",
       "      <td>Brownie</td>\n",
       "      <td>type</td>\n",
       "      <td>dog</td>\n",
       "    </tr>\n",
       "    <tr>\n",
       "      <th>2</th>\n",
       "      <td>Persik</td>\n",
       "      <td>color</td>\n",
       "      <td>ginger</td>\n",
       "    </tr>\n",
       "    <tr>\n",
       "      <th>3</th>\n",
       "      <td>Brownie</td>\n",
       "      <td>color</td>\n",
       "      <td>white</td>\n",
       "    </tr>\n",
       "    <tr>\n",
       "      <th>4</th>\n",
       "      <td>Persik</td>\n",
       "      <td>height</td>\n",
       "      <td>17</td>\n",
       "    </tr>\n",
       "    <tr>\n",
       "      <th>5</th>\n",
       "      <td>Brownie</td>\n",
       "      <td>height</td>\n",
       "      <td>30</td>\n",
       "    </tr>\n",
       "  </tbody>\n",
       "</table>\n",
       "</div>"
      ],
      "text/plain": [
       "      name characteristics   value\n",
       "0   Persik            type     cat\n",
       "1  Brownie            type     dog\n",
       "2   Persik           color  ginger\n",
       "3  Brownie           color   white\n",
       "4   Persik          height      17\n",
       "5  Brownie          height      30"
      ]
     },
     "execution_count": 69,
     "metadata": {},
     "output_type": "execute_result"
    }
   ],
   "source": [
    "df3.melt(id_vars=['name'], value_vars=['type', 'color', 'height'], \n",
    "         var_name='characteristics', value_name='value')"
   ]
  },
  {
   "cell_type": "markdown",
   "metadata": {},
   "source": [
    "Еще один вариант для перевода данных из широкого формата в длинный — **pd.wide_to_long().** (ЕСЛИ ЕСТЬ ДОП ИНФОРМАЦИЯ В НАЗВАНИЯХ КОЛОНОК)\n",
    "\n",
    "Предположим, мы собрали побольше данных о котике Персике и пёсике Брауни, и добавили данные о весе и росте уже за два года:"
   ]
  },
  {
   "cell_type": "code",
   "execution_count": 70,
   "metadata": {},
   "outputs": [],
   "source": [
    "#      name type  AvgHeight_2019  AvgHeight_2020  AvgWeight_2019  AvgWeight_2020   color \n",
    "# 0   Persik  cat       17.077963       17.134233             3.4          3.5545  ginger\n",
    "# 1  Brownie  dog       30.673324       30.674466             4.3          4.5716   white    "
   ]
  },
  {
   "cell_type": "markdown",
   "metadata": {},
   "source": [
    "Посмотрим на аргументы функции более подробно.\n",
    "\n",
    "- data — датафрейм\n",
    "- stubnames — части названий переменных, которые мы хотим преобразовать из широкого формата в длинный\n",
    "- i — переменные, которые не трансформируются, и в результате помещаются в индексы\n",
    "- j — имя новой переменной\n",
    "- sep — разделитель (между параметром и значением)"
   ]
  },
  {
   "cell_type": "markdown",
   "metadata": {},
   "source": [
    "В данном случае у нас есть две общих характеристики, отвечающих за рост и вес в конкретный год. Названия соответствующих переменных состоят из AvgHeight / AvgWeight и года, поэтому в stubnames мы передаем список параметров (вес и рост), а оставшаяся часть названия (2018, 2019) будет использована в качестве значений новой переменной year. \n",
    "\n",
    "Столбцы type и name помещаем в индексы, а параметр color оставляем обычной колонкой."
   ]
  },
  {
   "cell_type": "code",
   "execution_count": 71,
   "metadata": {},
   "outputs": [],
   "source": [
    "# lng = pd.wide_to_long(df4, ['AvgHeight', 'AvgWeight'], i=['type', 'name'], j='year', sep='_')\n",
    "# lng"
   ]
  },
  {
   "cell_type": "code",
   "execution_count": 72,
   "metadata": {},
   "outputs": [],
   "source": [
    "#                     color  AvgHeight  AvgWeight\n",
    "# type name    year                              \n",
    "# cat  Persik  2019  ginger  17.077963     3.4000\n",
    "#              2020  ginger  17.134233     3.5545\n",
    "# dog  Brownie 2019   white  30.673324     4.3000\n",
    "#              2020   white  30.674466     4.5716"
   ]
  },
  {
   "cell_type": "markdown",
   "metadata": {},
   "source": [
    "А теперь возвращаем всё обратно к широкому формату:"
   ]
  },
  {
   "cell_type": "code",
   "execution_count": 73,
   "metadata": {},
   "outputs": [],
   "source": [
    "# wd = lng.unstack(level='year')\n",
    "# wd.columns = ['_'.join(map(str, col)) for col in wd.columns]  # соединяем названия\n",
    "# wd.drop('color_2019', inplace=True, axis=1)  # убираем лишнюю колонку\n",
    "# wd = wd.rename(columns={'color_2020': 'color'})  # исправляем название\n",
    "# wd.reset_index() # избавляемся от мультииндекса"
   ]
  },
  {
   "cell_type": "code",
   "execution_count": 74,
   "metadata": {},
   "outputs": [],
   "source": [
    "#   type     name   color  AvgHeight_2019  AvgHeight_2020  AvgWeight_2019  AvgWeight_2020\n",
    "# 0  cat   Persik  ginger       17.077963       17.134233             3.4          3.5545   \n",
    "# 1  dog  Brownie   white       30.673324       30.674466             4.3          4.5716 "
   ]
  },
  {
   "cell_type": "markdown",
   "metadata": {},
   "source": [
    "Преобразуйте представленные данные в длинный формат и запишите в переменную avocado_agg_long. В качестве индекса используйте type"
   ]
  },
  {
   "cell_type": "code",
   "execution_count": 75,
   "metadata": {},
   "outputs": [
    {
     "data": {
      "text/html": [
       "<div>\n",
       "<style scoped>\n",
       "    .dataframe tbody tr th:only-of-type {\n",
       "        vertical-align: middle;\n",
       "    }\n",
       "\n",
       "    .dataframe tbody tr th {\n",
       "        vertical-align: top;\n",
       "    }\n",
       "\n",
       "    .dataframe thead th {\n",
       "        text-align: right;\n",
       "    }\n",
       "</style>\n",
       "<table border=\"1\" class=\"dataframe\">\n",
       "  <thead>\n",
       "    <tr style=\"text-align: right;\">\n",
       "      <th></th>\n",
       "      <th>type</th>\n",
       "      <th>AvgPrice_2015</th>\n",
       "      <th>AvgPrice_2016</th>\n",
       "      <th>AvgPrice_2017</th>\n",
       "      <th>AvgPrice_2018</th>\n",
       "    </tr>\n",
       "  </thead>\n",
       "  <tbody>\n",
       "    <tr>\n",
       "      <th>0</th>\n",
       "      <td>conventional</td>\n",
       "      <td>1.077963</td>\n",
       "      <td>1.105595</td>\n",
       "      <td>1.294888</td>\n",
       "      <td>1.127886</td>\n",
       "    </tr>\n",
       "    <tr>\n",
       "      <th>1</th>\n",
       "      <td>organic</td>\n",
       "      <td>1.673324</td>\n",
       "      <td>1.571684</td>\n",
       "      <td>1.735521</td>\n",
       "      <td>1.567176</td>\n",
       "    </tr>\n",
       "  </tbody>\n",
       "</table>\n",
       "</div>"
      ],
      "text/plain": [
       "           type  AvgPrice_2015  AvgPrice_2016  AvgPrice_2017  AvgPrice_2018\n",
       "0  conventional       1.077963       1.105595       1.294888       1.127886\n",
       "1       organic       1.673324       1.571684       1.735521       1.567176"
      ]
     },
     "execution_count": 75,
     "metadata": {},
     "output_type": "execute_result"
    }
   ],
   "source": [
    "avocado_agg = pd.DataFrame({'type' : ['conventional', 'organic'],\n",
    "                            'AvgPrice_2015' : [1.077963, 1.673324],\n",
    "                            'AvgPrice_2016' : [1.105595, 1.571684],\n",
    "                            'AvgPrice_2017' : [1.294888, 1.735521],\n",
    "                            'AvgPrice_2018' : [1.127886, 1.567176],\n",
    "                            })\n",
    "avocado_agg"
   ]
  },
  {
   "cell_type": "code",
   "execution_count": 76,
   "metadata": {},
   "outputs": [
    {
     "data": {
      "text/html": [
       "<div>\n",
       "<style scoped>\n",
       "    .dataframe tbody tr th:only-of-type {\n",
       "        vertical-align: middle;\n",
       "    }\n",
       "\n",
       "    .dataframe tbody tr th {\n",
       "        vertical-align: top;\n",
       "    }\n",
       "\n",
       "    .dataframe thead th {\n",
       "        text-align: right;\n",
       "    }\n",
       "</style>\n",
       "<table border=\"1\" class=\"dataframe\">\n",
       "  <thead>\n",
       "    <tr style=\"text-align: right;\">\n",
       "      <th></th>\n",
       "      <th></th>\n",
       "      <th>AvgPrice</th>\n",
       "    </tr>\n",
       "    <tr>\n",
       "      <th>type</th>\n",
       "      <th>year</th>\n",
       "      <th></th>\n",
       "    </tr>\n",
       "  </thead>\n",
       "  <tbody>\n",
       "    <tr>\n",
       "      <th>conventional</th>\n",
       "      <th>2015</th>\n",
       "      <td>1.077963</td>\n",
       "    </tr>\n",
       "    <tr>\n",
       "      <th>organic</th>\n",
       "      <th>2015</th>\n",
       "      <td>1.673324</td>\n",
       "    </tr>\n",
       "    <tr>\n",
       "      <th>conventional</th>\n",
       "      <th>2016</th>\n",
       "      <td>1.105595</td>\n",
       "    </tr>\n",
       "    <tr>\n",
       "      <th>organic</th>\n",
       "      <th>2016</th>\n",
       "      <td>1.571684</td>\n",
       "    </tr>\n",
       "    <tr>\n",
       "      <th>conventional</th>\n",
       "      <th>2017</th>\n",
       "      <td>1.294888</td>\n",
       "    </tr>\n",
       "    <tr>\n",
       "      <th>organic</th>\n",
       "      <th>2017</th>\n",
       "      <td>1.735521</td>\n",
       "    </tr>\n",
       "    <tr>\n",
       "      <th>conventional</th>\n",
       "      <th>2018</th>\n",
       "      <td>1.127886</td>\n",
       "    </tr>\n",
       "    <tr>\n",
       "      <th>organic</th>\n",
       "      <th>2018</th>\n",
       "      <td>1.567176</td>\n",
       "    </tr>\n",
       "  </tbody>\n",
       "</table>\n",
       "</div>"
      ],
      "text/plain": [
       "                   AvgPrice\n",
       "type         year          \n",
       "conventional 2015  1.077963\n",
       "organic      2015  1.673324\n",
       "conventional 2016  1.105595\n",
       "organic      2016  1.571684\n",
       "conventional 2017  1.294888\n",
       "organic      2017  1.735521\n",
       "conventional 2018  1.127886\n",
       "organic      2018  1.567176"
      ]
     },
     "execution_count": 76,
     "metadata": {},
     "output_type": "execute_result"
    }
   ],
   "source": [
    "avocado_agg_long = pd.wide_to_long(avocado_agg, 'AvgPrice', i='type', j='year', sep='_')\n",
    "avocado_agg_long"
   ]
  },
  {
   "cell_type": "markdown",
   "metadata": {},
   "source": [
    "Имеется набор данных о супергероях в широком формате. В первой колонке Name находятся их имена, а остальные 167 столбцов — различные характеристики (суперсилы), принимающие значение либо True, либо False. \n",
    "\n",
    "Давайте преобразуем датафрейм так, чтобы \"собрать\" эти признаки в один столбец под названием superpower, а в качестве значений поместить туда списки имеющихся у того или иного героя суперсил. "
   ]
  },
  {
   "cell_type": "code",
   "execution_count": 77,
   "metadata": {},
   "outputs": [],
   "source": [
    "superheroes = pd.read_csv('/mnt/HC_Volume_18315164/home-jupyter/jupyter-a-eremina/lesson_8/superheroes_power_matrix.csv')"
   ]
  },
  {
   "cell_type": "code",
   "execution_count": 78,
   "metadata": {},
   "outputs": [
    {
     "data": {
      "text/html": [
       "<div>\n",
       "<style scoped>\n",
       "    .dataframe tbody tr th:only-of-type {\n",
       "        vertical-align: middle;\n",
       "    }\n",
       "\n",
       "    .dataframe tbody tr th {\n",
       "        vertical-align: top;\n",
       "    }\n",
       "\n",
       "    .dataframe thead th {\n",
       "        text-align: right;\n",
       "    }\n",
       "</style>\n",
       "<table border=\"1\" class=\"dataframe\">\n",
       "  <thead>\n",
       "    <tr style=\"text-align: right;\">\n",
       "      <th></th>\n",
       "      <th>Name</th>\n",
       "      <th>Agility</th>\n",
       "      <th>Accelerated Healing</th>\n",
       "      <th>Lantern Power Ring</th>\n",
       "      <th>Dimensional Awareness</th>\n",
       "      <th>Cold Resistance</th>\n",
       "      <th>Durability</th>\n",
       "      <th>Stealth</th>\n",
       "      <th>Energy Absorption</th>\n",
       "      <th>Flight</th>\n",
       "      <th>...</th>\n",
       "      <th>Web Creation</th>\n",
       "      <th>Reality Warping</th>\n",
       "      <th>Odin Force</th>\n",
       "      <th>Symbiote Costume</th>\n",
       "      <th>Speed Force</th>\n",
       "      <th>Phoenix Force</th>\n",
       "      <th>Molecular Dissipation</th>\n",
       "      <th>Vision - Cryo</th>\n",
       "      <th>Omnipresent</th>\n",
       "      <th>Omniscient</th>\n",
       "    </tr>\n",
       "  </thead>\n",
       "  <tbody>\n",
       "    <tr>\n",
       "      <th>0</th>\n",
       "      <td>3-D Man</td>\n",
       "      <td>True</td>\n",
       "      <td>False</td>\n",
       "      <td>False</td>\n",
       "      <td>False</td>\n",
       "      <td>False</td>\n",
       "      <td>False</td>\n",
       "      <td>False</td>\n",
       "      <td>False</td>\n",
       "      <td>False</td>\n",
       "      <td>...</td>\n",
       "      <td>False</td>\n",
       "      <td>False</td>\n",
       "      <td>False</td>\n",
       "      <td>False</td>\n",
       "      <td>False</td>\n",
       "      <td>False</td>\n",
       "      <td>False</td>\n",
       "      <td>False</td>\n",
       "      <td>False</td>\n",
       "      <td>False</td>\n",
       "    </tr>\n",
       "    <tr>\n",
       "      <th>1</th>\n",
       "      <td>A-Bomb</td>\n",
       "      <td>False</td>\n",
       "      <td>True</td>\n",
       "      <td>False</td>\n",
       "      <td>False</td>\n",
       "      <td>False</td>\n",
       "      <td>True</td>\n",
       "      <td>False</td>\n",
       "      <td>False</td>\n",
       "      <td>False</td>\n",
       "      <td>...</td>\n",
       "      <td>False</td>\n",
       "      <td>False</td>\n",
       "      <td>False</td>\n",
       "      <td>False</td>\n",
       "      <td>False</td>\n",
       "      <td>False</td>\n",
       "      <td>False</td>\n",
       "      <td>False</td>\n",
       "      <td>False</td>\n",
       "      <td>False</td>\n",
       "    </tr>\n",
       "    <tr>\n",
       "      <th>2</th>\n",
       "      <td>Abe Sapien</td>\n",
       "      <td>True</td>\n",
       "      <td>True</td>\n",
       "      <td>False</td>\n",
       "      <td>False</td>\n",
       "      <td>True</td>\n",
       "      <td>True</td>\n",
       "      <td>False</td>\n",
       "      <td>False</td>\n",
       "      <td>False</td>\n",
       "      <td>...</td>\n",
       "      <td>False</td>\n",
       "      <td>False</td>\n",
       "      <td>False</td>\n",
       "      <td>False</td>\n",
       "      <td>False</td>\n",
       "      <td>False</td>\n",
       "      <td>False</td>\n",
       "      <td>False</td>\n",
       "      <td>False</td>\n",
       "      <td>False</td>\n",
       "    </tr>\n",
       "    <tr>\n",
       "      <th>3</th>\n",
       "      <td>Abin Sur</td>\n",
       "      <td>False</td>\n",
       "      <td>False</td>\n",
       "      <td>True</td>\n",
       "      <td>False</td>\n",
       "      <td>False</td>\n",
       "      <td>False</td>\n",
       "      <td>False</td>\n",
       "      <td>False</td>\n",
       "      <td>False</td>\n",
       "      <td>...</td>\n",
       "      <td>False</td>\n",
       "      <td>False</td>\n",
       "      <td>False</td>\n",
       "      <td>False</td>\n",
       "      <td>False</td>\n",
       "      <td>False</td>\n",
       "      <td>False</td>\n",
       "      <td>False</td>\n",
       "      <td>False</td>\n",
       "      <td>False</td>\n",
       "    </tr>\n",
       "    <tr>\n",
       "      <th>4</th>\n",
       "      <td>Abomination</td>\n",
       "      <td>False</td>\n",
       "      <td>True</td>\n",
       "      <td>False</td>\n",
       "      <td>False</td>\n",
       "      <td>False</td>\n",
       "      <td>False</td>\n",
       "      <td>False</td>\n",
       "      <td>False</td>\n",
       "      <td>False</td>\n",
       "      <td>...</td>\n",
       "      <td>False</td>\n",
       "      <td>False</td>\n",
       "      <td>False</td>\n",
       "      <td>False</td>\n",
       "      <td>False</td>\n",
       "      <td>False</td>\n",
       "      <td>False</td>\n",
       "      <td>False</td>\n",
       "      <td>False</td>\n",
       "      <td>False</td>\n",
       "    </tr>\n",
       "  </tbody>\n",
       "</table>\n",
       "<p>5 rows × 168 columns</p>\n",
       "</div>"
      ],
      "text/plain": [
       "          Name  Agility  Accelerated Healing  Lantern Power Ring  \\\n",
       "0      3-D Man     True                False               False   \n",
       "1       A-Bomb    False                 True               False   \n",
       "2   Abe Sapien     True                 True               False   \n",
       "3     Abin Sur    False                False                True   \n",
       "4  Abomination    False                 True               False   \n",
       "\n",
       "   Dimensional Awareness  Cold Resistance  Durability  Stealth  \\\n",
       "0                  False            False       False    False   \n",
       "1                  False            False        True    False   \n",
       "2                  False             True        True    False   \n",
       "3                  False            False       False    False   \n",
       "4                  False            False       False    False   \n",
       "\n",
       "   Energy Absorption  Flight  ...  Web Creation  Reality Warping  Odin Force  \\\n",
       "0              False   False  ...         False            False       False   \n",
       "1              False   False  ...         False            False       False   \n",
       "2              False   False  ...         False            False       False   \n",
       "3              False   False  ...         False            False       False   \n",
       "4              False   False  ...         False            False       False   \n",
       "\n",
       "   Symbiote Costume  Speed Force  Phoenix Force  Molecular Dissipation  \\\n",
       "0             False        False          False                  False   \n",
       "1             False        False          False                  False   \n",
       "2             False        False          False                  False   \n",
       "3             False        False          False                  False   \n",
       "4             False        False          False                  False   \n",
       "\n",
       "   Vision - Cryo  Omnipresent  Omniscient  \n",
       "0          False        False       False  \n",
       "1          False        False       False  \n",
       "2          False        False       False  \n",
       "3          False        False       False  \n",
       "4          False        False       False  \n",
       "\n",
       "[5 rows x 168 columns]"
      ]
     },
     "execution_count": 78,
     "metadata": {},
     "output_type": "execute_result"
    }
   ],
   "source": [
    "superheroes.head()"
   ]
  },
  {
   "cell_type": "markdown",
   "metadata": {},
   "source": [
    "Сначала приведите данные к длинному формату, где единственным идентификатором будет имя героя Name. \n",
    "Новый столбец с названиями суперсил переименуйте в superpower. \n",
    "Полученный датафрейм запишите в superheroes_long."
   ]
  },
  {
   "cell_type": "markdown",
   "metadata": {},
   "source": [
    "Для того, чтобы соединить силы в списки и привести данные в желаемую форму, отфильтруйте колонку value так, чтобы остались строки только со значением True. \n",
    "Сгруппируйте датасет по Name, после чего возьмите столбец superpower и используйте .apply(list). \n",
    "Результат сохраните в superheroes_powers. \n",
    "\n",
    "Обратите внимание, что результирующий объект тоже должен быть датафреймом, а колонки должно быть всего две — Name и superpower."
   ]
  },
  {
   "cell_type": "code",
   "execution_count": 79,
   "metadata": {},
   "outputs": [
    {
     "data": {
      "text/html": [
       "<div>\n",
       "<style scoped>\n",
       "    .dataframe tbody tr th:only-of-type {\n",
       "        vertical-align: middle;\n",
       "    }\n",
       "\n",
       "    .dataframe tbody tr th {\n",
       "        vertical-align: top;\n",
       "    }\n",
       "\n",
       "    .dataframe thead th {\n",
       "        text-align: right;\n",
       "    }\n",
       "</style>\n",
       "<table border=\"1\" class=\"dataframe\">\n",
       "  <thead>\n",
       "    <tr style=\"text-align: right;\">\n",
       "      <th></th>\n",
       "      <th>Name</th>\n",
       "      <th>superpower</th>\n",
       "    </tr>\n",
       "  </thead>\n",
       "  <tbody>\n",
       "    <tr>\n",
       "      <th>0</th>\n",
       "      <td>3-D Man</td>\n",
       "      <td>[Agility, Super Strength, Stamina, Super Speed]</td>\n",
       "    </tr>\n",
       "    <tr>\n",
       "      <th>1</th>\n",
       "      <td>A-Bomb</td>\n",
       "      <td>[Accelerated Healing, Durability, Longevity, S...</td>\n",
       "    </tr>\n",
       "    <tr>\n",
       "      <th>2</th>\n",
       "      <td>Abe Sapien</td>\n",
       "      <td>[Agility, Accelerated Healing, Cold Resistance...</td>\n",
       "    </tr>\n",
       "    <tr>\n",
       "      <th>3</th>\n",
       "      <td>Abin Sur</td>\n",
       "      <td>[Lantern Power Ring]</td>\n",
       "    </tr>\n",
       "    <tr>\n",
       "      <th>4</th>\n",
       "      <td>Abomination</td>\n",
       "      <td>[Accelerated Healing, Intelligence, Super Stre...</td>\n",
       "    </tr>\n",
       "    <tr>\n",
       "      <th>...</th>\n",
       "      <td>...</td>\n",
       "      <td>...</td>\n",
       "    </tr>\n",
       "    <tr>\n",
       "      <th>662</th>\n",
       "      <td>Yellowjacket II</td>\n",
       "      <td>[Flight, Energy Blasts, Size Changing]</td>\n",
       "    </tr>\n",
       "    <tr>\n",
       "      <th>663</th>\n",
       "      <td>Ymir</td>\n",
       "      <td>[Cold Resistance, Durability, Longevity, Super...</td>\n",
       "    </tr>\n",
       "    <tr>\n",
       "      <th>664</th>\n",
       "      <td>Yoda</td>\n",
       "      <td>[Agility, Stealth, Danger Sense, Marksmanship,...</td>\n",
       "    </tr>\n",
       "    <tr>\n",
       "      <th>665</th>\n",
       "      <td>Zatanna</td>\n",
       "      <td>[Cryokinesis, Telepathy, Magic, Fire Control, ...</td>\n",
       "    </tr>\n",
       "    <tr>\n",
       "      <th>666</th>\n",
       "      <td>Zoom</td>\n",
       "      <td>[Super Speed, Intangibility, Time Travel, Time...</td>\n",
       "    </tr>\n",
       "  </tbody>\n",
       "</table>\n",
       "<p>667 rows × 2 columns</p>\n",
       "</div>"
      ],
      "text/plain": [
       "                Name                                         superpower\n",
       "0            3-D Man    [Agility, Super Strength, Stamina, Super Speed]\n",
       "1             A-Bomb  [Accelerated Healing, Durability, Longevity, S...\n",
       "2         Abe Sapien  [Agility, Accelerated Healing, Cold Resistance...\n",
       "3           Abin Sur                               [Lantern Power Ring]\n",
       "4        Abomination  [Accelerated Healing, Intelligence, Super Stre...\n",
       "..               ...                                                ...\n",
       "662  Yellowjacket II             [Flight, Energy Blasts, Size Changing]\n",
       "663             Ymir  [Cold Resistance, Durability, Longevity, Super...\n",
       "664             Yoda  [Agility, Stealth, Danger Sense, Marksmanship,...\n",
       "665          Zatanna  [Cryokinesis, Telepathy, Magic, Fire Control, ...\n",
       "666             Zoom  [Super Speed, Intangibility, Time Travel, Time...\n",
       "\n",
       "[667 rows x 2 columns]"
      ]
     },
     "execution_count": 79,
     "metadata": {},
     "output_type": "execute_result"
    }
   ],
   "source": [
    "superheroes_long = superheroes.melt(id_vars=['Name'], var_name = 'superpower')\n",
    "\n",
    "superheroes_powers = superheroes_long.query('value == True') \\\n",
    "    .groupby('Name') \\\n",
    "    .superpower.apply(list) \\\n",
    "    .to_frame() \\\n",
    "    .reset_index()\n",
    "\n",
    "superheroes_powers\n",
    "\n",
    "# другой способ:\n",
    "# agg({'superpower' : list}) - вместо apply, to-frame и reset"
   ]
  },
  {
   "cell_type": "markdown",
   "metadata": {},
   "source": [
    "Одно из нововведений в pandas версии 0.25.0 — метод **explode()** - ДЛЯ СЕРИЙ, КОТОРЫЕ СОДЕРЖАТ В СЕБЕ СПИСКИ\n",
    "\n",
    "Сначала создадим датафрейм из двух столбцов: колонку B заполним единичками, а в А запишем следующие элементы:\n",
    "в две ячейки – списки, состоящие из нескольких элементов, пустой список, 'kitten'"
   ]
  },
  {
   "cell_type": "code",
   "execution_count": 80,
   "metadata": {},
   "outputs": [
    {
     "data": {
      "text/html": [
       "<div>\n",
       "<style scoped>\n",
       "    .dataframe tbody tr th:only-of-type {\n",
       "        vertical-align: middle;\n",
       "    }\n",
       "\n",
       "    .dataframe tbody tr th {\n",
       "        vertical-align: top;\n",
       "    }\n",
       "\n",
       "    .dataframe thead th {\n",
       "        text-align: right;\n",
       "    }\n",
       "</style>\n",
       "<table border=\"1\" class=\"dataframe\">\n",
       "  <thead>\n",
       "    <tr style=\"text-align: right;\">\n",
       "      <th></th>\n",
       "      <th>A</th>\n",
       "      <th>B</th>\n",
       "    </tr>\n",
       "  </thead>\n",
       "  <tbody>\n",
       "    <tr>\n",
       "      <th>0</th>\n",
       "      <td>[1, 2, 3]</td>\n",
       "      <td>1</td>\n",
       "    </tr>\n",
       "    <tr>\n",
       "      <th>1</th>\n",
       "      <td>kitten</td>\n",
       "      <td>1</td>\n",
       "    </tr>\n",
       "    <tr>\n",
       "      <th>2</th>\n",
       "      <td>[]</td>\n",
       "      <td>1</td>\n",
       "    </tr>\n",
       "    <tr>\n",
       "      <th>3</th>\n",
       "      <td>[kitten, puppy]</td>\n",
       "      <td>1</td>\n",
       "    </tr>\n",
       "  </tbody>\n",
       "</table>\n",
       "</div>"
      ],
      "text/plain": [
       "                 A  B\n",
       "0        [1, 2, 3]  1\n",
       "1           kitten  1\n",
       "2               []  1\n",
       "3  [kitten, puppy]  1"
      ]
     },
     "execution_count": 80,
     "metadata": {},
     "output_type": "execute_result"
    }
   ],
   "source": [
    "df = pd.DataFrame({'A': [[1, 2, 3], \n",
    "                         'kitten', \n",
    "                         [], \n",
    "                         ['kitten', 'puppy']], \n",
    "                   'B': 1})\n",
    "df"
   ]
  },
  {
   "cell_type": "markdown",
   "metadata": {},
   "source": [
    "Такой формат данных в ячейках не очень удобен для дальнейшей работы. \n",
    "Например, как нам посчитать, сколько раз встретилось то или иное значение в А?\n",
    "\n",
    "Как раз здесь нам поможет explode. \n",
    "Метод преобразовывает каждый элемент списка в отдельный ряд, при этом сами индексы строк дублируются. \n",
    "На вход необходимо передать либо одну колонку, либо их список."
   ]
  },
  {
   "cell_type": "code",
   "execution_count": 81,
   "metadata": {},
   "outputs": [
    {
     "data": {
      "text/html": [
       "<div>\n",
       "<style scoped>\n",
       "    .dataframe tbody tr th:only-of-type {\n",
       "        vertical-align: middle;\n",
       "    }\n",
       "\n",
       "    .dataframe tbody tr th {\n",
       "        vertical-align: top;\n",
       "    }\n",
       "\n",
       "    .dataframe thead th {\n",
       "        text-align: right;\n",
       "    }\n",
       "</style>\n",
       "<table border=\"1\" class=\"dataframe\">\n",
       "  <thead>\n",
       "    <tr style=\"text-align: right;\">\n",
       "      <th></th>\n",
       "      <th>A</th>\n",
       "      <th>B</th>\n",
       "    </tr>\n",
       "  </thead>\n",
       "  <tbody>\n",
       "    <tr>\n",
       "      <th>0</th>\n",
       "      <td>1</td>\n",
       "      <td>1</td>\n",
       "    </tr>\n",
       "    <tr>\n",
       "      <th>0</th>\n",
       "      <td>2</td>\n",
       "      <td>1</td>\n",
       "    </tr>\n",
       "    <tr>\n",
       "      <th>0</th>\n",
       "      <td>3</td>\n",
       "      <td>1</td>\n",
       "    </tr>\n",
       "    <tr>\n",
       "      <th>1</th>\n",
       "      <td>kitten</td>\n",
       "      <td>1</td>\n",
       "    </tr>\n",
       "    <tr>\n",
       "      <th>2</th>\n",
       "      <td>NaN</td>\n",
       "      <td>1</td>\n",
       "    </tr>\n",
       "    <tr>\n",
       "      <th>3</th>\n",
       "      <td>kitten</td>\n",
       "      <td>1</td>\n",
       "    </tr>\n",
       "    <tr>\n",
       "      <th>3</th>\n",
       "      <td>puppy</td>\n",
       "      <td>1</td>\n",
       "    </tr>\n",
       "  </tbody>\n",
       "</table>\n",
       "</div>"
      ],
      "text/plain": [
       "        A  B\n",
       "0       1  1\n",
       "0       2  1\n",
       "0       3  1\n",
       "1  kitten  1\n",
       "2     NaN  1\n",
       "3  kitten  1\n",
       "3   puppy  1"
      ]
     },
     "execution_count": 81,
     "metadata": {},
     "output_type": "execute_result"
    }
   ],
   "source": [
    "df.explode('A')"
   ]
  },
  {
   "cell_type": "code",
   "execution_count": 82,
   "metadata": {},
   "outputs": [
    {
     "data": {
      "text/html": [
       "<div>\n",
       "<style scoped>\n",
       "    .dataframe tbody tr th:only-of-type {\n",
       "        vertical-align: middle;\n",
       "    }\n",
       "\n",
       "    .dataframe tbody tr th {\n",
       "        vertical-align: top;\n",
       "    }\n",
       "\n",
       "    .dataframe thead th {\n",
       "        text-align: right;\n",
       "    }\n",
       "</style>\n",
       "<table border=\"1\" class=\"dataframe\">\n",
       "  <thead>\n",
       "    <tr style=\"text-align: right;\">\n",
       "      <th></th>\n",
       "      <th>count</th>\n",
       "    </tr>\n",
       "  </thead>\n",
       "  <tbody>\n",
       "    <tr>\n",
       "      <th>kitten</th>\n",
       "      <td>2</td>\n",
       "    </tr>\n",
       "    <tr>\n",
       "      <th>puppy</th>\n",
       "      <td>1</td>\n",
       "    </tr>\n",
       "    <tr>\n",
       "      <th>3</th>\n",
       "      <td>1</td>\n",
       "    </tr>\n",
       "    <tr>\n",
       "      <th>2</th>\n",
       "      <td>1</td>\n",
       "    </tr>\n",
       "    <tr>\n",
       "      <th>1</th>\n",
       "      <td>1</td>\n",
       "    </tr>\n",
       "  </tbody>\n",
       "</table>\n",
       "</div>"
      ],
      "text/plain": [
       "        count\n",
       "kitten      2\n",
       "puppy       1\n",
       "3           1\n",
       "2           1\n",
       "1           1"
      ]
     },
     "execution_count": 82,
     "metadata": {},
     "output_type": "execute_result"
    }
   ],
   "source": [
    "# Посчитаем, сколько раз встречаются те или иные значения:\n",
    "df.explode('A').A.value_counts().to_frame(name='count')  # переименовываем \"A\" в \"count\""
   ]
  },
  {
   "cell_type": "markdown",
   "metadata": {},
   "source": [
    "### Управляем временем"
   ]
  },
  {
   "cell_type": "markdown",
   "metadata": {},
   "source": [
    "**resample**\n",
    "\n",
    "Теперь посмотрим, какие возможности pandas предоставляет для работы с временными рядами. \n",
    "Один из наиболее часто используемых и удобных методов — .resample(), позволяющий преобразовать данные и применить к ним другой метод (sum(), size() и пр.). \n",
    "\n",
    "Таким образом, можно рассчитать показатели, например, за весь день, неделю, месяц и т.п."
   ]
  },
  {
   "cell_type": "markdown",
   "metadata": {},
   "source": [
    "Date Offset\tОбозначение\tОписание\n",
    "\n",
    "- Week\t'W'\tодна неделя\n",
    "- MonthEnd\t'M'\tконец календарного месяца\n",
    "- MonthBegin\t'MS'\tначало календарного месяца\n",
    "- QuarterEnd\t'Q'\tконец календарного квартала\n",
    "- YearEnd\t'A'\tконец календарного года\n",
    "- YearBegin\t'AS' или 'BYS'\tначало календарного года\n",
    "- Day\t'D'\tдень\n",
    "- Hour\t'H'\tодин час\n",
    "- Minute\t'T' или 'min'\tодна минута\n",
    "- Second\t'S'\tодна секунда\n",
    "- Milli\t'L' или 'ms'\tодна миллисекунда \n",
    "- Micro\t'U' или 'us'\tодна микросекунда"
   ]
  },
  {
   "cell_type": "code",
   "execution_count": 83,
   "metadata": {},
   "outputs": [],
   "source": [
    "# Например, посчитать сумму показателя по дням, имея данные по часам, можно следующим образом:\n",
    "# data.resample(rule='D').sum()\n",
    "\n",
    "# где rule — параметр, отвечающий за то, по какому периоду нужно агрегировать данные. В данном случае параметр равен 'D' (Day). \n",
    "\n",
    "# Для получения данных за каждые 6 часов используем число и обозначение H:\n",
    "# data.resample(rule='6H').sum()"
   ]
  },
  {
   "cell_type": "markdown",
   "metadata": {},
   "source": [
    "В качестве индексов датафрейма обязательно нужно использовать колонку формата DateTime, отсортированную в правильном порядке. \n",
    "Поэтому предварительно всегда следует проверить правильность типа данных и, если требуется, привести его к правильному с помощью pd.to_datetime()."
   ]
  },
  {
   "cell_type": "markdown",
   "metadata": {},
   "source": [
    "В следующих задачах мы будем работать сэмплом данных об аренде велосипедов в Чикаго:\n",
    "\n",
    "- trip_id — id поездки;\n",
    "- start_time — Дата и время начала поездки\n",
    "- end_time — Дата и время конца поездки\n",
    "- bikeid — id велосипеда\n",
    "- tripduration — продолжительность поездки в минутах\n",
    "- from_station_id — id станции начала поездки\n",
    "- from_station_name — название пункта отправления\n",
    "- to_station_id — id пункта прибытия\n",
    "- to_station_name — название пункта прибытия\n",
    "- usertype — тип пользователя\n",
    "- gender — пол (если subscriber)\n",
    "- birthyear — год рождения (если subscriber)\n"
   ]
  },
  {
   "cell_type": "code",
   "execution_count": 84,
   "metadata": {},
   "outputs": [],
   "source": [
    "bikes_Q1 = pd.read_csv('/mnt/HC_Volume_18315164/home-jupyter/jupyter-a-eremina/lesson_8/bikes_q1_sample.csv')"
   ]
  },
  {
   "cell_type": "markdown",
   "metadata": {},
   "source": [
    "Перед тем как сделать .resample(), нужно немного подготовить данные. Поместите колонку start_time в качестве индексов и сохраните изменения в исходный датасет. \n",
    "Предварительно проверьте тип переменной, и приведите её к правильному, если необходимо.\n"
   ]
  },
  {
   "cell_type": "code",
   "execution_count": 85,
   "metadata": {},
   "outputs": [
    {
     "data": {
      "text/plain": [
       "trip_id                int64\n",
       "start_time            object\n",
       "end_time              object\n",
       "bikeid                 int64\n",
       "tripduration          object\n",
       "from_station_id        int64\n",
       "from_station_name     object\n",
       "to_station_id          int64\n",
       "to_station_name       object\n",
       "usertype              object\n",
       "gender                object\n",
       "birthyear            float64\n",
       "dtype: object"
      ]
     },
     "execution_count": 85,
     "metadata": {},
     "output_type": "execute_result"
    }
   ],
   "source": [
    "bikes_Q1.dtypes"
   ]
  },
  {
   "cell_type": "code",
   "execution_count": 86,
   "metadata": {},
   "outputs": [
    {
     "data": {
      "text/html": [
       "<div>\n",
       "<style scoped>\n",
       "    .dataframe tbody tr th:only-of-type {\n",
       "        vertical-align: middle;\n",
       "    }\n",
       "\n",
       "    .dataframe tbody tr th {\n",
       "        vertical-align: top;\n",
       "    }\n",
       "\n",
       "    .dataframe thead th {\n",
       "        text-align: right;\n",
       "    }\n",
       "</style>\n",
       "<table border=\"1\" class=\"dataframe\">\n",
       "  <thead>\n",
       "    <tr style=\"text-align: right;\">\n",
       "      <th></th>\n",
       "      <th>trip_id</th>\n",
       "      <th>start_time</th>\n",
       "      <th>end_time</th>\n",
       "      <th>bikeid</th>\n",
       "      <th>tripduration</th>\n",
       "      <th>from_station_id</th>\n",
       "      <th>from_station_name</th>\n",
       "      <th>to_station_id</th>\n",
       "      <th>to_station_name</th>\n",
       "      <th>usertype</th>\n",
       "      <th>gender</th>\n",
       "      <th>birthyear</th>\n",
       "    </tr>\n",
       "  </thead>\n",
       "  <tbody>\n",
       "    <tr>\n",
       "      <th>0</th>\n",
       "      <td>17617135</td>\n",
       "      <td>2018-01-22 20:04:31</td>\n",
       "      <td>2018-01-22 20:11:53</td>\n",
       "      <td>1131</td>\n",
       "      <td>442.0</td>\n",
       "      <td>471</td>\n",
       "      <td>Francisco Ave &amp; Foster Ave</td>\n",
       "      <td>468</td>\n",
       "      <td>Budlong Woods Library</td>\n",
       "      <td>Subscriber</td>\n",
       "      <td>Female</td>\n",
       "      <td>1949.0</td>\n",
       "    </tr>\n",
       "    <tr>\n",
       "      <th>1</th>\n",
       "      <td>17897619</td>\n",
       "      <td>2018-03-16 19:47:59</td>\n",
       "      <td>2018-03-16 20:04:00</td>\n",
       "      <td>6146</td>\n",
       "      <td>961.0</td>\n",
       "      <td>296</td>\n",
       "      <td>Broadway &amp; Belmont Ave</td>\n",
       "      <td>253</td>\n",
       "      <td>Winthrop Ave &amp; Lawrence Ave</td>\n",
       "      <td>Subscriber</td>\n",
       "      <td>Male</td>\n",
       "      <td>1988.0</td>\n",
       "    </tr>\n",
       "    <tr>\n",
       "      <th>2</th>\n",
       "      <td>17881307</td>\n",
       "      <td>2018-03-14 18:49:20</td>\n",
       "      <td>2018-03-14 18:54:38</td>\n",
       "      <td>3847</td>\n",
       "      <td>318.0</td>\n",
       "      <td>260</td>\n",
       "      <td>Kedzie Ave &amp; Milwaukee Ave</td>\n",
       "      <td>503</td>\n",
       "      <td>Drake Ave &amp; Fullerton Ave</td>\n",
       "      <td>Subscriber</td>\n",
       "      <td>Male</td>\n",
       "      <td>1987.0</td>\n",
       "    </tr>\n",
       "    <tr>\n",
       "      <th>3</th>\n",
       "      <td>17881130</td>\n",
       "      <td>2018-03-14 18:33:48</td>\n",
       "      <td>2018-03-14 19:07:40</td>\n",
       "      <td>1483</td>\n",
       "      <td>2,032.0</td>\n",
       "      <td>199</td>\n",
       "      <td>Wabash Ave &amp; Grand Ave</td>\n",
       "      <td>199</td>\n",
       "      <td>Wabash Ave &amp; Grand Ave</td>\n",
       "      <td>Subscriber</td>\n",
       "      <td>Male</td>\n",
       "      <td>1990.0</td>\n",
       "    </tr>\n",
       "    <tr>\n",
       "      <th>4</th>\n",
       "      <td>17686289</td>\n",
       "      <td>2018-02-05 17:39:14</td>\n",
       "      <td>2018-02-05 17:46:13</td>\n",
       "      <td>6391</td>\n",
       "      <td>419.0</td>\n",
       "      <td>596</td>\n",
       "      <td>Benson Ave &amp; Church St</td>\n",
       "      <td>605</td>\n",
       "      <td>University Library (NU)</td>\n",
       "      <td>Subscriber</td>\n",
       "      <td>Male</td>\n",
       "      <td>1992.0</td>\n",
       "    </tr>\n",
       "  </tbody>\n",
       "</table>\n",
       "</div>"
      ],
      "text/plain": [
       "    trip_id           start_time             end_time  bikeid tripduration  \\\n",
       "0  17617135  2018-01-22 20:04:31  2018-01-22 20:11:53    1131        442.0   \n",
       "1  17897619  2018-03-16 19:47:59  2018-03-16 20:04:00    6146        961.0   \n",
       "2  17881307  2018-03-14 18:49:20  2018-03-14 18:54:38    3847        318.0   \n",
       "3  17881130  2018-03-14 18:33:48  2018-03-14 19:07:40    1483      2,032.0   \n",
       "4  17686289  2018-02-05 17:39:14  2018-02-05 17:46:13    6391        419.0   \n",
       "\n",
       "   from_station_id           from_station_name  to_station_id  \\\n",
       "0              471  Francisco Ave & Foster Ave            468   \n",
       "1              296      Broadway & Belmont Ave            253   \n",
       "2              260  Kedzie Ave & Milwaukee Ave            503   \n",
       "3              199      Wabash Ave & Grand Ave            199   \n",
       "4              596      Benson Ave & Church St            605   \n",
       "\n",
       "               to_station_name    usertype  gender  birthyear  \n",
       "0        Budlong Woods Library  Subscriber  Female     1949.0  \n",
       "1  Winthrop Ave & Lawrence Ave  Subscriber    Male     1988.0  \n",
       "2    Drake Ave & Fullerton Ave  Subscriber    Male     1987.0  \n",
       "3       Wabash Ave & Grand Ave  Subscriber    Male     1990.0  \n",
       "4      University Library (NU)  Subscriber    Male     1992.0  "
      ]
     },
     "execution_count": 86,
     "metadata": {},
     "output_type": "execute_result"
    }
   ],
   "source": [
    "bikes_Q1.head()"
   ]
  },
  {
   "cell_type": "code",
   "execution_count": 87,
   "metadata": {},
   "outputs": [],
   "source": [
    "bikes_Q1['start_time'] = pd.to_datetime(bikes_Q1['start_time'], format='%Y-%m-%d %H:%M:%S')\n",
    "bikes_Q1.set_index('start_time', drop = True, inplace = True)"
   ]
  },
  {
   "cell_type": "code",
   "execution_count": 88,
   "metadata": {},
   "outputs": [
    {
     "data": {
      "text/html": [
       "<div>\n",
       "<style scoped>\n",
       "    .dataframe tbody tr th:only-of-type {\n",
       "        vertical-align: middle;\n",
       "    }\n",
       "\n",
       "    .dataframe tbody tr th {\n",
       "        vertical-align: top;\n",
       "    }\n",
       "\n",
       "    .dataframe thead th {\n",
       "        text-align: right;\n",
       "    }\n",
       "</style>\n",
       "<table border=\"1\" class=\"dataframe\">\n",
       "  <thead>\n",
       "    <tr style=\"text-align: right;\">\n",
       "      <th></th>\n",
       "      <th>trip_id</th>\n",
       "      <th>end_time</th>\n",
       "      <th>bikeid</th>\n",
       "      <th>tripduration</th>\n",
       "      <th>from_station_id</th>\n",
       "      <th>from_station_name</th>\n",
       "      <th>to_station_id</th>\n",
       "      <th>to_station_name</th>\n",
       "      <th>usertype</th>\n",
       "      <th>gender</th>\n",
       "      <th>birthyear</th>\n",
       "    </tr>\n",
       "    <tr>\n",
       "      <th>start_time</th>\n",
       "      <th></th>\n",
       "      <th></th>\n",
       "      <th></th>\n",
       "      <th></th>\n",
       "      <th></th>\n",
       "      <th></th>\n",
       "      <th></th>\n",
       "      <th></th>\n",
       "      <th></th>\n",
       "      <th></th>\n",
       "      <th></th>\n",
       "    </tr>\n",
       "  </thead>\n",
       "  <tbody>\n",
       "    <tr>\n",
       "      <th>2018-01-22 20:04:31</th>\n",
       "      <td>17617135</td>\n",
       "      <td>2018-01-22 20:11:53</td>\n",
       "      <td>1131</td>\n",
       "      <td>442.0</td>\n",
       "      <td>471</td>\n",
       "      <td>Francisco Ave &amp; Foster Ave</td>\n",
       "      <td>468</td>\n",
       "      <td>Budlong Woods Library</td>\n",
       "      <td>Subscriber</td>\n",
       "      <td>Female</td>\n",
       "      <td>1949.0</td>\n",
       "    </tr>\n",
       "    <tr>\n",
       "      <th>2018-03-16 19:47:59</th>\n",
       "      <td>17897619</td>\n",
       "      <td>2018-03-16 20:04:00</td>\n",
       "      <td>6146</td>\n",
       "      <td>961.0</td>\n",
       "      <td>296</td>\n",
       "      <td>Broadway &amp; Belmont Ave</td>\n",
       "      <td>253</td>\n",
       "      <td>Winthrop Ave &amp; Lawrence Ave</td>\n",
       "      <td>Subscriber</td>\n",
       "      <td>Male</td>\n",
       "      <td>1988.0</td>\n",
       "    </tr>\n",
       "    <tr>\n",
       "      <th>2018-03-14 18:49:20</th>\n",
       "      <td>17881307</td>\n",
       "      <td>2018-03-14 18:54:38</td>\n",
       "      <td>3847</td>\n",
       "      <td>318.0</td>\n",
       "      <td>260</td>\n",
       "      <td>Kedzie Ave &amp; Milwaukee Ave</td>\n",
       "      <td>503</td>\n",
       "      <td>Drake Ave &amp; Fullerton Ave</td>\n",
       "      <td>Subscriber</td>\n",
       "      <td>Male</td>\n",
       "      <td>1987.0</td>\n",
       "    </tr>\n",
       "    <tr>\n",
       "      <th>2018-03-14 18:33:48</th>\n",
       "      <td>17881130</td>\n",
       "      <td>2018-03-14 19:07:40</td>\n",
       "      <td>1483</td>\n",
       "      <td>2,032.0</td>\n",
       "      <td>199</td>\n",
       "      <td>Wabash Ave &amp; Grand Ave</td>\n",
       "      <td>199</td>\n",
       "      <td>Wabash Ave &amp; Grand Ave</td>\n",
       "      <td>Subscriber</td>\n",
       "      <td>Male</td>\n",
       "      <td>1990.0</td>\n",
       "    </tr>\n",
       "    <tr>\n",
       "      <th>2018-02-05 17:39:14</th>\n",
       "      <td>17686289</td>\n",
       "      <td>2018-02-05 17:46:13</td>\n",
       "      <td>6391</td>\n",
       "      <td>419.0</td>\n",
       "      <td>596</td>\n",
       "      <td>Benson Ave &amp; Church St</td>\n",
       "      <td>605</td>\n",
       "      <td>University Library (NU)</td>\n",
       "      <td>Subscriber</td>\n",
       "      <td>Male</td>\n",
       "      <td>1992.0</td>\n",
       "    </tr>\n",
       "  </tbody>\n",
       "</table>\n",
       "</div>"
      ],
      "text/plain": [
       "                      trip_id             end_time  bikeid tripduration  \\\n",
       "start_time                                                                \n",
       "2018-01-22 20:04:31  17617135  2018-01-22 20:11:53    1131        442.0   \n",
       "2018-03-16 19:47:59  17897619  2018-03-16 20:04:00    6146        961.0   \n",
       "2018-03-14 18:49:20  17881307  2018-03-14 18:54:38    3847        318.0   \n",
       "2018-03-14 18:33:48  17881130  2018-03-14 19:07:40    1483      2,032.0   \n",
       "2018-02-05 17:39:14  17686289  2018-02-05 17:46:13    6391        419.0   \n",
       "\n",
       "                     from_station_id           from_station_name  \\\n",
       "start_time                                                         \n",
       "2018-01-22 20:04:31              471  Francisco Ave & Foster Ave   \n",
       "2018-03-16 19:47:59              296      Broadway & Belmont Ave   \n",
       "2018-03-14 18:49:20              260  Kedzie Ave & Milwaukee Ave   \n",
       "2018-03-14 18:33:48              199      Wabash Ave & Grand Ave   \n",
       "2018-02-05 17:39:14              596      Benson Ave & Church St   \n",
       "\n",
       "                     to_station_id              to_station_name    usertype  \\\n",
       "start_time                                                                    \n",
       "2018-01-22 20:04:31            468        Budlong Woods Library  Subscriber   \n",
       "2018-03-16 19:47:59            253  Winthrop Ave & Lawrence Ave  Subscriber   \n",
       "2018-03-14 18:49:20            503    Drake Ave & Fullerton Ave  Subscriber   \n",
       "2018-03-14 18:33:48            199       Wabash Ave & Grand Ave  Subscriber   \n",
       "2018-02-05 17:39:14            605      University Library (NU)  Subscriber   \n",
       "\n",
       "                     gender  birthyear  \n",
       "start_time                              \n",
       "2018-01-22 20:04:31  Female     1949.0  \n",
       "2018-03-16 19:47:59    Male     1988.0  \n",
       "2018-03-14 18:49:20    Male     1987.0  \n",
       "2018-03-14 18:33:48    Male     1990.0  \n",
       "2018-02-05 17:39:14    Male     1992.0  "
      ]
     },
     "execution_count": 88,
     "metadata": {},
     "output_type": "execute_result"
    }
   ],
   "source": [
    "bikes_Q1.head()"
   ]
  },
  {
   "cell_type": "markdown",
   "metadata": {},
   "source": [
    "В данных имеется как дата аренды, так и её точное время начала и окончания с точностью до секунд. Примените метод pd.resample() и агрегируйте данные по дням. \n",
    "В качестве ответа укажите максимальное число аренд за день."
   ]
  },
  {
   "cell_type": "code",
   "execution_count": 89,
   "metadata": {},
   "outputs": [
    {
     "data": {
      "text/plain": [
       "4196"
      ]
     },
     "execution_count": 89,
     "metadata": {},
     "output_type": "execute_result"
    }
   ],
   "source": [
    "bikes_Q1.resample(rule='D').size().max()"
   ]
  },
  {
   "cell_type": "markdown",
   "metadata": {},
   "source": [
    "Посмотрим на распределение количества аренд для разных групп пользователей (usertype) — customers и subscribers в данных за апрель. \n",
    "\n",
    "Сделайте ресемпл по дням для каждой группы и в качестве ответа укажите число аренд за 18 апреля, сделанных пользователями типа Subscriber.\n",
    "\n",
    "Может пригодиться: функция для транспонирования .T"
   ]
  },
  {
   "cell_type": "code",
   "execution_count": 90,
   "metadata": {},
   "outputs": [],
   "source": [
    "bikes_april = pd.read_csv('/mnt/HC_Volume_18315164/home-jupyter/jupyter-a-eremina/lesson_8/bikes_april.csv')"
   ]
  },
  {
   "cell_type": "code",
   "execution_count": 91,
   "metadata": {},
   "outputs": [
    {
     "data": {
      "text/html": [
       "<div>\n",
       "<style scoped>\n",
       "    .dataframe tbody tr th:only-of-type {\n",
       "        vertical-align: middle;\n",
       "    }\n",
       "\n",
       "    .dataframe tbody tr th {\n",
       "        vertical-align: top;\n",
       "    }\n",
       "\n",
       "    .dataframe thead th {\n",
       "        text-align: right;\n",
       "    }\n",
       "</style>\n",
       "<table border=\"1\" class=\"dataframe\">\n",
       "  <thead>\n",
       "    <tr style=\"text-align: right;\">\n",
       "      <th></th>\n",
       "      <th>start_time</th>\n",
       "      <th>trip_id</th>\n",
       "      <th>end_time</th>\n",
       "      <th>bikeid</th>\n",
       "      <th>tripduration</th>\n",
       "      <th>from_station_id</th>\n",
       "      <th>from_station_name</th>\n",
       "      <th>to_station_id</th>\n",
       "      <th>to_station_name</th>\n",
       "      <th>usertype</th>\n",
       "      <th>gender</th>\n",
       "      <th>birthyear</th>\n",
       "    </tr>\n",
       "  </thead>\n",
       "  <tbody>\n",
       "    <tr>\n",
       "      <th>0</th>\n",
       "      <td>2018-04-01 00:10:23</td>\n",
       "      <td>18000531</td>\n",
       "      <td>2018-04-01 00:22:12</td>\n",
       "      <td>5065</td>\n",
       "      <td>709.0</td>\n",
       "      <td>228</td>\n",
       "      <td>Damen Ave &amp; Melrose Ave</td>\n",
       "      <td>219</td>\n",
       "      <td>Damen Ave &amp; Cortland St</td>\n",
       "      <td>Subscriber</td>\n",
       "      <td>Male</td>\n",
       "      <td>1983.0</td>\n",
       "    </tr>\n",
       "    <tr>\n",
       "      <th>1</th>\n",
       "      <td>2018-04-01 00:15:49</td>\n",
       "      <td>18000533</td>\n",
       "      <td>2018-04-01 00:19:47</td>\n",
       "      <td>4570</td>\n",
       "      <td>238.0</td>\n",
       "      <td>128</td>\n",
       "      <td>Damen Ave &amp; Chicago Ave</td>\n",
       "      <td>130</td>\n",
       "      <td>Damen Ave &amp; Division St</td>\n",
       "      <td>Subscriber</td>\n",
       "      <td>Male</td>\n",
       "      <td>1978.0</td>\n",
       "    </tr>\n",
       "    <tr>\n",
       "      <th>2</th>\n",
       "      <td>2018-04-01 00:17:00</td>\n",
       "      <td>18000534</td>\n",
       "      <td>2018-04-01 00:22:53</td>\n",
       "      <td>1323</td>\n",
       "      <td>353.0</td>\n",
       "      <td>130</td>\n",
       "      <td>Damen Ave &amp; Division St</td>\n",
       "      <td>69</td>\n",
       "      <td>Damen Ave &amp; Pierce Ave</td>\n",
       "      <td>Subscriber</td>\n",
       "      <td>Male</td>\n",
       "      <td>1991.0</td>\n",
       "    </tr>\n",
       "    <tr>\n",
       "      <th>3</th>\n",
       "      <td>2018-04-01 00:20:00</td>\n",
       "      <td>18000536</td>\n",
       "      <td>2018-04-01 00:26:22</td>\n",
       "      <td>2602</td>\n",
       "      <td>382.0</td>\n",
       "      <td>121</td>\n",
       "      <td>Blackstone Ave &amp; Hyde Park Blvd</td>\n",
       "      <td>351</td>\n",
       "      <td>Cottage Grove Ave &amp; 51st St</td>\n",
       "      <td>Subscriber</td>\n",
       "      <td>Female</td>\n",
       "      <td>1992.0</td>\n",
       "    </tr>\n",
       "    <tr>\n",
       "      <th>4</th>\n",
       "      <td>2018-04-01 00:23:19</td>\n",
       "      <td>18000538</td>\n",
       "      <td>2018-04-01 00:35:01</td>\n",
       "      <td>4213</td>\n",
       "      <td>702.0</td>\n",
       "      <td>31</td>\n",
       "      <td>Franklin St &amp; Chicago Ave</td>\n",
       "      <td>180</td>\n",
       "      <td>Ritchie Ct &amp; Banks St</td>\n",
       "      <td>Subscriber</td>\n",
       "      <td>Male</td>\n",
       "      <td>1985.0</td>\n",
       "    </tr>\n",
       "  </tbody>\n",
       "</table>\n",
       "</div>"
      ],
      "text/plain": [
       "            start_time   trip_id             end_time  bikeid tripduration  \\\n",
       "0  2018-04-01 00:10:23  18000531  2018-04-01 00:22:12    5065        709.0   \n",
       "1  2018-04-01 00:15:49  18000533  2018-04-01 00:19:47    4570        238.0   \n",
       "2  2018-04-01 00:17:00  18000534  2018-04-01 00:22:53    1323        353.0   \n",
       "3  2018-04-01 00:20:00  18000536  2018-04-01 00:26:22    2602        382.0   \n",
       "4  2018-04-01 00:23:19  18000538  2018-04-01 00:35:01    4213        702.0   \n",
       "\n",
       "   from_station_id                from_station_name  to_station_id  \\\n",
       "0              228          Damen Ave & Melrose Ave            219   \n",
       "1              128          Damen Ave & Chicago Ave            130   \n",
       "2              130          Damen Ave & Division St             69   \n",
       "3              121  Blackstone Ave & Hyde Park Blvd            351   \n",
       "4               31        Franklin St & Chicago Ave            180   \n",
       "\n",
       "               to_station_name    usertype  gender  birthyear  \n",
       "0      Damen Ave & Cortland St  Subscriber    Male     1983.0  \n",
       "1      Damen Ave & Division St  Subscriber    Male     1978.0  \n",
       "2       Damen Ave & Pierce Ave  Subscriber    Male     1991.0  \n",
       "3  Cottage Grove Ave & 51st St  Subscriber  Female     1992.0  \n",
       "4        Ritchie Ct & Banks St  Subscriber    Male     1985.0  "
      ]
     },
     "execution_count": 91,
     "metadata": {},
     "output_type": "execute_result"
    }
   ],
   "source": [
    "bikes_april.head()"
   ]
  },
  {
   "cell_type": "code",
   "execution_count": 92,
   "metadata": {},
   "outputs": [],
   "source": [
    "bikes_april['start_time'] = pd.to_datetime(bikes_april['start_time'], format='%Y-%m-%d %H:%M:%S')\n",
    "bikes_april.set_index('start_time', drop = True, inplace = True)"
   ]
  },
  {
   "cell_type": "code",
   "execution_count": 93,
   "metadata": {},
   "outputs": [
    {
     "data": {
      "text/plain": [
       "2196"
      ]
     },
     "execution_count": 93,
     "metadata": {},
     "output_type": "execute_result"
    }
   ],
   "source": [
    "bikes_april.query('usertype == \"Subscriber\"').resample(rule='D').size().loc['2018-04-18']"
   ]
  },
  {
   "cell_type": "code",
   "execution_count": 94,
   "metadata": {},
   "outputs": [
    {
     "data": {
      "text/plain": [
       "2196"
      ]
     },
     "execution_count": 94,
     "metadata": {},
     "output_type": "execute_result"
    }
   ],
   "source": [
    "# другой вариант с транспонированием\n",
    "bikes_april.groupby(['usertype']).resample(rule='D').size().T.loc['2018-04-18', 'Subscriber']"
   ]
  },
  {
   "cell_type": "code",
   "execution_count": 95,
   "metadata": {},
   "outputs": [],
   "source": [
    "df1 = pd.read_csv('/mnt/HC_Volume_18315164/home-jupyter/jupyter-a-eremina/lesson_8/bikes_q2_sample_apr.csv')\n",
    "df2 = pd.read_csv('/mnt/HC_Volume_18315164/home-jupyter/jupyter-a-eremina/lesson_8/bikes_q2_sample_jun.csv')\n",
    "df3 = pd.read_csv('/mnt/HC_Volume_18315164/home-jupyter/jupyter-a-eremina/lesson_8/bikes_q2_sample_may.csv')\n",
    "df4 = pd.read_csv('/mnt/HC_Volume_18315164/home-jupyter/jupyter-a-eremina/lesson_8/bikes_q3_sample_aug.csv')\n",
    "df5 = pd.read_csv('/mnt/HC_Volume_18315164/home-jupyter/jupyter-a-eremina/lesson_8/bikes_q3_sample_july.csv')\n",
    "df6 = pd.read_csv('/mnt/HC_Volume_18315164/home-jupyter/jupyter-a-eremina/lesson_8/bikes_q3_sample_sep.csv')\n",
    "df7 = pd.read_csv('/mnt/HC_Volume_18315164/home-jupyter/jupyter-a-eremina/lesson_8/bikes_q4_sample_dec.csv')\n",
    "df8 = pd.read_csv('/mnt/HC_Volume_18315164/home-jupyter/jupyter-a-eremina/lesson_8/bikes_q4_sample_nov.csv')\n",
    "df9 = pd.read_csv('/mnt/HC_Volume_18315164/home-jupyter/jupyter-a-eremina/lesson_8/bikes_q4_sample_oct.csv')"
   ]
  },
  {
   "cell_type": "code",
   "execution_count": 96,
   "metadata": {},
   "outputs": [],
   "source": [
    "df_full = pd.concat([df1, df2, df3, df4, df5, df6, df7, df8, df9])"
   ]
  },
  {
   "cell_type": "code",
   "execution_count": 97,
   "metadata": {},
   "outputs": [
    {
     "data": {
      "text/html": [
       "<div>\n",
       "<style scoped>\n",
       "    .dataframe tbody tr th:only-of-type {\n",
       "        vertical-align: middle;\n",
       "    }\n",
       "\n",
       "    .dataframe tbody tr th {\n",
       "        vertical-align: top;\n",
       "    }\n",
       "\n",
       "    .dataframe thead th {\n",
       "        text-align: right;\n",
       "    }\n",
       "</style>\n",
       "<table border=\"1\" class=\"dataframe\">\n",
       "  <thead>\n",
       "    <tr style=\"text-align: right;\">\n",
       "      <th></th>\n",
       "      <th>trip_id</th>\n",
       "      <th>start_time</th>\n",
       "      <th>end_time</th>\n",
       "      <th>bikeid</th>\n",
       "      <th>tripduration</th>\n",
       "      <th>from_station_id</th>\n",
       "      <th>from_station_name</th>\n",
       "      <th>to_station_id</th>\n",
       "      <th>to_station_name</th>\n",
       "      <th>usertype</th>\n",
       "      <th>gender</th>\n",
       "      <th>birthyear</th>\n",
       "    </tr>\n",
       "  </thead>\n",
       "  <tbody>\n",
       "    <tr>\n",
       "      <th>0</th>\n",
       "      <td>18000534</td>\n",
       "      <td>2018-04-01 00:17:00</td>\n",
       "      <td>2018-04-01 00:22:53</td>\n",
       "      <td>1323</td>\n",
       "      <td>353.0</td>\n",
       "      <td>130</td>\n",
       "      <td>Damen Ave &amp; Division St</td>\n",
       "      <td>69</td>\n",
       "      <td>Damen Ave &amp; Pierce Ave</td>\n",
       "      <td>Subscriber</td>\n",
       "      <td>Male</td>\n",
       "      <td>1991.0</td>\n",
       "    </tr>\n",
       "    <tr>\n",
       "      <th>1</th>\n",
       "      <td>18000536</td>\n",
       "      <td>2018-04-01 00:20:00</td>\n",
       "      <td>2018-04-01 00:26:22</td>\n",
       "      <td>2602</td>\n",
       "      <td>382.0</td>\n",
       "      <td>121</td>\n",
       "      <td>Blackstone Ave &amp; Hyde Park Blvd</td>\n",
       "      <td>351</td>\n",
       "      <td>Cottage Grove Ave &amp; 51st St</td>\n",
       "      <td>Subscriber</td>\n",
       "      <td>Female</td>\n",
       "      <td>1992.0</td>\n",
       "    </tr>\n",
       "    <tr>\n",
       "      <th>2</th>\n",
       "      <td>18000538</td>\n",
       "      <td>2018-04-01 00:23:19</td>\n",
       "      <td>2018-04-01 00:35:01</td>\n",
       "      <td>4213</td>\n",
       "      <td>702.0</td>\n",
       "      <td>31</td>\n",
       "      <td>Franklin St &amp; Chicago Ave</td>\n",
       "      <td>180</td>\n",
       "      <td>Ritchie Ct &amp; Banks St</td>\n",
       "      <td>Subscriber</td>\n",
       "      <td>Male</td>\n",
       "      <td>1985.0</td>\n",
       "    </tr>\n",
       "    <tr>\n",
       "      <th>3</th>\n",
       "      <td>18000540</td>\n",
       "      <td>2018-04-01 00:24:46</td>\n",
       "      <td>2018-04-01 00:44:23</td>\n",
       "      <td>6401</td>\n",
       "      <td>1,177.0</td>\n",
       "      <td>596</td>\n",
       "      <td>Benson Ave &amp; Church St</td>\n",
       "      <td>517</td>\n",
       "      <td>Clark St &amp; Jarvis Ave</td>\n",
       "      <td>Subscriber</td>\n",
       "      <td>Male</td>\n",
       "      <td>1974.0</td>\n",
       "    </tr>\n",
       "    <tr>\n",
       "      <th>4</th>\n",
       "      <td>18000541</td>\n",
       "      <td>2018-04-01 00:26:04</td>\n",
       "      <td>2018-04-01 00:31:05</td>\n",
       "      <td>6333</td>\n",
       "      <td>301.0</td>\n",
       "      <td>145</td>\n",
       "      <td>Mies van der Rohe Way &amp; Chestnut St</td>\n",
       "      <td>24</td>\n",
       "      <td>Fairbanks Ct &amp; Grand Ave</td>\n",
       "      <td>Subscriber</td>\n",
       "      <td>Male</td>\n",
       "      <td>1984.0</td>\n",
       "    </tr>\n",
       "  </tbody>\n",
       "</table>\n",
       "</div>"
      ],
      "text/plain": [
       "    trip_id           start_time             end_time  bikeid tripduration  \\\n",
       "0  18000534  2018-04-01 00:17:00  2018-04-01 00:22:53    1323        353.0   \n",
       "1  18000536  2018-04-01 00:20:00  2018-04-01 00:26:22    2602        382.0   \n",
       "2  18000538  2018-04-01 00:23:19  2018-04-01 00:35:01    4213        702.0   \n",
       "3  18000540  2018-04-01 00:24:46  2018-04-01 00:44:23    6401      1,177.0   \n",
       "4  18000541  2018-04-01 00:26:04  2018-04-01 00:31:05    6333        301.0   \n",
       "\n",
       "   from_station_id                    from_station_name  to_station_id  \\\n",
       "0              130              Damen Ave & Division St             69   \n",
       "1              121      Blackstone Ave & Hyde Park Blvd            351   \n",
       "2               31            Franklin St & Chicago Ave            180   \n",
       "3              596               Benson Ave & Church St            517   \n",
       "4              145  Mies van der Rohe Way & Chestnut St             24   \n",
       "\n",
       "               to_station_name    usertype  gender  birthyear  \n",
       "0       Damen Ave & Pierce Ave  Subscriber    Male     1991.0  \n",
       "1  Cottage Grove Ave & 51st St  Subscriber  Female     1992.0  \n",
       "2        Ritchie Ct & Banks St  Subscriber    Male     1985.0  \n",
       "3        Clark St & Jarvis Ave  Subscriber    Male     1974.0  \n",
       "4     Fairbanks Ct & Grand Ave  Subscriber    Male     1984.0  "
      ]
     },
     "execution_count": 97,
     "metadata": {},
     "output_type": "execute_result"
    }
   ],
   "source": [
    "df_full.head()"
   ]
  },
  {
   "cell_type": "code",
   "execution_count": 98,
   "metadata": {},
   "outputs": [],
   "source": [
    "df_full['start_time'] = pd.to_datetime(df_full['start_time'], format='%Y-%m-%d %H:%M:%S')\n",
    "df_full.set_index('start_time', drop = True, inplace = True)"
   ]
  },
  {
   "cell_type": "code",
   "execution_count": 99,
   "metadata": {},
   "outputs": [],
   "source": [
    "df2_full = df_full.groupby(['usertype']).resample(rule = 'D').size().T"
   ]
  },
  {
   "cell_type": "code",
   "execution_count": 100,
   "metadata": {},
   "outputs": [
    {
     "data": {
      "text/html": [
       "<div>\n",
       "<style scoped>\n",
       "    .dataframe tbody tr th:only-of-type {\n",
       "        vertical-align: middle;\n",
       "    }\n",
       "\n",
       "    .dataframe tbody tr th {\n",
       "        vertical-align: top;\n",
       "    }\n",
       "\n",
       "    .dataframe thead th {\n",
       "        text-align: right;\n",
       "    }\n",
       "</style>\n",
       "<table border=\"1\" class=\"dataframe\">\n",
       "  <thead>\n",
       "    <tr style=\"text-align: right;\">\n",
       "      <th>usertype</th>\n",
       "      <th>Customer</th>\n",
       "      <th>Subscriber</th>\n",
       "    </tr>\n",
       "    <tr>\n",
       "      <th>start_time</th>\n",
       "      <th></th>\n",
       "      <th></th>\n",
       "    </tr>\n",
       "  </thead>\n",
       "  <tbody>\n",
       "    <tr>\n",
       "      <th>2018-05-27</th>\n",
       "      <td>3263</td>\n",
       "      <td>2449</td>\n",
       "    </tr>\n",
       "    <tr>\n",
       "      <th>2018-09-02</th>\n",
       "      <td>2752</td>\n",
       "      <td>2183</td>\n",
       "    </tr>\n",
       "  </tbody>\n",
       "</table>\n",
       "</div>"
      ],
      "text/plain": [
       "usertype    Customer  Subscriber\n",
       "start_time                      \n",
       "2018-05-27      3263        2449\n",
       "2018-09-02      2752        2183"
      ]
     },
     "execution_count": 100,
     "metadata": {},
     "output_type": "execute_result"
    }
   ],
   "source": [
    "df2_full[df2_full.Customer > df2_full.Subscriber]"
   ]
  },
  {
   "cell_type": "markdown",
   "metadata": {},
   "source": [
    "Еще один плюс использования дат в качестве индексов – возможность выбрать данные за интересующий нас промежуток времени. \n",
    "\n",
    "В переменную bikes_summer сохраните наблюдения с 1 июня по 31 августа. Затем запишите в top_destination наиболее популярный пункт назначения (его название). \n",
    "Агрегируйте данные по дням и определите, в какой день в полученный пункт (top_destination) было совершено меньше всего поездок. \n",
    "Дату сохраните в bad_day, отформатировав timestamp с помощью .strftime('%Y-%m-%d').\n",
    "\n",
    "Могут пригодиться:\n",
    "- loc\n",
    "- strftime\n",
    "- idxmin, idxmax\n",
    "- size\n",
    "- query"
   ]
  },
  {
   "cell_type": "code",
   "execution_count": 101,
   "metadata": {},
   "outputs": [
    {
     "data": {
      "text/html": [
       "<div>\n",
       "<style scoped>\n",
       "    .dataframe tbody tr th:only-of-type {\n",
       "        vertical-align: middle;\n",
       "    }\n",
       "\n",
       "    .dataframe tbody tr th {\n",
       "        vertical-align: top;\n",
       "    }\n",
       "\n",
       "    .dataframe thead th {\n",
       "        text-align: right;\n",
       "    }\n",
       "</style>\n",
       "<table border=\"1\" class=\"dataframe\">\n",
       "  <thead>\n",
       "    <tr style=\"text-align: right;\">\n",
       "      <th></th>\n",
       "      <th>trip_id</th>\n",
       "      <th>end_time</th>\n",
       "      <th>bikeid</th>\n",
       "      <th>tripduration</th>\n",
       "      <th>from_station_id</th>\n",
       "      <th>from_station_name</th>\n",
       "      <th>to_station_id</th>\n",
       "      <th>to_station_name</th>\n",
       "      <th>usertype</th>\n",
       "      <th>gender</th>\n",
       "      <th>birthyear</th>\n",
       "    </tr>\n",
       "    <tr>\n",
       "      <th>start_time</th>\n",
       "      <th></th>\n",
       "      <th></th>\n",
       "      <th></th>\n",
       "      <th></th>\n",
       "      <th></th>\n",
       "      <th></th>\n",
       "      <th></th>\n",
       "      <th></th>\n",
       "      <th></th>\n",
       "      <th></th>\n",
       "      <th></th>\n",
       "    </tr>\n",
       "  </thead>\n",
       "  <tbody>\n",
       "    <tr>\n",
       "      <th>2018-06-01 00:04:40</th>\n",
       "      <td>18709077</td>\n",
       "      <td>2018-06-01 00:06:47</td>\n",
       "      <td>3155</td>\n",
       "      <td>127.0</td>\n",
       "      <td>128</td>\n",
       "      <td>Damen Ave &amp; Chicago Ave</td>\n",
       "      <td>214</td>\n",
       "      <td>Damen Ave &amp; Grand Ave</td>\n",
       "      <td>Subscriber</td>\n",
       "      <td>Female</td>\n",
       "      <td>1978.0</td>\n",
       "    </tr>\n",
       "    <tr>\n",
       "      <th>2018-06-01 00:06:08</th>\n",
       "      <td>18709080</td>\n",
       "      <td>2018-06-01 00:24:18</td>\n",
       "      <td>2807</td>\n",
       "      <td>1,090.0</td>\n",
       "      <td>258</td>\n",
       "      <td>Logan Blvd &amp; Elston Ave</td>\n",
       "      <td>69</td>\n",
       "      <td>Damen Ave &amp; Pierce Ave</td>\n",
       "      <td>Customer</td>\n",
       "      <td>NaN</td>\n",
       "      <td>NaN</td>\n",
       "    </tr>\n",
       "    <tr>\n",
       "      <th>2018-06-01 00:08:01</th>\n",
       "      <td>18709086</td>\n",
       "      <td>2018-06-01 00:32:55</td>\n",
       "      <td>2737</td>\n",
       "      <td>1,494.0</td>\n",
       "      <td>337</td>\n",
       "      <td>Clark St &amp; Chicago Ave</td>\n",
       "      <td>225</td>\n",
       "      <td>Halsted St &amp; Dickens Ave</td>\n",
       "      <td>Customer</td>\n",
       "      <td>Male</td>\n",
       "      <td>1988.0</td>\n",
       "    </tr>\n",
       "    <tr>\n",
       "      <th>2018-06-01 00:09:02</th>\n",
       "      <td>18709091</td>\n",
       "      <td>2018-06-01 00:19:21</td>\n",
       "      <td>6089</td>\n",
       "      <td>619.0</td>\n",
       "      <td>210</td>\n",
       "      <td>Ashland Ave &amp; Division St</td>\n",
       "      <td>56</td>\n",
       "      <td>Desplaines St &amp; Kinzie St</td>\n",
       "      <td>Subscriber</td>\n",
       "      <td>Male</td>\n",
       "      <td>1987.0</td>\n",
       "    </tr>\n",
       "    <tr>\n",
       "      <th>2018-06-01 00:09:28</th>\n",
       "      <td>18709092</td>\n",
       "      <td>2018-06-01 00:14:44</td>\n",
       "      <td>2352</td>\n",
       "      <td>316.0</td>\n",
       "      <td>240</td>\n",
       "      <td>Sheridan Rd &amp; Irving Park Rd</td>\n",
       "      <td>303</td>\n",
       "      <td>Broadway &amp; Cornelia Ave</td>\n",
       "      <td>Subscriber</td>\n",
       "      <td>Male</td>\n",
       "      <td>1997.0</td>\n",
       "    </tr>\n",
       "  </tbody>\n",
       "</table>\n",
       "</div>"
      ],
      "text/plain": [
       "                      trip_id             end_time  bikeid tripduration  \\\n",
       "start_time                                                                \n",
       "2018-06-01 00:04:40  18709077  2018-06-01 00:06:47    3155        127.0   \n",
       "2018-06-01 00:06:08  18709080  2018-06-01 00:24:18    2807      1,090.0   \n",
       "2018-06-01 00:08:01  18709086  2018-06-01 00:32:55    2737      1,494.0   \n",
       "2018-06-01 00:09:02  18709091  2018-06-01 00:19:21    6089        619.0   \n",
       "2018-06-01 00:09:28  18709092  2018-06-01 00:14:44    2352        316.0   \n",
       "\n",
       "                     from_station_id             from_station_name  \\\n",
       "start_time                                                           \n",
       "2018-06-01 00:04:40              128       Damen Ave & Chicago Ave   \n",
       "2018-06-01 00:06:08              258       Logan Blvd & Elston Ave   \n",
       "2018-06-01 00:08:01              337        Clark St & Chicago Ave   \n",
       "2018-06-01 00:09:02              210     Ashland Ave & Division St   \n",
       "2018-06-01 00:09:28              240  Sheridan Rd & Irving Park Rd   \n",
       "\n",
       "                     to_station_id            to_station_name    usertype  \\\n",
       "start_time                                                                  \n",
       "2018-06-01 00:04:40            214      Damen Ave & Grand Ave  Subscriber   \n",
       "2018-06-01 00:06:08             69     Damen Ave & Pierce Ave    Customer   \n",
       "2018-06-01 00:08:01            225   Halsted St & Dickens Ave    Customer   \n",
       "2018-06-01 00:09:02             56  Desplaines St & Kinzie St  Subscriber   \n",
       "2018-06-01 00:09:28            303    Broadway & Cornelia Ave  Subscriber   \n",
       "\n",
       "                     gender  birthyear  \n",
       "start_time                              \n",
       "2018-06-01 00:04:40  Female     1978.0  \n",
       "2018-06-01 00:06:08     NaN        NaN  \n",
       "2018-06-01 00:08:01    Male     1988.0  \n",
       "2018-06-01 00:09:02    Male     1987.0  \n",
       "2018-06-01 00:09:28    Male     1997.0  "
      ]
     },
     "execution_count": 101,
     "metadata": {},
     "output_type": "execute_result"
    }
   ],
   "source": [
    "bikes_summer = df_full.loc['2018-06-01': '2018-08-31']\n",
    "bikes_summer.head()"
   ]
  },
  {
   "cell_type": "code",
   "execution_count": 102,
   "metadata": {},
   "outputs": [
    {
     "data": {
      "text/plain": [
       "'Streeter Dr & Grand Ave'"
      ]
     },
     "execution_count": 102,
     "metadata": {},
     "output_type": "execute_result"
    }
   ],
   "source": [
    "top_destination = bikes_summer.groupby('to_station_name').size().idxmax()\n",
    "# .gender.idxmax() Canal St & Adams St\t\n",
    "top_destination"
   ]
  },
  {
   "cell_type": "markdown",
   "metadata": {},
   "source": [
    "Агрегируйте данные по дням и определите, в какой день в полученный пункт (top_destination) было совершено меньше всего поездок. \n",
    "\n",
    "Дату сохраните в bad_day, отформатировав timestamp с помощью .strftime('%Y-%m-%d')."
   ]
  },
  {
   "cell_type": "code",
   "execution_count": 103,
   "metadata": {},
   "outputs": [
    {
     "data": {
      "text/plain": [
       "'2018-06-21'"
      ]
     },
     "execution_count": 103,
     "metadata": {},
     "output_type": "execute_result"
    }
   ],
   "source": [
    "bad_day = bikes_summer.query('to_station_name == @top_destination').resample(rule = 'D').size().idxmin().strftime('%Y-%m-%d')\n",
    "bad_day"
   ]
  },
  {
   "cell_type": "markdown",
   "metadata": {},
   "source": [
    "Куда больше всего ездят на выходных? Туда же, куда и в будние дни, или в другие пункты назначения?\n",
    "Используя данные за период с 1 июня по 31 августа, выберите верные утверждения."
   ]
  },
  {
   "cell_type": "code",
   "execution_count": 104,
   "metadata": {},
   "outputs": [],
   "source": [
    "bikes_summer = bikes_summer.assign(weekday = lambda x: pd.to_datetime(x.index).strftime('%A'))\n"
   ]
  },
  {
   "cell_type": "code",
   "execution_count": 105,
   "metadata": {},
   "outputs": [
    {
     "data": {
      "text/plain": [
       "weekday    to_station_name                \n",
       "Saturday   Streeter Dr & Grand Ave            3461\n",
       "Sunday     Streeter Dr & Grand Ave            2565\n",
       "Friday     Streeter Dr & Grand Ave            1726\n",
       "Saturday   Lake Shore Dr & North Blvd         1690\n",
       "Wednesday  Streeter Dr & Grand Ave            1669\n",
       "                                              ... \n",
       "Sunday     Lake Shore Dr & Diversey Pkwy       344\n",
       "           Lakefront Trail & Bryn Mawr Ave     341\n",
       "Monday     Wabash Ave & Grand Ave              340\n",
       "Sunday     Michigan Ave & Washington St        340\n",
       "           Clark St & Drummond Pl              319\n",
       "Length: 210, dtype: int64"
      ]
     },
     "execution_count": 105,
     "metadata": {},
     "output_type": "execute_result"
    }
   ],
   "source": [
    "bikes_summer.groupby(['weekday', 'to_station_name']).size().sort_values(ascending = False).groupby('weekday').head(30)\n"
   ]
  },
  {
   "cell_type": "markdown",
   "metadata": {},
   "source": [
    "### Стильный урок"
   ]
  },
  {
   "cell_type": "markdown",
   "metadata": {},
   "source": [
    "pandas включает в себя возможности для форматирования таблиц\n",
    "\n",
    "Например: \n",
    "\n",
    "- df.style.highlight_null() – подсветить ячейки с пропущенными значениями \n",
    "- df.style.highlight_max() – подсветить ячейки с максимальными значениями по колонкам\n",
    "- df.style.highlight_min() – подсветить ячейки с минимальными значениями по колонкам\n",
    "- df.style.applymap(func) – применить стилевую функцию к каждой ячейке датафрэйма\n",
    "- df.style.apply(func, axis, subset) – применить стилевую функцию к каждой колонке/строке в зависимости от axis,  subset позволяет выбрать часть колонок для оформления\n",
    "\n",
    "- render() – после декорирования возвращает HTML, описывающий табличку\n",
    "\n",
    "Можно использовать несколько методов одновременно, применяя их друг за другом (method chaining)."
   ]
  },
  {
   "cell_type": "markdown",
   "metadata": {},
   "source": [
    "Индексы и подписи"
   ]
  },
  {
   "cell_type": "code",
   "execution_count": 106,
   "metadata": {},
   "outputs": [
    {
     "data": {
      "text/html": [
       "<div>\n",
       "<style scoped>\n",
       "    .dataframe tbody tr th:only-of-type {\n",
       "        vertical-align: middle;\n",
       "    }\n",
       "\n",
       "    .dataframe tbody tr th {\n",
       "        vertical-align: top;\n",
       "    }\n",
       "\n",
       "    .dataframe thead th {\n",
       "        text-align: right;\n",
       "    }\n",
       "</style>\n",
       "<table border=\"1\" class=\"dataframe\">\n",
       "  <thead>\n",
       "    <tr style=\"text-align: right;\">\n",
       "      <th></th>\n",
       "      <th>A</th>\n",
       "      <th>B</th>\n",
       "      <th>C</th>\n",
       "      <th>D</th>\n",
       "    </tr>\n",
       "  </thead>\n",
       "  <tbody>\n",
       "    <tr>\n",
       "      <th>0</th>\n",
       "      <td>0</td>\n",
       "      <td>7</td>\n",
       "      <td>-10</td>\n",
       "      <td>49</td>\n",
       "    </tr>\n",
       "    <tr>\n",
       "      <th>1</th>\n",
       "      <td>1</td>\n",
       "      <td>4</td>\n",
       "      <td>-3</td>\n",
       "      <td>90</td>\n",
       "    </tr>\n",
       "    <tr>\n",
       "      <th>2</th>\n",
       "      <td>2</td>\n",
       "      <td>4</td>\n",
       "      <td>2</td>\n",
       "      <td>44</td>\n",
       "    </tr>\n",
       "    <tr>\n",
       "      <th>3</th>\n",
       "      <td>3</td>\n",
       "      <td>5</td>\n",
       "      <td>9</td>\n",
       "      <td>26</td>\n",
       "    </tr>\n",
       "    <tr>\n",
       "      <th>4</th>\n",
       "      <td>4</td>\n",
       "      <td>8</td>\n",
       "      <td>-10</td>\n",
       "      <td>37</td>\n",
       "    </tr>\n",
       "  </tbody>\n",
       "</table>\n",
       "</div>"
      ],
      "text/plain": [
       "   A  B   C   D\n",
       "0  0  7 -10  49\n",
       "1  1  4  -3  90\n",
       "2  2  4   2  44\n",
       "3  3  5   9  26\n",
       "4  4  8 -10  37"
      ]
     },
     "execution_count": 106,
     "metadata": {},
     "output_type": "execute_result"
    }
   ],
   "source": [
    "np.random.seed(77)\n",
    "df = pd.DataFrame({'A': list(range(5)), \n",
    "                   'B': np.random.randint(0, 10, 5),\n",
    "                   'C': np.random.randint(-10, 10, 5), \n",
    "                   'D': np.random.randint(-10, 100, 5)})\n",
    "df"
   ]
  },
  {
   "cell_type": "code",
   "execution_count": 107,
   "metadata": {},
   "outputs": [
    {
     "data": {
      "text/html": [
       "<style  type=\"text/css\" >\n",
       "</style><table id=\"T_8b0707ec_8cf7_11ee_bdbb_96000040dfb6\" ><thead>    <tr>        <th class=\"col_heading level0 col0\" >A</th>        <th class=\"col_heading level0 col1\" >B</th>        <th class=\"col_heading level0 col2\" >C</th>        <th class=\"col_heading level0 col3\" >D</th>    </tr></thead><tbody>\n",
       "                <tr>\n",
       "                                <td id=\"T_8b0707ec_8cf7_11ee_bdbb_96000040dfb6row0_col0\" class=\"data row0 col0\" >0</td>\n",
       "                        <td id=\"T_8b0707ec_8cf7_11ee_bdbb_96000040dfb6row0_col1\" class=\"data row0 col1\" >7</td>\n",
       "                        <td id=\"T_8b0707ec_8cf7_11ee_bdbb_96000040dfb6row0_col2\" class=\"data row0 col2\" >-10</td>\n",
       "                        <td id=\"T_8b0707ec_8cf7_11ee_bdbb_96000040dfb6row0_col3\" class=\"data row0 col3\" >49</td>\n",
       "            </tr>\n",
       "            <tr>\n",
       "                                <td id=\"T_8b0707ec_8cf7_11ee_bdbb_96000040dfb6row1_col0\" class=\"data row1 col0\" >1</td>\n",
       "                        <td id=\"T_8b0707ec_8cf7_11ee_bdbb_96000040dfb6row1_col1\" class=\"data row1 col1\" >4</td>\n",
       "                        <td id=\"T_8b0707ec_8cf7_11ee_bdbb_96000040dfb6row1_col2\" class=\"data row1 col2\" >-3</td>\n",
       "                        <td id=\"T_8b0707ec_8cf7_11ee_bdbb_96000040dfb6row1_col3\" class=\"data row1 col3\" >90</td>\n",
       "            </tr>\n",
       "            <tr>\n",
       "                                <td id=\"T_8b0707ec_8cf7_11ee_bdbb_96000040dfb6row2_col0\" class=\"data row2 col0\" >2</td>\n",
       "                        <td id=\"T_8b0707ec_8cf7_11ee_bdbb_96000040dfb6row2_col1\" class=\"data row2 col1\" >4</td>\n",
       "                        <td id=\"T_8b0707ec_8cf7_11ee_bdbb_96000040dfb6row2_col2\" class=\"data row2 col2\" >2</td>\n",
       "                        <td id=\"T_8b0707ec_8cf7_11ee_bdbb_96000040dfb6row2_col3\" class=\"data row2 col3\" >44</td>\n",
       "            </tr>\n",
       "            <tr>\n",
       "                                <td id=\"T_8b0707ec_8cf7_11ee_bdbb_96000040dfb6row3_col0\" class=\"data row3 col0\" >3</td>\n",
       "                        <td id=\"T_8b0707ec_8cf7_11ee_bdbb_96000040dfb6row3_col1\" class=\"data row3 col1\" >5</td>\n",
       "                        <td id=\"T_8b0707ec_8cf7_11ee_bdbb_96000040dfb6row3_col2\" class=\"data row3 col2\" >9</td>\n",
       "                        <td id=\"T_8b0707ec_8cf7_11ee_bdbb_96000040dfb6row3_col3\" class=\"data row3 col3\" >26</td>\n",
       "            </tr>\n",
       "            <tr>\n",
       "                                <td id=\"T_8b0707ec_8cf7_11ee_bdbb_96000040dfb6row4_col0\" class=\"data row4 col0\" >4</td>\n",
       "                        <td id=\"T_8b0707ec_8cf7_11ee_bdbb_96000040dfb6row4_col1\" class=\"data row4 col1\" >8</td>\n",
       "                        <td id=\"T_8b0707ec_8cf7_11ee_bdbb_96000040dfb6row4_col2\" class=\"data row4 col2\" >-10</td>\n",
       "                        <td id=\"T_8b0707ec_8cf7_11ee_bdbb_96000040dfb6row4_col3\" class=\"data row4 col3\" >37</td>\n",
       "            </tr>\n",
       "    </tbody></table>"
      ],
      "text/plain": [
       "<pandas.io.formats.style.Styler at 0x7fb5afbc6c18>"
      ]
     },
     "execution_count": 107,
     "metadata": {},
     "output_type": "execute_result"
    }
   ],
   "source": [
    "# метод – .hide_index(), позволяет спрятать индексы:\n",
    "df.style.hide_index()"
   ]
  },
  {
   "cell_type": "code",
   "execution_count": 108,
   "metadata": {},
   "outputs": [
    {
     "data": {
      "text/html": [
       "<style  type=\"text/css\" >\n",
       "</style><table id=\"T_8e6fe1ec_8cf7_11ee_bdbb_96000040dfb6\" ><caption>Vot eto da</caption><thead>    <tr>        <th class=\"col_heading level0 col0\" >A</th>        <th class=\"col_heading level0 col1\" >B</th>        <th class=\"col_heading level0 col2\" >C</th>        <th class=\"col_heading level0 col3\" >D</th>    </tr></thead><tbody>\n",
       "                <tr>\n",
       "                                <td id=\"T_8e6fe1ec_8cf7_11ee_bdbb_96000040dfb6row0_col0\" class=\"data row0 col0\" >0</td>\n",
       "                        <td id=\"T_8e6fe1ec_8cf7_11ee_bdbb_96000040dfb6row0_col1\" class=\"data row0 col1\" >7</td>\n",
       "                        <td id=\"T_8e6fe1ec_8cf7_11ee_bdbb_96000040dfb6row0_col2\" class=\"data row0 col2\" >-10</td>\n",
       "                        <td id=\"T_8e6fe1ec_8cf7_11ee_bdbb_96000040dfb6row0_col3\" class=\"data row0 col3\" >49</td>\n",
       "            </tr>\n",
       "            <tr>\n",
       "                                <td id=\"T_8e6fe1ec_8cf7_11ee_bdbb_96000040dfb6row1_col0\" class=\"data row1 col0\" >1</td>\n",
       "                        <td id=\"T_8e6fe1ec_8cf7_11ee_bdbb_96000040dfb6row1_col1\" class=\"data row1 col1\" >4</td>\n",
       "                        <td id=\"T_8e6fe1ec_8cf7_11ee_bdbb_96000040dfb6row1_col2\" class=\"data row1 col2\" >-3</td>\n",
       "                        <td id=\"T_8e6fe1ec_8cf7_11ee_bdbb_96000040dfb6row1_col3\" class=\"data row1 col3\" >90</td>\n",
       "            </tr>\n",
       "            <tr>\n",
       "                                <td id=\"T_8e6fe1ec_8cf7_11ee_bdbb_96000040dfb6row2_col0\" class=\"data row2 col0\" >2</td>\n",
       "                        <td id=\"T_8e6fe1ec_8cf7_11ee_bdbb_96000040dfb6row2_col1\" class=\"data row2 col1\" >4</td>\n",
       "                        <td id=\"T_8e6fe1ec_8cf7_11ee_bdbb_96000040dfb6row2_col2\" class=\"data row2 col2\" >2</td>\n",
       "                        <td id=\"T_8e6fe1ec_8cf7_11ee_bdbb_96000040dfb6row2_col3\" class=\"data row2 col3\" >44</td>\n",
       "            </tr>\n",
       "            <tr>\n",
       "                                <td id=\"T_8e6fe1ec_8cf7_11ee_bdbb_96000040dfb6row3_col0\" class=\"data row3 col0\" >3</td>\n",
       "                        <td id=\"T_8e6fe1ec_8cf7_11ee_bdbb_96000040dfb6row3_col1\" class=\"data row3 col1\" >5</td>\n",
       "                        <td id=\"T_8e6fe1ec_8cf7_11ee_bdbb_96000040dfb6row3_col2\" class=\"data row3 col2\" >9</td>\n",
       "                        <td id=\"T_8e6fe1ec_8cf7_11ee_bdbb_96000040dfb6row3_col3\" class=\"data row3 col3\" >26</td>\n",
       "            </tr>\n",
       "            <tr>\n",
       "                                <td id=\"T_8e6fe1ec_8cf7_11ee_bdbb_96000040dfb6row4_col0\" class=\"data row4 col0\" >4</td>\n",
       "                        <td id=\"T_8e6fe1ec_8cf7_11ee_bdbb_96000040dfb6row4_col1\" class=\"data row4 col1\" >8</td>\n",
       "                        <td id=\"T_8e6fe1ec_8cf7_11ee_bdbb_96000040dfb6row4_col2\" class=\"data row4 col2\" >-10</td>\n",
       "                        <td id=\"T_8e6fe1ec_8cf7_11ee_bdbb_96000040dfb6row4_col3\" class=\"data row4 col3\" >37</td>\n",
       "            </tr>\n",
       "    </tbody></table>"
      ],
      "text/plain": [
       "<pandas.io.formats.style.Styler at 0x7fb5af8ad7b8>"
      ]
     },
     "execution_count": 108,
     "metadata": {},
     "output_type": "execute_result"
    }
   ],
   "source": [
    "# .set_caption(). С его помощью можно добавить подпись к таблице:\n",
    "df.style.hide_index().set_caption('Vot eto da')"
   ]
  },
  {
   "cell_type": "markdown",
   "metadata": {},
   "source": [
    "Раскрашиваем ячейки"
   ]
  },
  {
   "cell_type": "code",
   "execution_count": 109,
   "metadata": {},
   "outputs": [
    {
     "data": {
      "text/html": [
       "<style  type=\"text/css\" >\n",
       "#T_9725acfe_8cf7_11ee_bdbb_96000040dfb6row0_col3,#T_9725acfe_8cf7_11ee_bdbb_96000040dfb6row1_col3,#T_9725acfe_8cf7_11ee_bdbb_96000040dfb6row2_col3,#T_9725acfe_8cf7_11ee_bdbb_96000040dfb6row3_col3,#T_9725acfe_8cf7_11ee_bdbb_96000040dfb6row4_col3{\n",
       "            background-color:  red;\n",
       "        }</style><table id=\"T_9725acfe_8cf7_11ee_bdbb_96000040dfb6\" ><thead>    <tr>        <th class=\"blank level0\" ></th>        <th class=\"col_heading level0 col0\" >A</th>        <th class=\"col_heading level0 col1\" >B</th>        <th class=\"col_heading level0 col2\" >C</th>        <th class=\"col_heading level0 col3\" >D</th>    </tr></thead><tbody>\n",
       "                <tr>\n",
       "                        <th id=\"T_9725acfe_8cf7_11ee_bdbb_96000040dfb6level0_row0\" class=\"row_heading level0 row0\" >0</th>\n",
       "                        <td id=\"T_9725acfe_8cf7_11ee_bdbb_96000040dfb6row0_col0\" class=\"data row0 col0\" >0</td>\n",
       "                        <td id=\"T_9725acfe_8cf7_11ee_bdbb_96000040dfb6row0_col1\" class=\"data row0 col1\" >7</td>\n",
       "                        <td id=\"T_9725acfe_8cf7_11ee_bdbb_96000040dfb6row0_col2\" class=\"data row0 col2\" >-10</td>\n",
       "                        <td id=\"T_9725acfe_8cf7_11ee_bdbb_96000040dfb6row0_col3\" class=\"data row0 col3\" >49</td>\n",
       "            </tr>\n",
       "            <tr>\n",
       "                        <th id=\"T_9725acfe_8cf7_11ee_bdbb_96000040dfb6level0_row1\" class=\"row_heading level0 row1\" >1</th>\n",
       "                        <td id=\"T_9725acfe_8cf7_11ee_bdbb_96000040dfb6row1_col0\" class=\"data row1 col0\" >1</td>\n",
       "                        <td id=\"T_9725acfe_8cf7_11ee_bdbb_96000040dfb6row1_col1\" class=\"data row1 col1\" >4</td>\n",
       "                        <td id=\"T_9725acfe_8cf7_11ee_bdbb_96000040dfb6row1_col2\" class=\"data row1 col2\" >-3</td>\n",
       "                        <td id=\"T_9725acfe_8cf7_11ee_bdbb_96000040dfb6row1_col3\" class=\"data row1 col3\" >90</td>\n",
       "            </tr>\n",
       "            <tr>\n",
       "                        <th id=\"T_9725acfe_8cf7_11ee_bdbb_96000040dfb6level0_row2\" class=\"row_heading level0 row2\" >2</th>\n",
       "                        <td id=\"T_9725acfe_8cf7_11ee_bdbb_96000040dfb6row2_col0\" class=\"data row2 col0\" >2</td>\n",
       "                        <td id=\"T_9725acfe_8cf7_11ee_bdbb_96000040dfb6row2_col1\" class=\"data row2 col1\" >4</td>\n",
       "                        <td id=\"T_9725acfe_8cf7_11ee_bdbb_96000040dfb6row2_col2\" class=\"data row2 col2\" >2</td>\n",
       "                        <td id=\"T_9725acfe_8cf7_11ee_bdbb_96000040dfb6row2_col3\" class=\"data row2 col3\" >44</td>\n",
       "            </tr>\n",
       "            <tr>\n",
       "                        <th id=\"T_9725acfe_8cf7_11ee_bdbb_96000040dfb6level0_row3\" class=\"row_heading level0 row3\" >3</th>\n",
       "                        <td id=\"T_9725acfe_8cf7_11ee_bdbb_96000040dfb6row3_col0\" class=\"data row3 col0\" >3</td>\n",
       "                        <td id=\"T_9725acfe_8cf7_11ee_bdbb_96000040dfb6row3_col1\" class=\"data row3 col1\" >5</td>\n",
       "                        <td id=\"T_9725acfe_8cf7_11ee_bdbb_96000040dfb6row3_col2\" class=\"data row3 col2\" >9</td>\n",
       "                        <td id=\"T_9725acfe_8cf7_11ee_bdbb_96000040dfb6row3_col3\" class=\"data row3 col3\" >26</td>\n",
       "            </tr>\n",
       "            <tr>\n",
       "                        <th id=\"T_9725acfe_8cf7_11ee_bdbb_96000040dfb6level0_row4\" class=\"row_heading level0 row4\" >4</th>\n",
       "                        <td id=\"T_9725acfe_8cf7_11ee_bdbb_96000040dfb6row4_col0\" class=\"data row4 col0\" >4</td>\n",
       "                        <td id=\"T_9725acfe_8cf7_11ee_bdbb_96000040dfb6row4_col1\" class=\"data row4 col1\" >8</td>\n",
       "                        <td id=\"T_9725acfe_8cf7_11ee_bdbb_96000040dfb6row4_col2\" class=\"data row4 col2\" >-10</td>\n",
       "                        <td id=\"T_9725acfe_8cf7_11ee_bdbb_96000040dfb6row4_col3\" class=\"data row4 col3\" >37</td>\n",
       "            </tr>\n",
       "    </tbody></table>"
      ],
      "text/plain": [
       "<pandas.io.formats.style.Styler at 0x7fb5af8b27b8>"
      ]
     },
     "execution_count": 109,
     "metadata": {},
     "output_type": "execute_result"
    }
   ],
   "source": [
    "# highlight_min/max\n",
    "# highlight_max – подсвечивает (выделяет) цветом наибольшее значение. \n",
    "# Можно применить либо к каждой строке (axis=0/'index'), либо к каждой колонке (axis=1/'columns').\n",
    "\n",
    "df.style.highlight_max(axis=1, color='red')  "
   ]
  },
  {
   "cell_type": "code",
   "execution_count": 110,
   "metadata": {},
   "outputs": [
    {
     "data": {
      "text/html": [
       "<style  type=\"text/css\" >\n",
       "#T_9b183ce6_8cf7_11ee_bdbb_96000040dfb6row1_col3,#T_9b183ce6_8cf7_11ee_bdbb_96000040dfb6row3_col2,#T_9b183ce6_8cf7_11ee_bdbb_96000040dfb6row4_col0,#T_9b183ce6_8cf7_11ee_bdbb_96000040dfb6row4_col1{\n",
       "            background-color:  blue;\n",
       "        }</style><table id=\"T_9b183ce6_8cf7_11ee_bdbb_96000040dfb6\" ><thead>    <tr>        <th class=\"blank level0\" ></th>        <th class=\"col_heading level0 col0\" >A</th>        <th class=\"col_heading level0 col1\" >B</th>        <th class=\"col_heading level0 col2\" >C</th>        <th class=\"col_heading level0 col3\" >D</th>    </tr></thead><tbody>\n",
       "                <tr>\n",
       "                        <th id=\"T_9b183ce6_8cf7_11ee_bdbb_96000040dfb6level0_row0\" class=\"row_heading level0 row0\" >0</th>\n",
       "                        <td id=\"T_9b183ce6_8cf7_11ee_bdbb_96000040dfb6row0_col0\" class=\"data row0 col0\" >0</td>\n",
       "                        <td id=\"T_9b183ce6_8cf7_11ee_bdbb_96000040dfb6row0_col1\" class=\"data row0 col1\" >7</td>\n",
       "                        <td id=\"T_9b183ce6_8cf7_11ee_bdbb_96000040dfb6row0_col2\" class=\"data row0 col2\" >-10</td>\n",
       "                        <td id=\"T_9b183ce6_8cf7_11ee_bdbb_96000040dfb6row0_col3\" class=\"data row0 col3\" >49</td>\n",
       "            </tr>\n",
       "            <tr>\n",
       "                        <th id=\"T_9b183ce6_8cf7_11ee_bdbb_96000040dfb6level0_row1\" class=\"row_heading level0 row1\" >1</th>\n",
       "                        <td id=\"T_9b183ce6_8cf7_11ee_bdbb_96000040dfb6row1_col0\" class=\"data row1 col0\" >1</td>\n",
       "                        <td id=\"T_9b183ce6_8cf7_11ee_bdbb_96000040dfb6row1_col1\" class=\"data row1 col1\" >4</td>\n",
       "                        <td id=\"T_9b183ce6_8cf7_11ee_bdbb_96000040dfb6row1_col2\" class=\"data row1 col2\" >-3</td>\n",
       "                        <td id=\"T_9b183ce6_8cf7_11ee_bdbb_96000040dfb6row1_col3\" class=\"data row1 col3\" >90</td>\n",
       "            </tr>\n",
       "            <tr>\n",
       "                        <th id=\"T_9b183ce6_8cf7_11ee_bdbb_96000040dfb6level0_row2\" class=\"row_heading level0 row2\" >2</th>\n",
       "                        <td id=\"T_9b183ce6_8cf7_11ee_bdbb_96000040dfb6row2_col0\" class=\"data row2 col0\" >2</td>\n",
       "                        <td id=\"T_9b183ce6_8cf7_11ee_bdbb_96000040dfb6row2_col1\" class=\"data row2 col1\" >4</td>\n",
       "                        <td id=\"T_9b183ce6_8cf7_11ee_bdbb_96000040dfb6row2_col2\" class=\"data row2 col2\" >2</td>\n",
       "                        <td id=\"T_9b183ce6_8cf7_11ee_bdbb_96000040dfb6row2_col3\" class=\"data row2 col3\" >44</td>\n",
       "            </tr>\n",
       "            <tr>\n",
       "                        <th id=\"T_9b183ce6_8cf7_11ee_bdbb_96000040dfb6level0_row3\" class=\"row_heading level0 row3\" >3</th>\n",
       "                        <td id=\"T_9b183ce6_8cf7_11ee_bdbb_96000040dfb6row3_col0\" class=\"data row3 col0\" >3</td>\n",
       "                        <td id=\"T_9b183ce6_8cf7_11ee_bdbb_96000040dfb6row3_col1\" class=\"data row3 col1\" >5</td>\n",
       "                        <td id=\"T_9b183ce6_8cf7_11ee_bdbb_96000040dfb6row3_col2\" class=\"data row3 col2\" >9</td>\n",
       "                        <td id=\"T_9b183ce6_8cf7_11ee_bdbb_96000040dfb6row3_col3\" class=\"data row3 col3\" >26</td>\n",
       "            </tr>\n",
       "            <tr>\n",
       "                        <th id=\"T_9b183ce6_8cf7_11ee_bdbb_96000040dfb6level0_row4\" class=\"row_heading level0 row4\" >4</th>\n",
       "                        <td id=\"T_9b183ce6_8cf7_11ee_bdbb_96000040dfb6row4_col0\" class=\"data row4 col0\" >4</td>\n",
       "                        <td id=\"T_9b183ce6_8cf7_11ee_bdbb_96000040dfb6row4_col1\" class=\"data row4 col1\" >8</td>\n",
       "                        <td id=\"T_9b183ce6_8cf7_11ee_bdbb_96000040dfb6row4_col2\" class=\"data row4 col2\" >-10</td>\n",
       "                        <td id=\"T_9b183ce6_8cf7_11ee_bdbb_96000040dfb6row4_col3\" class=\"data row4 col3\" >37</td>\n",
       "            </tr>\n",
       "    </tbody></table>"
      ],
      "text/plain": [
       "<pandas.io.formats.style.Styler at 0x7fb5af8b2470>"
      ]
     },
     "execution_count": 110,
     "metadata": {},
     "output_type": "execute_result"
    }
   ],
   "source": [
    "df.style.highlight_max(axis='index', color = 'blue')"
   ]
  },
  {
   "cell_type": "code",
   "execution_count": 111,
   "metadata": {},
   "outputs": [
    {
     "data": {
      "text/html": [
       "<style  type=\"text/css\" >\n",
       "#T_9d517d42_8cf7_11ee_bdbb_96000040dfb6row0_col0,#T_9d517d42_8cf7_11ee_bdbb_96000040dfb6row0_col2,#T_9d517d42_8cf7_11ee_bdbb_96000040dfb6row1_col1,#T_9d517d42_8cf7_11ee_bdbb_96000040dfb6row2_col1,#T_9d517d42_8cf7_11ee_bdbb_96000040dfb6row3_col3,#T_9d517d42_8cf7_11ee_bdbb_96000040dfb6row4_col2{\n",
       "            background-color:  green;\n",
       "        }</style><table id=\"T_9d517d42_8cf7_11ee_bdbb_96000040dfb6\" ><thead>    <tr>        <th class=\"blank level0\" ></th>        <th class=\"col_heading level0 col0\" >A</th>        <th class=\"col_heading level0 col1\" >B</th>        <th class=\"col_heading level0 col2\" >C</th>        <th class=\"col_heading level0 col3\" >D</th>    </tr></thead><tbody>\n",
       "                <tr>\n",
       "                        <th id=\"T_9d517d42_8cf7_11ee_bdbb_96000040dfb6level0_row0\" class=\"row_heading level0 row0\" >0</th>\n",
       "                        <td id=\"T_9d517d42_8cf7_11ee_bdbb_96000040dfb6row0_col0\" class=\"data row0 col0\" >0</td>\n",
       "                        <td id=\"T_9d517d42_8cf7_11ee_bdbb_96000040dfb6row0_col1\" class=\"data row0 col1\" >7</td>\n",
       "                        <td id=\"T_9d517d42_8cf7_11ee_bdbb_96000040dfb6row0_col2\" class=\"data row0 col2\" >-10</td>\n",
       "                        <td id=\"T_9d517d42_8cf7_11ee_bdbb_96000040dfb6row0_col3\" class=\"data row0 col3\" >49</td>\n",
       "            </tr>\n",
       "            <tr>\n",
       "                        <th id=\"T_9d517d42_8cf7_11ee_bdbb_96000040dfb6level0_row1\" class=\"row_heading level0 row1\" >1</th>\n",
       "                        <td id=\"T_9d517d42_8cf7_11ee_bdbb_96000040dfb6row1_col0\" class=\"data row1 col0\" >1</td>\n",
       "                        <td id=\"T_9d517d42_8cf7_11ee_bdbb_96000040dfb6row1_col1\" class=\"data row1 col1\" >4</td>\n",
       "                        <td id=\"T_9d517d42_8cf7_11ee_bdbb_96000040dfb6row1_col2\" class=\"data row1 col2\" >-3</td>\n",
       "                        <td id=\"T_9d517d42_8cf7_11ee_bdbb_96000040dfb6row1_col3\" class=\"data row1 col3\" >90</td>\n",
       "            </tr>\n",
       "            <tr>\n",
       "                        <th id=\"T_9d517d42_8cf7_11ee_bdbb_96000040dfb6level0_row2\" class=\"row_heading level0 row2\" >2</th>\n",
       "                        <td id=\"T_9d517d42_8cf7_11ee_bdbb_96000040dfb6row2_col0\" class=\"data row2 col0\" >2</td>\n",
       "                        <td id=\"T_9d517d42_8cf7_11ee_bdbb_96000040dfb6row2_col1\" class=\"data row2 col1\" >4</td>\n",
       "                        <td id=\"T_9d517d42_8cf7_11ee_bdbb_96000040dfb6row2_col2\" class=\"data row2 col2\" >2</td>\n",
       "                        <td id=\"T_9d517d42_8cf7_11ee_bdbb_96000040dfb6row2_col3\" class=\"data row2 col3\" >44</td>\n",
       "            </tr>\n",
       "            <tr>\n",
       "                        <th id=\"T_9d517d42_8cf7_11ee_bdbb_96000040dfb6level0_row3\" class=\"row_heading level0 row3\" >3</th>\n",
       "                        <td id=\"T_9d517d42_8cf7_11ee_bdbb_96000040dfb6row3_col0\" class=\"data row3 col0\" >3</td>\n",
       "                        <td id=\"T_9d517d42_8cf7_11ee_bdbb_96000040dfb6row3_col1\" class=\"data row3 col1\" >5</td>\n",
       "                        <td id=\"T_9d517d42_8cf7_11ee_bdbb_96000040dfb6row3_col2\" class=\"data row3 col2\" >9</td>\n",
       "                        <td id=\"T_9d517d42_8cf7_11ee_bdbb_96000040dfb6row3_col3\" class=\"data row3 col3\" >26</td>\n",
       "            </tr>\n",
       "            <tr>\n",
       "                        <th id=\"T_9d517d42_8cf7_11ee_bdbb_96000040dfb6level0_row4\" class=\"row_heading level0 row4\" >4</th>\n",
       "                        <td id=\"T_9d517d42_8cf7_11ee_bdbb_96000040dfb6row4_col0\" class=\"data row4 col0\" >4</td>\n",
       "                        <td id=\"T_9d517d42_8cf7_11ee_bdbb_96000040dfb6row4_col1\" class=\"data row4 col1\" >8</td>\n",
       "                        <td id=\"T_9d517d42_8cf7_11ee_bdbb_96000040dfb6row4_col2\" class=\"data row4 col2\" >-10</td>\n",
       "                        <td id=\"T_9d517d42_8cf7_11ee_bdbb_96000040dfb6row4_col3\" class=\"data row4 col3\" >37</td>\n",
       "            </tr>\n",
       "    </tbody></table>"
      ],
      "text/plain": [
       "<pandas.io.formats.style.Styler at 0x7fb5af8b2828>"
      ]
     },
     "execution_count": 111,
     "metadata": {},
     "output_type": "execute_result"
    }
   ],
   "source": [
    "# Аналогичная функция для подсветки минимальных значений – highlight_min().\n",
    "df.style.highlight_min(color='green')"
   ]
  },
  {
   "cell_type": "code",
   "execution_count": 112,
   "metadata": {},
   "outputs": [
    {
     "data": {
      "text/html": [
       "<style  type=\"text/css\" >\n",
       "#T_a589bce0_8cf7_11ee_bdbb_96000040dfb6row0_col0{\n",
       "            background-color:  red;\n",
       "        }#T_a589bce0_8cf7_11ee_bdbb_96000040dfb6row0_col2,#T_a589bce0_8cf7_11ee_bdbb_96000040dfb6row3_col3,#T_a589bce0_8cf7_11ee_bdbb_96000040dfb6row4_col2{\n",
       "            background-color:  #440154;\n",
       "            color:  #f1f1f1;\n",
       "        }#T_a589bce0_8cf7_11ee_bdbb_96000040dfb6row0_col3{\n",
       "            background-color:  #2e6f8e;\n",
       "            color:  #f1f1f1;\n",
       "        }#T_a589bce0_8cf7_11ee_bdbb_96000040dfb6row1_col2{\n",
       "            background-color:  #2d718e;\n",
       "            color:  #f1f1f1;\n",
       "        }#T_a589bce0_8cf7_11ee_bdbb_96000040dfb6row1_col3,#T_a589bce0_8cf7_11ee_bdbb_96000040dfb6row3_col2{\n",
       "            background-color:  #fde725;\n",
       "            color:  #000000;\n",
       "        }#T_a589bce0_8cf7_11ee_bdbb_96000040dfb6row2_col2{\n",
       "            background-color:  #29af7f;\n",
       "            color:  #000000;\n",
       "        }#T_a589bce0_8cf7_11ee_bdbb_96000040dfb6row2_col3{\n",
       "            background-color:  #375b8d;\n",
       "            color:  #f1f1f1;\n",
       "        }#T_a589bce0_8cf7_11ee_bdbb_96000040dfb6row4_col1{\n",
       "            background-color:  green;\n",
       "        }#T_a589bce0_8cf7_11ee_bdbb_96000040dfb6row4_col3{\n",
       "            background-color:  #443b84;\n",
       "            color:  #f1f1f1;\n",
       "        }</style><table id=\"T_a589bce0_8cf7_11ee_bdbb_96000040dfb6\" ><thead>    <tr>        <th class=\"blank level0\" ></th>        <th class=\"col_heading level0 col0\" >A</th>        <th class=\"col_heading level0 col1\" >B</th>        <th class=\"col_heading level0 col2\" >C</th>        <th class=\"col_heading level0 col3\" >D</th>    </tr></thead><tbody>\n",
       "                <tr>\n",
       "                        <th id=\"T_a589bce0_8cf7_11ee_bdbb_96000040dfb6level0_row0\" class=\"row_heading level0 row0\" >0</th>\n",
       "                        <td id=\"T_a589bce0_8cf7_11ee_bdbb_96000040dfb6row0_col0\" class=\"data row0 col0\" >0</td>\n",
       "                        <td id=\"T_a589bce0_8cf7_11ee_bdbb_96000040dfb6row0_col1\" class=\"data row0 col1\" >7</td>\n",
       "                        <td id=\"T_a589bce0_8cf7_11ee_bdbb_96000040dfb6row0_col2\" class=\"data row0 col2\" >-10</td>\n",
       "                        <td id=\"T_a589bce0_8cf7_11ee_bdbb_96000040dfb6row0_col3\" class=\"data row0 col3\" >49</td>\n",
       "            </tr>\n",
       "            <tr>\n",
       "                        <th id=\"T_a589bce0_8cf7_11ee_bdbb_96000040dfb6level0_row1\" class=\"row_heading level0 row1\" >1</th>\n",
       "                        <td id=\"T_a589bce0_8cf7_11ee_bdbb_96000040dfb6row1_col0\" class=\"data row1 col0\" >1</td>\n",
       "                        <td id=\"T_a589bce0_8cf7_11ee_bdbb_96000040dfb6row1_col1\" class=\"data row1 col1\" >4</td>\n",
       "                        <td id=\"T_a589bce0_8cf7_11ee_bdbb_96000040dfb6row1_col2\" class=\"data row1 col2\" >-3</td>\n",
       "                        <td id=\"T_a589bce0_8cf7_11ee_bdbb_96000040dfb6row1_col3\" class=\"data row1 col3\" >90</td>\n",
       "            </tr>\n",
       "            <tr>\n",
       "                        <th id=\"T_a589bce0_8cf7_11ee_bdbb_96000040dfb6level0_row2\" class=\"row_heading level0 row2\" >2</th>\n",
       "                        <td id=\"T_a589bce0_8cf7_11ee_bdbb_96000040dfb6row2_col0\" class=\"data row2 col0\" >2</td>\n",
       "                        <td id=\"T_a589bce0_8cf7_11ee_bdbb_96000040dfb6row2_col1\" class=\"data row2 col1\" >4</td>\n",
       "                        <td id=\"T_a589bce0_8cf7_11ee_bdbb_96000040dfb6row2_col2\" class=\"data row2 col2\" >2</td>\n",
       "                        <td id=\"T_a589bce0_8cf7_11ee_bdbb_96000040dfb6row2_col3\" class=\"data row2 col3\" >44</td>\n",
       "            </tr>\n",
       "            <tr>\n",
       "                        <th id=\"T_a589bce0_8cf7_11ee_bdbb_96000040dfb6level0_row3\" class=\"row_heading level0 row3\" >3</th>\n",
       "                        <td id=\"T_a589bce0_8cf7_11ee_bdbb_96000040dfb6row3_col0\" class=\"data row3 col0\" >3</td>\n",
       "                        <td id=\"T_a589bce0_8cf7_11ee_bdbb_96000040dfb6row3_col1\" class=\"data row3 col1\" >5</td>\n",
       "                        <td id=\"T_a589bce0_8cf7_11ee_bdbb_96000040dfb6row3_col2\" class=\"data row3 col2\" >9</td>\n",
       "                        <td id=\"T_a589bce0_8cf7_11ee_bdbb_96000040dfb6row3_col3\" class=\"data row3 col3\" >26</td>\n",
       "            </tr>\n",
       "            <tr>\n",
       "                        <th id=\"T_a589bce0_8cf7_11ee_bdbb_96000040dfb6level0_row4\" class=\"row_heading level0 row4\" >4</th>\n",
       "                        <td id=\"T_a589bce0_8cf7_11ee_bdbb_96000040dfb6row4_col0\" class=\"data row4 col0\" >4</td>\n",
       "                        <td id=\"T_a589bce0_8cf7_11ee_bdbb_96000040dfb6row4_col1\" class=\"data row4 col1\" >8</td>\n",
       "                        <td id=\"T_a589bce0_8cf7_11ee_bdbb_96000040dfb6row4_col2\" class=\"data row4 col2\" >-10</td>\n",
       "                        <td id=\"T_a589bce0_8cf7_11ee_bdbb_96000040dfb6row4_col3\" class=\"data row4 col3\" >37</td>\n",
       "            </tr>\n",
       "    </tbody></table>"
      ],
      "text/plain": [
       "<pandas.io.formats.style.Styler at 0x7fb5afbcce48>"
      ]
     },
     "execution_count": 112,
     "metadata": {},
     "output_type": "execute_result"
    }
   ],
   "source": [
    "# background_gradient – раскрашивает ячейки в зависимости от их значений. \n",
    "# В итоге получается что-то похожее на heatmap (тепловую карту).\n",
    "(df.style\n",
    " .highlight_min('A', color='red')\n",
    " .highlight_max('B', color='green')\n",
    " .background_gradient(subset=['C','D'],cmap='viridis') # палитра\n",
    ")"
   ]
  },
  {
   "cell_type": "code",
   "execution_count": 113,
   "metadata": {},
   "outputs": [
    {
     "data": {
      "text/html": [
       "<style  type=\"text/css\" >\n",
       "#T_ab71515e_8cf7_11ee_bdbb_96000040dfb6row0_col2,#T_ab71515e_8cf7_11ee_bdbb_96000040dfb6row3_col3,#T_ab71515e_8cf7_11ee_bdbb_96000040dfb6row4_col2{\n",
       "            width:  10em;\n",
       "             height:  80%;\n",
       "        }#T_ab71515e_8cf7_11ee_bdbb_96000040dfb6row0_col3{\n",
       "            width:  10em;\n",
       "             height:  80%;\n",
       "            background:  linear-gradient(90deg,#67A5EB 35.9%, transparent 35.9%);\n",
       "        }#T_ab71515e_8cf7_11ee_bdbb_96000040dfb6row1_col2{\n",
       "            width:  10em;\n",
       "             height:  80%;\n",
       "            background:  linear-gradient(90deg,#67A5EB 36.8%, transparent 36.8%);\n",
       "        }#T_ab71515e_8cf7_11ee_bdbb_96000040dfb6row1_col3,#T_ab71515e_8cf7_11ee_bdbb_96000040dfb6row3_col2{\n",
       "            width:  10em;\n",
       "             height:  80%;\n",
       "            background:  linear-gradient(90deg,#67A5EB 100.0%, transparent 100.0%);\n",
       "        }#T_ab71515e_8cf7_11ee_bdbb_96000040dfb6row2_col2{\n",
       "            width:  10em;\n",
       "             height:  80%;\n",
       "            background:  linear-gradient(90deg,#67A5EB 63.2%, transparent 63.2%);\n",
       "        }#T_ab71515e_8cf7_11ee_bdbb_96000040dfb6row2_col3{\n",
       "            width:  10em;\n",
       "             height:  80%;\n",
       "            background:  linear-gradient(90deg,#67A5EB 28.1%, transparent 28.1%);\n",
       "        }#T_ab71515e_8cf7_11ee_bdbb_96000040dfb6row4_col3{\n",
       "            width:  10em;\n",
       "             height:  80%;\n",
       "            background:  linear-gradient(90deg,#67A5EB 17.2%, transparent 17.2%);\n",
       "        }</style><table id=\"T_ab71515e_8cf7_11ee_bdbb_96000040dfb6\" ><thead>    <tr>        <th class=\"blank level0\" ></th>        <th class=\"col_heading level0 col0\" >A</th>        <th class=\"col_heading level0 col1\" >B</th>        <th class=\"col_heading level0 col2\" >C</th>        <th class=\"col_heading level0 col3\" >D</th>    </tr></thead><tbody>\n",
       "                <tr>\n",
       "                        <th id=\"T_ab71515e_8cf7_11ee_bdbb_96000040dfb6level0_row0\" class=\"row_heading level0 row0\" >0</th>\n",
       "                        <td id=\"T_ab71515e_8cf7_11ee_bdbb_96000040dfb6row0_col0\" class=\"data row0 col0\" >0</td>\n",
       "                        <td id=\"T_ab71515e_8cf7_11ee_bdbb_96000040dfb6row0_col1\" class=\"data row0 col1\" >7</td>\n",
       "                        <td id=\"T_ab71515e_8cf7_11ee_bdbb_96000040dfb6row0_col2\" class=\"data row0 col2\" >-10</td>\n",
       "                        <td id=\"T_ab71515e_8cf7_11ee_bdbb_96000040dfb6row0_col3\" class=\"data row0 col3\" >49</td>\n",
       "            </tr>\n",
       "            <tr>\n",
       "                        <th id=\"T_ab71515e_8cf7_11ee_bdbb_96000040dfb6level0_row1\" class=\"row_heading level0 row1\" >1</th>\n",
       "                        <td id=\"T_ab71515e_8cf7_11ee_bdbb_96000040dfb6row1_col0\" class=\"data row1 col0\" >1</td>\n",
       "                        <td id=\"T_ab71515e_8cf7_11ee_bdbb_96000040dfb6row1_col1\" class=\"data row1 col1\" >4</td>\n",
       "                        <td id=\"T_ab71515e_8cf7_11ee_bdbb_96000040dfb6row1_col2\" class=\"data row1 col2\" >-3</td>\n",
       "                        <td id=\"T_ab71515e_8cf7_11ee_bdbb_96000040dfb6row1_col3\" class=\"data row1 col3\" >90</td>\n",
       "            </tr>\n",
       "            <tr>\n",
       "                        <th id=\"T_ab71515e_8cf7_11ee_bdbb_96000040dfb6level0_row2\" class=\"row_heading level0 row2\" >2</th>\n",
       "                        <td id=\"T_ab71515e_8cf7_11ee_bdbb_96000040dfb6row2_col0\" class=\"data row2 col0\" >2</td>\n",
       "                        <td id=\"T_ab71515e_8cf7_11ee_bdbb_96000040dfb6row2_col1\" class=\"data row2 col1\" >4</td>\n",
       "                        <td id=\"T_ab71515e_8cf7_11ee_bdbb_96000040dfb6row2_col2\" class=\"data row2 col2\" >2</td>\n",
       "                        <td id=\"T_ab71515e_8cf7_11ee_bdbb_96000040dfb6row2_col3\" class=\"data row2 col3\" >44</td>\n",
       "            </tr>\n",
       "            <tr>\n",
       "                        <th id=\"T_ab71515e_8cf7_11ee_bdbb_96000040dfb6level0_row3\" class=\"row_heading level0 row3\" >3</th>\n",
       "                        <td id=\"T_ab71515e_8cf7_11ee_bdbb_96000040dfb6row3_col0\" class=\"data row3 col0\" >3</td>\n",
       "                        <td id=\"T_ab71515e_8cf7_11ee_bdbb_96000040dfb6row3_col1\" class=\"data row3 col1\" >5</td>\n",
       "                        <td id=\"T_ab71515e_8cf7_11ee_bdbb_96000040dfb6row3_col2\" class=\"data row3 col2\" >9</td>\n",
       "                        <td id=\"T_ab71515e_8cf7_11ee_bdbb_96000040dfb6row3_col3\" class=\"data row3 col3\" >26</td>\n",
       "            </tr>\n",
       "            <tr>\n",
       "                        <th id=\"T_ab71515e_8cf7_11ee_bdbb_96000040dfb6level0_row4\" class=\"row_heading level0 row4\" >4</th>\n",
       "                        <td id=\"T_ab71515e_8cf7_11ee_bdbb_96000040dfb6row4_col0\" class=\"data row4 col0\" >4</td>\n",
       "                        <td id=\"T_ab71515e_8cf7_11ee_bdbb_96000040dfb6row4_col1\" class=\"data row4 col1\" >8</td>\n",
       "                        <td id=\"T_ab71515e_8cf7_11ee_bdbb_96000040dfb6row4_col2\" class=\"data row4 col2\" >-10</td>\n",
       "                        <td id=\"T_ab71515e_8cf7_11ee_bdbb_96000040dfb6row4_col3\" class=\"data row4 col3\" >37</td>\n",
       "            </tr>\n",
       "    </tbody></table>"
      ],
      "text/plain": [
       "<pandas.io.formats.style.Styler at 0x7fb5af8b2b70>"
      ]
     },
     "execution_count": 113,
     "metadata": {},
     "output_type": "execute_result"
    }
   ],
   "source": [
    "# style.bar\n",
    "# Визуализировать значения можно прямо в таблице с помощью .bar(). Данный метод принимает несколько аргументов:\n",
    "# subset – для каких колонок нужно построить небольшой барплот\n",
    "# color – цвет \n",
    "\n",
    "df.style.bar(subset=['C', 'D'], color='#67A5EB')"
   ]
  },
  {
   "cell_type": "code",
   "execution_count": 114,
   "metadata": {},
   "outputs": [
    {
     "data": {
      "text/html": [
       "<style  type=\"text/css\" >\n",
       "#T_aeae0948_8cf7_11ee_bdbb_96000040dfb6row0_col2,#T_aeae0948_8cf7_11ee_bdbb_96000040dfb6row4_col2{\n",
       "            width:  10em;\n",
       "             height:  80%;\n",
       "            background:  linear-gradient(90deg,#67A5EB 52.6%, transparent 52.6%);\n",
       "        }#T_aeae0948_8cf7_11ee_bdbb_96000040dfb6row0_col3{\n",
       "            width:  10em;\n",
       "             height:  80%;\n",
       "            background:  linear-gradient(90deg,#67A5EB 54.4%, transparent 54.4%);\n",
       "        }#T_aeae0948_8cf7_11ee_bdbb_96000040dfb6row1_col2{\n",
       "            width:  10em;\n",
       "             height:  80%;\n",
       "            background:  linear-gradient(90deg, transparent 36.8%, #67A5EB 36.8%, #67A5EB 52.6%, transparent 52.6%);\n",
       "        }#T_aeae0948_8cf7_11ee_bdbb_96000040dfb6row1_col3{\n",
       "            width:  10em;\n",
       "             height:  80%;\n",
       "            background:  linear-gradient(90deg,#67A5EB 100.0%, transparent 100.0%);\n",
       "        }#T_aeae0948_8cf7_11ee_bdbb_96000040dfb6row2_col2{\n",
       "            width:  10em;\n",
       "             height:  80%;\n",
       "            background:  linear-gradient(90deg, transparent 52.6%, #67A5EB 52.6%, #67A5EB 63.2%, transparent 63.2%);\n",
       "        }#T_aeae0948_8cf7_11ee_bdbb_96000040dfb6row2_col3{\n",
       "            width:  10em;\n",
       "             height:  80%;\n",
       "            background:  linear-gradient(90deg,#67A5EB 48.9%, transparent 48.9%);\n",
       "        }#T_aeae0948_8cf7_11ee_bdbb_96000040dfb6row3_col2{\n",
       "            width:  10em;\n",
       "             height:  80%;\n",
       "            background:  linear-gradient(90deg, transparent 52.6%, #67A5EB 52.6%, #67A5EB 100.0%, transparent 100.0%);\n",
       "        }#T_aeae0948_8cf7_11ee_bdbb_96000040dfb6row3_col3{\n",
       "            width:  10em;\n",
       "             height:  80%;\n",
       "            background:  linear-gradient(90deg,#67A5EB 28.9%, transparent 28.9%);\n",
       "        }#T_aeae0948_8cf7_11ee_bdbb_96000040dfb6row4_col3{\n",
       "            width:  10em;\n",
       "             height:  80%;\n",
       "            background:  linear-gradient(90deg,#67A5EB 41.1%, transparent 41.1%);\n",
       "        }</style><table id=\"T_aeae0948_8cf7_11ee_bdbb_96000040dfb6\" ><thead>    <tr>        <th class=\"blank level0\" ></th>        <th class=\"col_heading level0 col0\" >A</th>        <th class=\"col_heading level0 col1\" >B</th>        <th class=\"col_heading level0 col2\" >C</th>        <th class=\"col_heading level0 col3\" >D</th>    </tr></thead><tbody>\n",
       "                <tr>\n",
       "                        <th id=\"T_aeae0948_8cf7_11ee_bdbb_96000040dfb6level0_row0\" class=\"row_heading level0 row0\" >0</th>\n",
       "                        <td id=\"T_aeae0948_8cf7_11ee_bdbb_96000040dfb6row0_col0\" class=\"data row0 col0\" >0</td>\n",
       "                        <td id=\"T_aeae0948_8cf7_11ee_bdbb_96000040dfb6row0_col1\" class=\"data row0 col1\" >7</td>\n",
       "                        <td id=\"T_aeae0948_8cf7_11ee_bdbb_96000040dfb6row0_col2\" class=\"data row0 col2\" >-10</td>\n",
       "                        <td id=\"T_aeae0948_8cf7_11ee_bdbb_96000040dfb6row0_col3\" class=\"data row0 col3\" >49</td>\n",
       "            </tr>\n",
       "            <tr>\n",
       "                        <th id=\"T_aeae0948_8cf7_11ee_bdbb_96000040dfb6level0_row1\" class=\"row_heading level0 row1\" >1</th>\n",
       "                        <td id=\"T_aeae0948_8cf7_11ee_bdbb_96000040dfb6row1_col0\" class=\"data row1 col0\" >1</td>\n",
       "                        <td id=\"T_aeae0948_8cf7_11ee_bdbb_96000040dfb6row1_col1\" class=\"data row1 col1\" >4</td>\n",
       "                        <td id=\"T_aeae0948_8cf7_11ee_bdbb_96000040dfb6row1_col2\" class=\"data row1 col2\" >-3</td>\n",
       "                        <td id=\"T_aeae0948_8cf7_11ee_bdbb_96000040dfb6row1_col3\" class=\"data row1 col3\" >90</td>\n",
       "            </tr>\n",
       "            <tr>\n",
       "                        <th id=\"T_aeae0948_8cf7_11ee_bdbb_96000040dfb6level0_row2\" class=\"row_heading level0 row2\" >2</th>\n",
       "                        <td id=\"T_aeae0948_8cf7_11ee_bdbb_96000040dfb6row2_col0\" class=\"data row2 col0\" >2</td>\n",
       "                        <td id=\"T_aeae0948_8cf7_11ee_bdbb_96000040dfb6row2_col1\" class=\"data row2 col1\" >4</td>\n",
       "                        <td id=\"T_aeae0948_8cf7_11ee_bdbb_96000040dfb6row2_col2\" class=\"data row2 col2\" >2</td>\n",
       "                        <td id=\"T_aeae0948_8cf7_11ee_bdbb_96000040dfb6row2_col3\" class=\"data row2 col3\" >44</td>\n",
       "            </tr>\n",
       "            <tr>\n",
       "                        <th id=\"T_aeae0948_8cf7_11ee_bdbb_96000040dfb6level0_row3\" class=\"row_heading level0 row3\" >3</th>\n",
       "                        <td id=\"T_aeae0948_8cf7_11ee_bdbb_96000040dfb6row3_col0\" class=\"data row3 col0\" >3</td>\n",
       "                        <td id=\"T_aeae0948_8cf7_11ee_bdbb_96000040dfb6row3_col1\" class=\"data row3 col1\" >5</td>\n",
       "                        <td id=\"T_aeae0948_8cf7_11ee_bdbb_96000040dfb6row3_col2\" class=\"data row3 col2\" >9</td>\n",
       "                        <td id=\"T_aeae0948_8cf7_11ee_bdbb_96000040dfb6row3_col3\" class=\"data row3 col3\" >26</td>\n",
       "            </tr>\n",
       "            <tr>\n",
       "                        <th id=\"T_aeae0948_8cf7_11ee_bdbb_96000040dfb6level0_row4\" class=\"row_heading level0 row4\" >4</th>\n",
       "                        <td id=\"T_aeae0948_8cf7_11ee_bdbb_96000040dfb6row4_col0\" class=\"data row4 col0\" >4</td>\n",
       "                        <td id=\"T_aeae0948_8cf7_11ee_bdbb_96000040dfb6row4_col1\" class=\"data row4 col1\" >8</td>\n",
       "                        <td id=\"T_aeae0948_8cf7_11ee_bdbb_96000040dfb6row4_col2\" class=\"data row4 col2\" >-10</td>\n",
       "                        <td id=\"T_aeae0948_8cf7_11ee_bdbb_96000040dfb6row4_col3\" class=\"data row4 col3\" >37</td>\n",
       "            </tr>\n",
       "    </tbody></table>"
      ],
      "text/plain": [
       "<pandas.io.formats.style.Styler at 0x7fb5af8b2e80>"
      ]
     },
     "execution_count": 114,
     "metadata": {},
     "output_type": "execute_result"
    }
   ],
   "source": [
    "# align –  как выровнять столбики (mid – центр ячейки в (max-min)/2; zero – ноль находится в центре ячейки; \n",
    "#                                  left – минимальное значение находится в левой части ячейки)\n",
    "df.style.bar(subset=['C', 'D'], color='#67A5EB', align='mid')"
   ]
  },
  {
   "cell_type": "code",
   "execution_count": 115,
   "metadata": {},
   "outputs": [
    {
     "data": {
      "text/html": [
       "<style  type=\"text/css\" >\n",
       "#T_b1aa3b12_8cf7_11ee_bdbb_96000040dfb6row0_col2,#T_b1aa3b12_8cf7_11ee_bdbb_96000040dfb6row4_col2{\n",
       "            width:  10em;\n",
       "             height:  80%;\n",
       "            background:  linear-gradient(90deg,#d65f5f 52.6%, transparent 52.6%);\n",
       "        }#T_b1aa3b12_8cf7_11ee_bdbb_96000040dfb6row1_col2{\n",
       "            width:  10em;\n",
       "             height:  80%;\n",
       "            background:  linear-gradient(90deg, transparent 36.8%, #d65f5f 36.8%, #d65f5f 52.6%, transparent 52.6%);\n",
       "        }#T_b1aa3b12_8cf7_11ee_bdbb_96000040dfb6row2_col2{\n",
       "            width:  10em;\n",
       "             height:  80%;\n",
       "            background:  linear-gradient(90deg, transparent 52.6%, #5fba7d 52.6%, #5fba7d 63.2%, transparent 63.2%);\n",
       "        }#T_b1aa3b12_8cf7_11ee_bdbb_96000040dfb6row3_col2{\n",
       "            width:  10em;\n",
       "             height:  80%;\n",
       "            background:  linear-gradient(90deg, transparent 52.6%, #5fba7d 52.6%, #5fba7d 100.0%, transparent 100.0%);\n",
       "        }</style><table id=\"T_b1aa3b12_8cf7_11ee_bdbb_96000040dfb6\" ><thead>    <tr>        <th class=\"col_heading level0 col0\" >A</th>        <th class=\"col_heading level0 col1\" >B</th>        <th class=\"col_heading level0 col2\" >C</th>        <th class=\"col_heading level0 col3\" >D</th>    </tr></thead><tbody>\n",
       "                <tr>\n",
       "                                <td id=\"T_b1aa3b12_8cf7_11ee_bdbb_96000040dfb6row0_col0\" class=\"data row0 col0\" >0</td>\n",
       "                        <td id=\"T_b1aa3b12_8cf7_11ee_bdbb_96000040dfb6row0_col1\" class=\"data row0 col1\" >7</td>\n",
       "                        <td id=\"T_b1aa3b12_8cf7_11ee_bdbb_96000040dfb6row0_col2\" class=\"data row0 col2\" >-10</td>\n",
       "                        <td id=\"T_b1aa3b12_8cf7_11ee_bdbb_96000040dfb6row0_col3\" class=\"data row0 col3\" >49</td>\n",
       "            </tr>\n",
       "            <tr>\n",
       "                                <td id=\"T_b1aa3b12_8cf7_11ee_bdbb_96000040dfb6row1_col0\" class=\"data row1 col0\" >1</td>\n",
       "                        <td id=\"T_b1aa3b12_8cf7_11ee_bdbb_96000040dfb6row1_col1\" class=\"data row1 col1\" >4</td>\n",
       "                        <td id=\"T_b1aa3b12_8cf7_11ee_bdbb_96000040dfb6row1_col2\" class=\"data row1 col2\" >-3</td>\n",
       "                        <td id=\"T_b1aa3b12_8cf7_11ee_bdbb_96000040dfb6row1_col3\" class=\"data row1 col3\" >90</td>\n",
       "            </tr>\n",
       "            <tr>\n",
       "                                <td id=\"T_b1aa3b12_8cf7_11ee_bdbb_96000040dfb6row2_col0\" class=\"data row2 col0\" >2</td>\n",
       "                        <td id=\"T_b1aa3b12_8cf7_11ee_bdbb_96000040dfb6row2_col1\" class=\"data row2 col1\" >4</td>\n",
       "                        <td id=\"T_b1aa3b12_8cf7_11ee_bdbb_96000040dfb6row2_col2\" class=\"data row2 col2\" >2</td>\n",
       "                        <td id=\"T_b1aa3b12_8cf7_11ee_bdbb_96000040dfb6row2_col3\" class=\"data row2 col3\" >44</td>\n",
       "            </tr>\n",
       "            <tr>\n",
       "                                <td id=\"T_b1aa3b12_8cf7_11ee_bdbb_96000040dfb6row3_col0\" class=\"data row3 col0\" >3</td>\n",
       "                        <td id=\"T_b1aa3b12_8cf7_11ee_bdbb_96000040dfb6row3_col1\" class=\"data row3 col1\" >5</td>\n",
       "                        <td id=\"T_b1aa3b12_8cf7_11ee_bdbb_96000040dfb6row3_col2\" class=\"data row3 col2\" >9</td>\n",
       "                        <td id=\"T_b1aa3b12_8cf7_11ee_bdbb_96000040dfb6row3_col3\" class=\"data row3 col3\" >26</td>\n",
       "            </tr>\n",
       "            <tr>\n",
       "                                <td id=\"T_b1aa3b12_8cf7_11ee_bdbb_96000040dfb6row4_col0\" class=\"data row4 col0\" >4</td>\n",
       "                        <td id=\"T_b1aa3b12_8cf7_11ee_bdbb_96000040dfb6row4_col1\" class=\"data row4 col1\" >8</td>\n",
       "                        <td id=\"T_b1aa3b12_8cf7_11ee_bdbb_96000040dfb6row4_col2\" class=\"data row4 col2\" >-10</td>\n",
       "                        <td id=\"T_b1aa3b12_8cf7_11ee_bdbb_96000040dfb6row4_col3\" class=\"data row4 col3\" >37</td>\n",
       "            </tr>\n",
       "    </tbody></table>"
      ],
      "text/plain": [
       "<pandas.io.formats.style.Styler at 0x7fb603dad438>"
      ]
     },
     "execution_count": 115,
     "metadata": {},
     "output_type": "execute_result"
    }
   ],
   "source": [
    "# Также можно указать сразу несколько цветов. Значения меньше 0 будут окрашены в красный, больше – в зелёный.\n",
    "(df\n",
    " .style\n",
    " .hide_index()\n",
    " .bar(subset=['C'], align='mid',color=['#d65f5f', '#5fba7d'])\n",
    ")"
   ]
  },
  {
   "cell_type": "code",
   "execution_count": 116,
   "metadata": {},
   "outputs": [
    {
     "data": {
      "text/html": [
       "<div>\n",
       "<style scoped>\n",
       "    .dataframe tbody tr th:only-of-type {\n",
       "        vertical-align: middle;\n",
       "    }\n",
       "\n",
       "    .dataframe tbody tr th {\n",
       "        vertical-align: top;\n",
       "    }\n",
       "\n",
       "    .dataframe thead th {\n",
       "        text-align: right;\n",
       "    }\n",
       "</style>\n",
       "<table border=\"1\" class=\"dataframe\">\n",
       "  <thead>\n",
       "    <tr style=\"text-align: right;\">\n",
       "      <th></th>\n",
       "      <th>A</th>\n",
       "      <th>B</th>\n",
       "      <th>C</th>\n",
       "      <th>D</th>\n",
       "      <th>E</th>\n",
       "      <th>F</th>\n",
       "    </tr>\n",
       "  </thead>\n",
       "  <tbody>\n",
       "    <tr>\n",
       "      <th>0</th>\n",
       "      <td>1.00</td>\n",
       "      <td>0.797939</td>\n",
       "      <td>NaN</td>\n",
       "      <td>-1.652119</td>\n",
       "      <td>0.717119</td>\n",
       "      <td>B</td>\n",
       "    </tr>\n",
       "    <tr>\n",
       "      <th>1</th>\n",
       "      <td>3.25</td>\n",
       "      <td>0.977228</td>\n",
       "      <td>-1.040849</td>\n",
       "      <td>-0.643520</td>\n",
       "      <td>-0.112520</td>\n",
       "      <td>A</td>\n",
       "    </tr>\n",
       "    <tr>\n",
       "      <th>2</th>\n",
       "      <td>5.50</td>\n",
       "      <td>-0.314166</td>\n",
       "      <td>1.627440</td>\n",
       "      <td>-0.361227</td>\n",
       "      <td>-0.173046</td>\n",
       "      <td>B</td>\n",
       "    </tr>\n",
       "    <tr>\n",
       "      <th>3</th>\n",
       "      <td>7.75</td>\n",
       "      <td>-1.951309</td>\n",
       "      <td>-0.978210</td>\n",
       "      <td>NaN</td>\n",
       "      <td>-1.178379</td>\n",
       "      <td>A</td>\n",
       "    </tr>\n",
       "    <tr>\n",
       "      <th>4</th>\n",
       "      <td>10.00</td>\n",
       "      <td>-0.515551</td>\n",
       "      <td>-0.063015</td>\n",
       "      <td>-0.559371</td>\n",
       "      <td>0.796697</td>\n",
       "      <td>A</td>\n",
       "    </tr>\n",
       "  </tbody>\n",
       "</table>\n",
       "</div>"
      ],
      "text/plain": [
       "       A         B         C         D         E  F\n",
       "0   1.00  0.797939       NaN -1.652119  0.717119  B\n",
       "1   3.25  0.977228 -1.040849 -0.643520 -0.112520  A\n",
       "2   5.50 -0.314166  1.627440 -0.361227 -0.173046  B\n",
       "3   7.75 -1.951309 -0.978210       NaN -1.178379  A\n",
       "4  10.00 -0.515551 -0.063015 -0.559371  0.796697  A"
      ]
     },
     "execution_count": 116,
     "metadata": {},
     "output_type": "execute_result"
    }
   ],
   "source": [
    "# форматирование отображения чисел\n",
    "\n",
    "# Иногда может понадобится различное число знаков после запятой. \n",
    "# Для этого подходит метод .format(), которому нужно передать строку, указывающую сколько знаков необходимо оставить.\n",
    "# генерируем данные\n",
    "df = pd.DataFrame({'A': np.linspace(1, 10, 5)})\n",
    "df = pd.concat([df, pd.DataFrame(np.random.randn(5, 4), columns=list('BCDE'))],axis=1)\n",
    "df['F'] = np.random.choice(['A', 'B'], size=5)\n",
    "df.iloc[3, 3] = np.nan \n",
    "df.iloc[0, 2] = np.nan \n",
    "df"
   ]
  },
  {
   "cell_type": "code",
   "execution_count": 117,
   "metadata": {},
   "outputs": [
    {
     "data": {
      "text/html": [
       "<style  type=\"text/css\" >\n",
       "</style><table id=\"T_bc55bd5c_8cf7_11ee_bdbb_96000040dfb6\" ><thead>    <tr>        <th class=\"blank level0\" ></th>        <th class=\"col_heading level0 col0\" >A</th>        <th class=\"col_heading level0 col1\" >B</th>        <th class=\"col_heading level0 col2\" >C</th>        <th class=\"col_heading level0 col3\" >D</th>        <th class=\"col_heading level0 col4\" >E</th>        <th class=\"col_heading level0 col5\" >F</th>    </tr></thead><tbody>\n",
       "                <tr>\n",
       "                        <th id=\"T_bc55bd5c_8cf7_11ee_bdbb_96000040dfb6level0_row0\" class=\"row_heading level0 row0\" >0</th>\n",
       "                        <td id=\"T_bc55bd5c_8cf7_11ee_bdbb_96000040dfb6row0_col0\" class=\"data row0 col0\" >+1.00</td>\n",
       "                        <td id=\"T_bc55bd5c_8cf7_11ee_bdbb_96000040dfb6row0_col1\" class=\"data row0 col1\" >+0.80</td>\n",
       "                        <td id=\"T_bc55bd5c_8cf7_11ee_bdbb_96000040dfb6row0_col2\" class=\"data row0 col2\" >+nan</td>\n",
       "                        <td id=\"T_bc55bd5c_8cf7_11ee_bdbb_96000040dfb6row0_col3\" class=\"data row0 col3\" >-1.65</td>\n",
       "                        <td id=\"T_bc55bd5c_8cf7_11ee_bdbb_96000040dfb6row0_col4\" class=\"data row0 col4\" >+0.72</td>\n",
       "                        <td id=\"T_bc55bd5c_8cf7_11ee_bdbb_96000040dfb6row0_col5\" class=\"data row0 col5\" >B</td>\n",
       "            </tr>\n",
       "            <tr>\n",
       "                        <th id=\"T_bc55bd5c_8cf7_11ee_bdbb_96000040dfb6level0_row1\" class=\"row_heading level0 row1\" >1</th>\n",
       "                        <td id=\"T_bc55bd5c_8cf7_11ee_bdbb_96000040dfb6row1_col0\" class=\"data row1 col0\" >+3.25</td>\n",
       "                        <td id=\"T_bc55bd5c_8cf7_11ee_bdbb_96000040dfb6row1_col1\" class=\"data row1 col1\" >+0.98</td>\n",
       "                        <td id=\"T_bc55bd5c_8cf7_11ee_bdbb_96000040dfb6row1_col2\" class=\"data row1 col2\" >-1.04</td>\n",
       "                        <td id=\"T_bc55bd5c_8cf7_11ee_bdbb_96000040dfb6row1_col3\" class=\"data row1 col3\" >-0.64</td>\n",
       "                        <td id=\"T_bc55bd5c_8cf7_11ee_bdbb_96000040dfb6row1_col4\" class=\"data row1 col4\" >-0.11</td>\n",
       "                        <td id=\"T_bc55bd5c_8cf7_11ee_bdbb_96000040dfb6row1_col5\" class=\"data row1 col5\" >A</td>\n",
       "            </tr>\n",
       "            <tr>\n",
       "                        <th id=\"T_bc55bd5c_8cf7_11ee_bdbb_96000040dfb6level0_row2\" class=\"row_heading level0 row2\" >2</th>\n",
       "                        <td id=\"T_bc55bd5c_8cf7_11ee_bdbb_96000040dfb6row2_col0\" class=\"data row2 col0\" >+5.50</td>\n",
       "                        <td id=\"T_bc55bd5c_8cf7_11ee_bdbb_96000040dfb6row2_col1\" class=\"data row2 col1\" >-0.31</td>\n",
       "                        <td id=\"T_bc55bd5c_8cf7_11ee_bdbb_96000040dfb6row2_col2\" class=\"data row2 col2\" >+1.63</td>\n",
       "                        <td id=\"T_bc55bd5c_8cf7_11ee_bdbb_96000040dfb6row2_col3\" class=\"data row2 col3\" >-0.36</td>\n",
       "                        <td id=\"T_bc55bd5c_8cf7_11ee_bdbb_96000040dfb6row2_col4\" class=\"data row2 col4\" >-0.17</td>\n",
       "                        <td id=\"T_bc55bd5c_8cf7_11ee_bdbb_96000040dfb6row2_col5\" class=\"data row2 col5\" >B</td>\n",
       "            </tr>\n",
       "            <tr>\n",
       "                        <th id=\"T_bc55bd5c_8cf7_11ee_bdbb_96000040dfb6level0_row3\" class=\"row_heading level0 row3\" >3</th>\n",
       "                        <td id=\"T_bc55bd5c_8cf7_11ee_bdbb_96000040dfb6row3_col0\" class=\"data row3 col0\" >+7.75</td>\n",
       "                        <td id=\"T_bc55bd5c_8cf7_11ee_bdbb_96000040dfb6row3_col1\" class=\"data row3 col1\" >-1.95</td>\n",
       "                        <td id=\"T_bc55bd5c_8cf7_11ee_bdbb_96000040dfb6row3_col2\" class=\"data row3 col2\" >-0.98</td>\n",
       "                        <td id=\"T_bc55bd5c_8cf7_11ee_bdbb_96000040dfb6row3_col3\" class=\"data row3 col3\" >+nan</td>\n",
       "                        <td id=\"T_bc55bd5c_8cf7_11ee_bdbb_96000040dfb6row3_col4\" class=\"data row3 col4\" >-1.18</td>\n",
       "                        <td id=\"T_bc55bd5c_8cf7_11ee_bdbb_96000040dfb6row3_col5\" class=\"data row3 col5\" >A</td>\n",
       "            </tr>\n",
       "            <tr>\n",
       "                        <th id=\"T_bc55bd5c_8cf7_11ee_bdbb_96000040dfb6level0_row4\" class=\"row_heading level0 row4\" >4</th>\n",
       "                        <td id=\"T_bc55bd5c_8cf7_11ee_bdbb_96000040dfb6row4_col0\" class=\"data row4 col0\" >+10.00</td>\n",
       "                        <td id=\"T_bc55bd5c_8cf7_11ee_bdbb_96000040dfb6row4_col1\" class=\"data row4 col1\" >-0.52</td>\n",
       "                        <td id=\"T_bc55bd5c_8cf7_11ee_bdbb_96000040dfb6row4_col2\" class=\"data row4 col2\" >-0.06</td>\n",
       "                        <td id=\"T_bc55bd5c_8cf7_11ee_bdbb_96000040dfb6row4_col3\" class=\"data row4 col3\" >-0.56</td>\n",
       "                        <td id=\"T_bc55bd5c_8cf7_11ee_bdbb_96000040dfb6row4_col4\" class=\"data row4 col4\" >+0.80</td>\n",
       "                        <td id=\"T_bc55bd5c_8cf7_11ee_bdbb_96000040dfb6row4_col5\" class=\"data row4 col5\" >A</td>\n",
       "            </tr>\n",
       "    </tbody></table>"
      ],
      "text/plain": [
       "<pandas.io.formats.style.Styler at 0x7fb603dadb70>"
      ]
     },
     "execution_count": 117,
     "metadata": {},
     "output_type": "execute_result"
    }
   ],
   "source": [
    "# Форматируем:\n",
    "\n",
    "# оставляем только 2 знака после точки\n",
    "# добавляем знак + для положительных значений\n",
    "# применяем ко всем колонкам, кроме F\n",
    "df.style.format(\"{:+.2f}\", subset=df.columns.drop('F'))"
   ]
  },
  {
   "cell_type": "code",
   "execution_count": 118,
   "metadata": {},
   "outputs": [
    {
     "data": {
      "text/html": [
       "<style  type=\"text/css\" >\n",
       "</style><table id=\"T_bed3957c_8cf7_11ee_bdbb_96000040dfb6\" ><caption>Новая таблица</caption><thead>    <tr>        <th class=\"col_heading level0 col0\" >A</th>        <th class=\"col_heading level0 col1\" >B</th>        <th class=\"col_heading level0 col2\" >C</th>        <th class=\"col_heading level0 col3\" >D</th>        <th class=\"col_heading level0 col4\" >E</th>        <th class=\"col_heading level0 col5\" >F</th>    </tr></thead><tbody>\n",
       "                <tr>\n",
       "                                <td id=\"T_bed3957c_8cf7_11ee_bdbb_96000040dfb6row0_col0\" class=\"data row0 col0\" >1.000000</td>\n",
       "                        <td id=\"T_bed3957c_8cf7_11ee_bdbb_96000040dfb6row0_col1\" class=\"data row0 col1\" >1000</td>\n",
       "                        <td id=\"T_bed3957c_8cf7_11ee_bdbb_96000040dfb6row0_col2\" class=\"data row0 col2\" >nan</td>\n",
       "                        <td id=\"T_bed3957c_8cf7_11ee_bdbb_96000040dfb6row0_col3\" class=\"data row0 col3\" >-1.65</td>\n",
       "                        <td id=\"T_bed3957c_8cf7_11ee_bdbb_96000040dfb6row0_col4\" class=\"data row0 col4\" >0.717119</td>\n",
       "                        <td id=\"T_bed3957c_8cf7_11ee_bdbb_96000040dfb6row0_col5\" class=\"data row0 col5\" >B</td>\n",
       "            </tr>\n",
       "            <tr>\n",
       "                                <td id=\"T_bed3957c_8cf7_11ee_bdbb_96000040dfb6row1_col0\" class=\"data row1 col0\" >3.250000</td>\n",
       "                        <td id=\"T_bed3957c_8cf7_11ee_bdbb_96000040dfb6row1_col1\" class=\"data row1 col1\" >1000</td>\n",
       "                        <td id=\"T_bed3957c_8cf7_11ee_bdbb_96000040dfb6row1_col2\" class=\"data row1 col2\" >-1.040849</td>\n",
       "                        <td id=\"T_bed3957c_8cf7_11ee_bdbb_96000040dfb6row1_col3\" class=\"data row1 col3\" >-0.64</td>\n",
       "                        <td id=\"T_bed3957c_8cf7_11ee_bdbb_96000040dfb6row1_col4\" class=\"data row1 col4\" >-0.112520</td>\n",
       "                        <td id=\"T_bed3957c_8cf7_11ee_bdbb_96000040dfb6row1_col5\" class=\"data row1 col5\" >A</td>\n",
       "            </tr>\n",
       "            <tr>\n",
       "                                <td id=\"T_bed3957c_8cf7_11ee_bdbb_96000040dfb6row2_col0\" class=\"data row2 col0\" >5.500000</td>\n",
       "                        <td id=\"T_bed3957c_8cf7_11ee_bdbb_96000040dfb6row2_col1\" class=\"data row2 col1\" >-000</td>\n",
       "                        <td id=\"T_bed3957c_8cf7_11ee_bdbb_96000040dfb6row2_col2\" class=\"data row2 col2\" >1.627440</td>\n",
       "                        <td id=\"T_bed3957c_8cf7_11ee_bdbb_96000040dfb6row2_col3\" class=\"data row2 col3\" >-0.36</td>\n",
       "                        <td id=\"T_bed3957c_8cf7_11ee_bdbb_96000040dfb6row2_col4\" class=\"data row2 col4\" >-0.173046</td>\n",
       "                        <td id=\"T_bed3957c_8cf7_11ee_bdbb_96000040dfb6row2_col5\" class=\"data row2 col5\" >B</td>\n",
       "            </tr>\n",
       "            <tr>\n",
       "                                <td id=\"T_bed3957c_8cf7_11ee_bdbb_96000040dfb6row3_col0\" class=\"data row3 col0\" >7.750000</td>\n",
       "                        <td id=\"T_bed3957c_8cf7_11ee_bdbb_96000040dfb6row3_col1\" class=\"data row3 col1\" >-200</td>\n",
       "                        <td id=\"T_bed3957c_8cf7_11ee_bdbb_96000040dfb6row3_col2\" class=\"data row3 col2\" >-0.978210</td>\n",
       "                        <td id=\"T_bed3957c_8cf7_11ee_bdbb_96000040dfb6row3_col3\" class=\"data row3 col3\" >+nan</td>\n",
       "                        <td id=\"T_bed3957c_8cf7_11ee_bdbb_96000040dfb6row3_col4\" class=\"data row3 col4\" >-1.178379</td>\n",
       "                        <td id=\"T_bed3957c_8cf7_11ee_bdbb_96000040dfb6row3_col5\" class=\"data row3 col5\" >A</td>\n",
       "            </tr>\n",
       "            <tr>\n",
       "                                <td id=\"T_bed3957c_8cf7_11ee_bdbb_96000040dfb6row4_col0\" class=\"data row4 col0\" >10.000000</td>\n",
       "                        <td id=\"T_bed3957c_8cf7_11ee_bdbb_96000040dfb6row4_col1\" class=\"data row4 col1\" >-100</td>\n",
       "                        <td id=\"T_bed3957c_8cf7_11ee_bdbb_96000040dfb6row4_col2\" class=\"data row4 col2\" >-0.063015</td>\n",
       "                        <td id=\"T_bed3957c_8cf7_11ee_bdbb_96000040dfb6row4_col3\" class=\"data row4 col3\" >-0.56</td>\n",
       "                        <td id=\"T_bed3957c_8cf7_11ee_bdbb_96000040dfb6row4_col4\" class=\"data row4 col4\" >0.796697</td>\n",
       "                        <td id=\"T_bed3957c_8cf7_11ee_bdbb_96000040dfb6row4_col5\" class=\"data row4 col5\" >A</td>\n",
       "            </tr>\n",
       "    </tbody></table>"
      ],
      "text/plain": [
       "<pandas.io.formats.style.Styler at 0x7fb603dade48>"
      ]
     },
     "execution_count": 118,
     "metadata": {},
     "output_type": "execute_result"
    }
   ],
   "source": [
    "# Также можем скрыть индексы и добавить название:\n",
    "(df.style\n",
    " .format({'B': \"{:0<4.0f}\", 'D': '{:+.2f}'})\n",
    " .hide_index()\n",
    " .set_caption('Новая таблица'))"
   ]
  },
  {
   "cell_type": "code",
   "execution_count": 119,
   "metadata": {},
   "outputs": [],
   "source": [
    "# И при желании импортировать в Excel (но не всё форматирование переносится):\n",
    "(df.style\n",
    " .bar(align='mid', color=['#d65f5f', '#5fba7d'])\n",
    " .to_excel('styled.xlsx', engine='openpyxl')\n",
    ")"
   ]
  },
  {
   "cell_type": "markdown",
   "metadata": {},
   "source": [
    "**Retention** – показатель удержания пользователей. \n",
    "\n",
    "Иными словами – отражает то, сколько пользователей возвращаются в продукт спустя заданное время."
   ]
  },
  {
   "cell_type": "markdown",
   "metadata": {},
   "source": [
    "Один из вариантов визуализации представлен ниже. "
   ]
  },
  {
   "cell_type": "code",
   "execution_count": 120,
   "metadata": {},
   "outputs": [],
   "source": [
    "user_retention = pd.read_csv(\"https://stepik.org/media/attachments/lesson/367416/user_retention.csv\", index_col=0)"
   ]
  },
  {
   "cell_type": "code",
   "execution_count": 121,
   "metadata": {},
   "outputs": [
    {
     "data": {
      "text/html": [
       "<div>\n",
       "<style scoped>\n",
       "    .dataframe tbody tr th:only-of-type {\n",
       "        vertical-align: middle;\n",
       "    }\n",
       "\n",
       "    .dataframe tbody tr th {\n",
       "        vertical-align: top;\n",
       "    }\n",
       "\n",
       "    .dataframe thead th {\n",
       "        text-align: right;\n",
       "    }\n",
       "</style>\n",
       "<table border=\"1\" class=\"dataframe\">\n",
       "  <thead>\n",
       "    <tr style=\"text-align: right;\">\n",
       "      <th></th>\n",
       "      <th>0</th>\n",
       "      <th>1</th>\n",
       "      <th>2</th>\n",
       "      <th>3</th>\n",
       "      <th>4</th>\n",
       "      <th>5</th>\n",
       "      <th>6</th>\n",
       "      <th>7</th>\n",
       "      <th>8</th>\n",
       "      <th>9</th>\n",
       "      <th>10</th>\n",
       "      <th>11</th>\n",
       "      <th>12</th>\n",
       "    </tr>\n",
       "    <tr>\n",
       "      <th>Cohort</th>\n",
       "      <th></th>\n",
       "      <th></th>\n",
       "      <th></th>\n",
       "      <th></th>\n",
       "      <th></th>\n",
       "      <th></th>\n",
       "      <th></th>\n",
       "      <th></th>\n",
       "      <th></th>\n",
       "      <th></th>\n",
       "      <th></th>\n",
       "      <th></th>\n",
       "      <th></th>\n",
       "    </tr>\n",
       "  </thead>\n",
       "  <tbody>\n",
       "    <tr>\n",
       "      <th>2010-12</th>\n",
       "      <td>1.0</td>\n",
       "      <td>0.381857</td>\n",
       "      <td>0.334388</td>\n",
       "      <td>0.387131</td>\n",
       "      <td>0.359705</td>\n",
       "      <td>0.396624</td>\n",
       "      <td>0.379747</td>\n",
       "      <td>0.354430</td>\n",
       "      <td>0.354430</td>\n",
       "      <td>0.394515</td>\n",
       "      <td>0.373418</td>\n",
       "      <td>0.500000</td>\n",
       "      <td>0.274262</td>\n",
       "    </tr>\n",
       "    <tr>\n",
       "      <th>2011-01</th>\n",
       "      <td>1.0</td>\n",
       "      <td>0.239905</td>\n",
       "      <td>0.282660</td>\n",
       "      <td>0.242280</td>\n",
       "      <td>0.327791</td>\n",
       "      <td>0.299287</td>\n",
       "      <td>0.261283</td>\n",
       "      <td>0.256532</td>\n",
       "      <td>0.311164</td>\n",
       "      <td>0.346793</td>\n",
       "      <td>0.368171</td>\n",
       "      <td>0.149644</td>\n",
       "      <td>NaN</td>\n",
       "    </tr>\n",
       "    <tr>\n",
       "      <th>2011-02</th>\n",
       "      <td>1.0</td>\n",
       "      <td>0.247368</td>\n",
       "      <td>0.192105</td>\n",
       "      <td>0.278947</td>\n",
       "      <td>0.268421</td>\n",
       "      <td>0.247368</td>\n",
       "      <td>0.255263</td>\n",
       "      <td>0.281579</td>\n",
       "      <td>0.257895</td>\n",
       "      <td>0.313158</td>\n",
       "      <td>0.092105</td>\n",
       "      <td>NaN</td>\n",
       "      <td>NaN</td>\n",
       "    </tr>\n",
       "    <tr>\n",
       "      <th>2011-03</th>\n",
       "      <td>1.0</td>\n",
       "      <td>0.190909</td>\n",
       "      <td>0.254545</td>\n",
       "      <td>0.218182</td>\n",
       "      <td>0.231818</td>\n",
       "      <td>0.177273</td>\n",
       "      <td>0.263636</td>\n",
       "      <td>0.238636</td>\n",
       "      <td>0.288636</td>\n",
       "      <td>0.088636</td>\n",
       "      <td>NaN</td>\n",
       "      <td>NaN</td>\n",
       "      <td>NaN</td>\n",
       "    </tr>\n",
       "    <tr>\n",
       "      <th>2011-04</th>\n",
       "      <td>1.0</td>\n",
       "      <td>0.227425</td>\n",
       "      <td>0.220736</td>\n",
       "      <td>0.210702</td>\n",
       "      <td>0.207358</td>\n",
       "      <td>0.237458</td>\n",
       "      <td>0.230769</td>\n",
       "      <td>0.260870</td>\n",
       "      <td>0.083612</td>\n",
       "      <td>NaN</td>\n",
       "      <td>NaN</td>\n",
       "      <td>NaN</td>\n",
       "      <td>NaN</td>\n",
       "    </tr>\n",
       "    <tr>\n",
       "      <th>2011-05</th>\n",
       "      <td>1.0</td>\n",
       "      <td>0.236559</td>\n",
       "      <td>0.172043</td>\n",
       "      <td>0.172043</td>\n",
       "      <td>0.215054</td>\n",
       "      <td>0.243728</td>\n",
       "      <td>0.265233</td>\n",
       "      <td>0.103943</td>\n",
       "      <td>NaN</td>\n",
       "      <td>NaN</td>\n",
       "      <td>NaN</td>\n",
       "      <td>NaN</td>\n",
       "      <td>NaN</td>\n",
       "    </tr>\n",
       "    <tr>\n",
       "      <th>2011-06</th>\n",
       "      <td>1.0</td>\n",
       "      <td>0.208511</td>\n",
       "      <td>0.187234</td>\n",
       "      <td>0.272340</td>\n",
       "      <td>0.246809</td>\n",
       "      <td>0.336170</td>\n",
       "      <td>0.102128</td>\n",
       "      <td>NaN</td>\n",
       "      <td>NaN</td>\n",
       "      <td>NaN</td>\n",
       "      <td>NaN</td>\n",
       "      <td>NaN</td>\n",
       "      <td>NaN</td>\n",
       "    </tr>\n",
       "    <tr>\n",
       "      <th>2011-07</th>\n",
       "      <td>1.0</td>\n",
       "      <td>0.209424</td>\n",
       "      <td>0.204188</td>\n",
       "      <td>0.230366</td>\n",
       "      <td>0.272251</td>\n",
       "      <td>0.115183</td>\n",
       "      <td>NaN</td>\n",
       "      <td>NaN</td>\n",
       "      <td>NaN</td>\n",
       "      <td>NaN</td>\n",
       "      <td>NaN</td>\n",
       "      <td>NaN</td>\n",
       "      <td>NaN</td>\n",
       "    </tr>\n",
       "    <tr>\n",
       "      <th>2011-08</th>\n",
       "      <td>1.0</td>\n",
       "      <td>0.251497</td>\n",
       "      <td>0.251497</td>\n",
       "      <td>0.251497</td>\n",
       "      <td>0.137725</td>\n",
       "      <td>NaN</td>\n",
       "      <td>NaN</td>\n",
       "      <td>NaN</td>\n",
       "      <td>NaN</td>\n",
       "      <td>NaN</td>\n",
       "      <td>NaN</td>\n",
       "      <td>NaN</td>\n",
       "      <td>NaN</td>\n",
       "    </tr>\n",
       "    <tr>\n",
       "      <th>2011-09</th>\n",
       "      <td>1.0</td>\n",
       "      <td>0.298658</td>\n",
       "      <td>0.325503</td>\n",
       "      <td>0.120805</td>\n",
       "      <td>NaN</td>\n",
       "      <td>NaN</td>\n",
       "      <td>NaN</td>\n",
       "      <td>NaN</td>\n",
       "      <td>NaN</td>\n",
       "      <td>NaN</td>\n",
       "      <td>NaN</td>\n",
       "      <td>NaN</td>\n",
       "      <td>NaN</td>\n",
       "    </tr>\n",
       "    <tr>\n",
       "      <th>2011-10</th>\n",
       "      <td>1.0</td>\n",
       "      <td>0.264205</td>\n",
       "      <td>0.130682</td>\n",
       "      <td>NaN</td>\n",
       "      <td>NaN</td>\n",
       "      <td>NaN</td>\n",
       "      <td>NaN</td>\n",
       "      <td>NaN</td>\n",
       "      <td>NaN</td>\n",
       "      <td>NaN</td>\n",
       "      <td>NaN</td>\n",
       "      <td>NaN</td>\n",
       "      <td>NaN</td>\n",
       "    </tr>\n",
       "    <tr>\n",
       "      <th>2011-11</th>\n",
       "      <td>1.0</td>\n",
       "      <td>0.134375</td>\n",
       "      <td>NaN</td>\n",
       "      <td>NaN</td>\n",
       "      <td>NaN</td>\n",
       "      <td>NaN</td>\n",
       "      <td>NaN</td>\n",
       "      <td>NaN</td>\n",
       "      <td>NaN</td>\n",
       "      <td>NaN</td>\n",
       "      <td>NaN</td>\n",
       "      <td>NaN</td>\n",
       "      <td>NaN</td>\n",
       "    </tr>\n",
       "    <tr>\n",
       "      <th>2011-12</th>\n",
       "      <td>1.0</td>\n",
       "      <td>NaN</td>\n",
       "      <td>NaN</td>\n",
       "      <td>NaN</td>\n",
       "      <td>NaN</td>\n",
       "      <td>NaN</td>\n",
       "      <td>NaN</td>\n",
       "      <td>NaN</td>\n",
       "      <td>NaN</td>\n",
       "      <td>NaN</td>\n",
       "      <td>NaN</td>\n",
       "      <td>NaN</td>\n",
       "      <td>NaN</td>\n",
       "    </tr>\n",
       "  </tbody>\n",
       "</table>\n",
       "</div>"
      ],
      "text/plain": [
       "           0         1         2         3         4         5         6  \\\n",
       "Cohort                                                                     \n",
       "2010-12  1.0  0.381857  0.334388  0.387131  0.359705  0.396624  0.379747   \n",
       "2011-01  1.0  0.239905  0.282660  0.242280  0.327791  0.299287  0.261283   \n",
       "2011-02  1.0  0.247368  0.192105  0.278947  0.268421  0.247368  0.255263   \n",
       "2011-03  1.0  0.190909  0.254545  0.218182  0.231818  0.177273  0.263636   \n",
       "2011-04  1.0  0.227425  0.220736  0.210702  0.207358  0.237458  0.230769   \n",
       "2011-05  1.0  0.236559  0.172043  0.172043  0.215054  0.243728  0.265233   \n",
       "2011-06  1.0  0.208511  0.187234  0.272340  0.246809  0.336170  0.102128   \n",
       "2011-07  1.0  0.209424  0.204188  0.230366  0.272251  0.115183       NaN   \n",
       "2011-08  1.0  0.251497  0.251497  0.251497  0.137725       NaN       NaN   \n",
       "2011-09  1.0  0.298658  0.325503  0.120805       NaN       NaN       NaN   \n",
       "2011-10  1.0  0.264205  0.130682       NaN       NaN       NaN       NaN   \n",
       "2011-11  1.0  0.134375       NaN       NaN       NaN       NaN       NaN   \n",
       "2011-12  1.0       NaN       NaN       NaN       NaN       NaN       NaN   \n",
       "\n",
       "                7         8         9        10        11        12  \n",
       "Cohort                                                               \n",
       "2010-12  0.354430  0.354430  0.394515  0.373418  0.500000  0.274262  \n",
       "2011-01  0.256532  0.311164  0.346793  0.368171  0.149644       NaN  \n",
       "2011-02  0.281579  0.257895  0.313158  0.092105       NaN       NaN  \n",
       "2011-03  0.238636  0.288636  0.088636       NaN       NaN       NaN  \n",
       "2011-04  0.260870  0.083612       NaN       NaN       NaN       NaN  \n",
       "2011-05  0.103943       NaN       NaN       NaN       NaN       NaN  \n",
       "2011-06       NaN       NaN       NaN       NaN       NaN       NaN  \n",
       "2011-07       NaN       NaN       NaN       NaN       NaN       NaN  \n",
       "2011-08       NaN       NaN       NaN       NaN       NaN       NaN  \n",
       "2011-09       NaN       NaN       NaN       NaN       NaN       NaN  \n",
       "2011-10       NaN       NaN       NaN       NaN       NaN       NaN  \n",
       "2011-11       NaN       NaN       NaN       NaN       NaN       NaN  \n",
       "2011-12       NaN       NaN       NaN       NaN       NaN       NaN  "
      ]
     },
     "execution_count": 121,
     "metadata": {},
     "output_type": "execute_result"
    }
   ],
   "source": [
    "user_retention"
   ]
  },
  {
   "cell_type": "markdown",
   "metadata": {},
   "source": [
    "Cohort, строки – когорта пользователей. \n",
    "\n",
    "2011-01 означает, что пользователи из этой группы первый раз сделали заказ в онлайн магазине в январе 2011 года, 2011-02 – в феврале, и т.д.\n",
    "\n",
    "CohortPeriod, столбцы – месяц. 0 – когда пользователи только-только сделали первую покупку. \n",
    "Далее – сколько из них оформили заказ в 1 месяце, 2, ..., 12-м. \n",
    "\n",
    "Часть значений остается пропущенной, поскольку период наблюдений для части пользователей меньше, чем для остальных. \n",
    "\n",
    "Для юзеров, присоединившихся в декабре 2010, имеются данные за весь год, в то время как для ребят из когорты 2011-11 – всего лишь за 0 и 1 месяц."
   ]
  },
  {
   "cell_type": "markdown",
   "metadata": {},
   "source": [
    "Довольно сложно воспринимать подобную информацию без цвета, поэтому применяем рассмотренные ранее методы:"
   ]
  },
  {
   "cell_type": "code",
   "execution_count": 122,
   "metadata": {},
   "outputs": [
    {
     "data": {
      "text/html": [
       "<style  type=\"text/css\" >\n",
       "#T_022612c8_8cf8_11ee_bdbb_96000040dfb6row0_col0,#T_022612c8_8cf8_11ee_bdbb_96000040dfb6row0_col12,#T_022612c8_8cf8_11ee_bdbb_96000040dfb6row1_col0,#T_022612c8_8cf8_11ee_bdbb_96000040dfb6row1_col11,#T_022612c8_8cf8_11ee_bdbb_96000040dfb6row2_col0,#T_022612c8_8cf8_11ee_bdbb_96000040dfb6row2_col10,#T_022612c8_8cf8_11ee_bdbb_96000040dfb6row3_col0,#T_022612c8_8cf8_11ee_bdbb_96000040dfb6row3_col9,#T_022612c8_8cf8_11ee_bdbb_96000040dfb6row4_col0,#T_022612c8_8cf8_11ee_bdbb_96000040dfb6row4_col8,#T_022612c8_8cf8_11ee_bdbb_96000040dfb6row5_col0,#T_022612c8_8cf8_11ee_bdbb_96000040dfb6row5_col7,#T_022612c8_8cf8_11ee_bdbb_96000040dfb6row6_col0,#T_022612c8_8cf8_11ee_bdbb_96000040dfb6row6_col6,#T_022612c8_8cf8_11ee_bdbb_96000040dfb6row7_col0,#T_022612c8_8cf8_11ee_bdbb_96000040dfb6row7_col5,#T_022612c8_8cf8_11ee_bdbb_96000040dfb6row8_col0,#T_022612c8_8cf8_11ee_bdbb_96000040dfb6row8_col4,#T_022612c8_8cf8_11ee_bdbb_96000040dfb6row9_col0,#T_022612c8_8cf8_11ee_bdbb_96000040dfb6row9_col3,#T_022612c8_8cf8_11ee_bdbb_96000040dfb6row10_col0,#T_022612c8_8cf8_11ee_bdbb_96000040dfb6row10_col2,#T_022612c8_8cf8_11ee_bdbb_96000040dfb6row11_col0,#T_022612c8_8cf8_11ee_bdbb_96000040dfb6row11_col1,#T_022612c8_8cf8_11ee_bdbb_96000040dfb6row12_col0{\n",
       "            background-color:  #440154;\n",
       "            color:  #f1f1f1;\n",
       "        }#T_022612c8_8cf8_11ee_bdbb_96000040dfb6row0_col1,#T_022612c8_8cf8_11ee_bdbb_96000040dfb6row0_col2,#T_022612c8_8cf8_11ee_bdbb_96000040dfb6row0_col3,#T_022612c8_8cf8_11ee_bdbb_96000040dfb6row0_col4,#T_022612c8_8cf8_11ee_bdbb_96000040dfb6row0_col5,#T_022612c8_8cf8_11ee_bdbb_96000040dfb6row0_col6,#T_022612c8_8cf8_11ee_bdbb_96000040dfb6row0_col7,#T_022612c8_8cf8_11ee_bdbb_96000040dfb6row0_col8,#T_022612c8_8cf8_11ee_bdbb_96000040dfb6row0_col9,#T_022612c8_8cf8_11ee_bdbb_96000040dfb6row0_col10,#T_022612c8_8cf8_11ee_bdbb_96000040dfb6row0_col11{\n",
       "            background-color:  #fde725;\n",
       "            color:  #000000;\n",
       "        }#T_022612c8_8cf8_11ee_bdbb_96000040dfb6row1_col1{\n",
       "            background-color:  #277f8e;\n",
       "            color:  #000000;\n",
       "        }#T_022612c8_8cf8_11ee_bdbb_96000040dfb6row1_col2{\n",
       "            background-color:  #5ac864;\n",
       "            color:  #000000;\n",
       "        }#T_022612c8_8cf8_11ee_bdbb_96000040dfb6row1_col3,#T_022612c8_8cf8_11ee_bdbb_96000040dfb6row2_col1,#T_022612c8_8cf8_11ee_bdbb_96000040dfb6row5_col5{\n",
       "            background-color:  #25858e;\n",
       "            color:  #000000;\n",
       "        }#T_022612c8_8cf8_11ee_bdbb_96000040dfb6row1_col4{\n",
       "            background-color:  #a0da39;\n",
       "            color:  #000000;\n",
       "        }#T_022612c8_8cf8_11ee_bdbb_96000040dfb6row1_col5{\n",
       "            background-color:  #31b57b;\n",
       "            color:  #000000;\n",
       "        }#T_022612c8_8cf8_11ee_bdbb_96000040dfb6row1_col6{\n",
       "            background-color:  #1fa187;\n",
       "            color:  #000000;\n",
       "        }#T_022612c8_8cf8_11ee_bdbb_96000040dfb6row1_col7,#T_022612c8_8cf8_11ee_bdbb_96000040dfb6row3_col2,#T_022612c8_8cf8_11ee_bdbb_96000040dfb6row7_col4{\n",
       "            background-color:  #24aa83;\n",
       "            color:  #000000;\n",
       "        }#T_022612c8_8cf8_11ee_bdbb_96000040dfb6row1_col8{\n",
       "            background-color:  #95d840;\n",
       "            color:  #000000;\n",
       "        }#T_022612c8_8cf8_11ee_bdbb_96000040dfb6row1_col9{\n",
       "            background-color:  #98d83e;\n",
       "            color:  #000000;\n",
       "        }#T_022612c8_8cf8_11ee_bdbb_96000040dfb6row1_col10{\n",
       "            background-color:  #f4e61e;\n",
       "            color:  #000000;\n",
       "        }#T_022612c8_8cf8_11ee_bdbb_96000040dfb6row1_col12,#T_022612c8_8cf8_11ee_bdbb_96000040dfb6row2_col12,#T_022612c8_8cf8_11ee_bdbb_96000040dfb6row3_col12,#T_022612c8_8cf8_11ee_bdbb_96000040dfb6row4_col12,#T_022612c8_8cf8_11ee_bdbb_96000040dfb6row5_col12,#T_022612c8_8cf8_11ee_bdbb_96000040dfb6row6_col12,#T_022612c8_8cf8_11ee_bdbb_96000040dfb6row7_col12,#T_022612c8_8cf8_11ee_bdbb_96000040dfb6row8_col12,#T_022612c8_8cf8_11ee_bdbb_96000040dfb6row9_col12,#T_022612c8_8cf8_11ee_bdbb_96000040dfb6row10_col12,#T_022612c8_8cf8_11ee_bdbb_96000040dfb6row11_col12,#T_022612c8_8cf8_11ee_bdbb_96000040dfb6row12_col12{\n",
       "            background-color:  #440154;\n",
       "            color:  #f1f1f1;\n",
       "            background-color:  white;\n",
       "        }#T_022612c8_8cf8_11ee_bdbb_96000040dfb6row2_col2,#T_022612c8_8cf8_11ee_bdbb_96000040dfb6row7_col1{\n",
       "            background-color:  #34608d;\n",
       "            color:  #f1f1f1;\n",
       "        }#T_022612c8_8cf8_11ee_bdbb_96000040dfb6row2_col3{\n",
       "            background-color:  #22a785;\n",
       "            color:  #000000;\n",
       "        }#T_022612c8_8cf8_11ee_bdbb_96000040dfb6row2_col4,#T_022612c8_8cf8_11ee_bdbb_96000040dfb6row5_col6{\n",
       "            background-color:  #21a585;\n",
       "            color:  #000000;\n",
       "        }#T_022612c8_8cf8_11ee_bdbb_96000040dfb6row2_col5{\n",
       "            background-color:  #23898e;\n",
       "            color:  #000000;\n",
       "        }#T_022612c8_8cf8_11ee_bdbb_96000040dfb6row2_col6{\n",
       "            background-color:  #1e9d89;\n",
       "            color:  #000000;\n",
       "        }#T_022612c8_8cf8_11ee_bdbb_96000040dfb6row2_col7{\n",
       "            background-color:  #48c16e;\n",
       "            color:  #000000;\n",
       "        }#T_022612c8_8cf8_11ee_bdbb_96000040dfb6row2_col8{\n",
       "            background-color:  #2db27d;\n",
       "            color:  #000000;\n",
       "        }#T_022612c8_8cf8_11ee_bdbb_96000040dfb6row2_col9{\n",
       "            background-color:  #54c568;\n",
       "            color:  #000000;\n",
       "        }#T_022612c8_8cf8_11ee_bdbb_96000040dfb6row2_col11,#T_022612c8_8cf8_11ee_bdbb_96000040dfb6row3_col10,#T_022612c8_8cf8_11ee_bdbb_96000040dfb6row3_col11,#T_022612c8_8cf8_11ee_bdbb_96000040dfb6row4_col9,#T_022612c8_8cf8_11ee_bdbb_96000040dfb6row4_col10,#T_022612c8_8cf8_11ee_bdbb_96000040dfb6row4_col11,#T_022612c8_8cf8_11ee_bdbb_96000040dfb6row5_col8,#T_022612c8_8cf8_11ee_bdbb_96000040dfb6row5_col9,#T_022612c8_8cf8_11ee_bdbb_96000040dfb6row5_col10,#T_022612c8_8cf8_11ee_bdbb_96000040dfb6row5_col11,#T_022612c8_8cf8_11ee_bdbb_96000040dfb6row6_col7,#T_022612c8_8cf8_11ee_bdbb_96000040dfb6row6_col8,#T_022612c8_8cf8_11ee_bdbb_96000040dfb6row6_col9,#T_022612c8_8cf8_11ee_bdbb_96000040dfb6row6_col10,#T_022612c8_8cf8_11ee_bdbb_96000040dfb6row6_col11,#T_022612c8_8cf8_11ee_bdbb_96000040dfb6row7_col6,#T_022612c8_8cf8_11ee_bdbb_96000040dfb6row7_col7,#T_022612c8_8cf8_11ee_bdbb_96000040dfb6row7_col8,#T_022612c8_8cf8_11ee_bdbb_96000040dfb6row7_col9,#T_022612c8_8cf8_11ee_bdbb_96000040dfb6row7_col10,#T_022612c8_8cf8_11ee_bdbb_96000040dfb6row7_col11,#T_022612c8_8cf8_11ee_bdbb_96000040dfb6row8_col5,#T_022612c8_8cf8_11ee_bdbb_96000040dfb6row8_col6,#T_022612c8_8cf8_11ee_bdbb_96000040dfb6row8_col7,#T_022612c8_8cf8_11ee_bdbb_96000040dfb6row8_col8,#T_022612c8_8cf8_11ee_bdbb_96000040dfb6row8_col9,#T_022612c8_8cf8_11ee_bdbb_96000040dfb6row8_col10,#T_022612c8_8cf8_11ee_bdbb_96000040dfb6row8_col11,#T_022612c8_8cf8_11ee_bdbb_96000040dfb6row9_col4,#T_022612c8_8cf8_11ee_bdbb_96000040dfb6row9_col5,#T_022612c8_8cf8_11ee_bdbb_96000040dfb6row9_col6,#T_022612c8_8cf8_11ee_bdbb_96000040dfb6row9_col7,#T_022612c8_8cf8_11ee_bdbb_96000040dfb6row9_col8,#T_022612c8_8cf8_11ee_bdbb_96000040dfb6row9_col9,#T_022612c8_8cf8_11ee_bdbb_96000040dfb6row9_col10,#T_022612c8_8cf8_11ee_bdbb_96000040dfb6row9_col11,#T_022612c8_8cf8_11ee_bdbb_96000040dfb6row10_col3,#T_022612c8_8cf8_11ee_bdbb_96000040dfb6row10_col4,#T_022612c8_8cf8_11ee_bdbb_96000040dfb6row10_col5,#T_022612c8_8cf8_11ee_bdbb_96000040dfb6row10_col6,#T_022612c8_8cf8_11ee_bdbb_96000040dfb6row10_col7,#T_022612c8_8cf8_11ee_bdbb_96000040dfb6row10_col8,#T_022612c8_8cf8_11ee_bdbb_96000040dfb6row10_col9,#T_022612c8_8cf8_11ee_bdbb_96000040dfb6row10_col10,#T_022612c8_8cf8_11ee_bdbb_96000040dfb6row10_col11,#T_022612c8_8cf8_11ee_bdbb_96000040dfb6row11_col2,#T_022612c8_8cf8_11ee_bdbb_96000040dfb6row11_col3,#T_022612c8_8cf8_11ee_bdbb_96000040dfb6row11_col4,#T_022612c8_8cf8_11ee_bdbb_96000040dfb6row11_col5,#T_022612c8_8cf8_11ee_bdbb_96000040dfb6row11_col6,#T_022612c8_8cf8_11ee_bdbb_96000040dfb6row11_col7,#T_022612c8_8cf8_11ee_bdbb_96000040dfb6row11_col8,#T_022612c8_8cf8_11ee_bdbb_96000040dfb6row11_col9,#T_022612c8_8cf8_11ee_bdbb_96000040dfb6row11_col10,#T_022612c8_8cf8_11ee_bdbb_96000040dfb6row11_col11,#T_022612c8_8cf8_11ee_bdbb_96000040dfb6row12_col1,#T_022612c8_8cf8_11ee_bdbb_96000040dfb6row12_col2,#T_022612c8_8cf8_11ee_bdbb_96000040dfb6row12_col3,#T_022612c8_8cf8_11ee_bdbb_96000040dfb6row12_col4,#T_022612c8_8cf8_11ee_bdbb_96000040dfb6row12_col5,#T_022612c8_8cf8_11ee_bdbb_96000040dfb6row12_col6,#T_022612c8_8cf8_11ee_bdbb_96000040dfb6row12_col7,#T_022612c8_8cf8_11ee_bdbb_96000040dfb6row12_col8,#T_022612c8_8cf8_11ee_bdbb_96000040dfb6row12_col9,#T_022612c8_8cf8_11ee_bdbb_96000040dfb6row12_col10,#T_022612c8_8cf8_11ee_bdbb_96000040dfb6row12_col11{\n",
       "            background-color:  #000000;\n",
       "            color:  #f1f1f1;\n",
       "            background-color:  white;\n",
       "        }#T_022612c8_8cf8_11ee_bdbb_96000040dfb6row3_col1{\n",
       "            background-color:  #3e4c8a;\n",
       "            color:  #f1f1f1;\n",
       "        }#T_022612c8_8cf8_11ee_bdbb_96000040dfb6row3_col3{\n",
       "            background-color:  #2d708e;\n",
       "            color:  #f1f1f1;\n",
       "        }#T_022612c8_8cf8_11ee_bdbb_96000040dfb6row3_col4{\n",
       "            background-color:  #277e8e;\n",
       "            color:  #000000;\n",
       "        }#T_022612c8_8cf8_11ee_bdbb_96000040dfb6row3_col5{\n",
       "            background-color:  #3e4989;\n",
       "            color:  #f1f1f1;\n",
       "        }#T_022612c8_8cf8_11ee_bdbb_96000040dfb6row3_col6{\n",
       "            background-color:  #20a386;\n",
       "            color:  #000000;\n",
       "        }#T_022612c8_8cf8_11ee_bdbb_96000040dfb6row3_col7{\n",
       "            background-color:  #1f998a;\n",
       "            color:  #000000;\n",
       "        }#T_022612c8_8cf8_11ee_bdbb_96000040dfb6row3_col8{\n",
       "            background-color:  #60ca60;\n",
       "            color:  #000000;\n",
       "        }#T_022612c8_8cf8_11ee_bdbb_96000040dfb6row4_col1{\n",
       "            background-color:  #2c728e;\n",
       "            color:  #f1f1f1;\n",
       "        }#T_022612c8_8cf8_11ee_bdbb_96000040dfb6row4_col2{\n",
       "            background-color:  #26828e;\n",
       "            color:  #000000;\n",
       "        }#T_022612c8_8cf8_11ee_bdbb_96000040dfb6row4_col3{\n",
       "            background-color:  #30698e;\n",
       "            color:  #f1f1f1;\n",
       "        }#T_022612c8_8cf8_11ee_bdbb_96000040dfb6row4_col4{\n",
       "            background-color:  #33638d;\n",
       "            color:  #f1f1f1;\n",
       "        }#T_022612c8_8cf8_11ee_bdbb_96000040dfb6row4_col5{\n",
       "            background-color:  #26818e;\n",
       "            color:  #000000;\n",
       "        }#T_022612c8_8cf8_11ee_bdbb_96000040dfb6row4_col6{\n",
       "            background-color:  #24878e;\n",
       "            color:  #000000;\n",
       "        }#T_022612c8_8cf8_11ee_bdbb_96000040dfb6row4_col7{\n",
       "            background-color:  #28ae80;\n",
       "            color:  #000000;\n",
       "        }#T_022612c8_8cf8_11ee_bdbb_96000040dfb6row5_col1,#T_022612c8_8cf8_11ee_bdbb_96000040dfb6row7_col3{\n",
       "            background-color:  #297b8e;\n",
       "            color:  #000000;\n",
       "        }#T_022612c8_8cf8_11ee_bdbb_96000040dfb6row5_col2{\n",
       "            background-color:  #414487;\n",
       "            color:  #f1f1f1;\n",
       "        }#T_022612c8_8cf8_11ee_bdbb_96000040dfb6row5_col3{\n",
       "            background-color:  #424186;\n",
       "            color:  #f1f1f1;\n",
       "        }#T_022612c8_8cf8_11ee_bdbb_96000040dfb6row5_col4{\n",
       "            background-color:  #2f6c8e;\n",
       "            color:  #f1f1f1;\n",
       "        }#T_022612c8_8cf8_11ee_bdbb_96000040dfb6row6_col1{\n",
       "            background-color:  #355f8d;\n",
       "            color:  #f1f1f1;\n",
       "        }#T_022612c8_8cf8_11ee_bdbb_96000040dfb6row6_col2{\n",
       "            background-color:  #375a8c;\n",
       "            color:  #f1f1f1;\n",
       "        }#T_022612c8_8cf8_11ee_bdbb_96000040dfb6row6_col3{\n",
       "            background-color:  #1fa188;\n",
       "            color:  #000000;\n",
       "        }#T_022612c8_8cf8_11ee_bdbb_96000040dfb6row6_col4,#T_022612c8_8cf8_11ee_bdbb_96000040dfb6row8_col3{\n",
       "            background-color:  #218e8d;\n",
       "            color:  #000000;\n",
       "        }#T_022612c8_8cf8_11ee_bdbb_96000040dfb6row6_col5{\n",
       "            background-color:  #73d056;\n",
       "            color:  #000000;\n",
       "        }#T_022612c8_8cf8_11ee_bdbb_96000040dfb6row7_col2{\n",
       "            background-color:  #2e6f8e;\n",
       "            color:  #f1f1f1;\n",
       "        }#T_022612c8_8cf8_11ee_bdbb_96000040dfb6row8_col1{\n",
       "            background-color:  #238a8d;\n",
       "            color:  #000000;\n",
       "        }#T_022612c8_8cf8_11ee_bdbb_96000040dfb6row8_col2{\n",
       "            background-color:  #21a685;\n",
       "            color:  #000000;\n",
       "        }#T_022612c8_8cf8_11ee_bdbb_96000040dfb6row9_col1{\n",
       "            background-color:  #34b679;\n",
       "            color:  #000000;\n",
       "        }#T_022612c8_8cf8_11ee_bdbb_96000040dfb6row9_col2{\n",
       "            background-color:  #e2e418;\n",
       "            color:  #000000;\n",
       "        }#T_022612c8_8cf8_11ee_bdbb_96000040dfb6row10_col1{\n",
       "            background-color:  #1f968b;\n",
       "            color:  #000000;\n",
       "        }</style><table id=\"T_022612c8_8cf8_11ee_bdbb_96000040dfb6\" ><caption>User retention by cohort</caption><thead>    <tr>        <th class=\"blank level0\" ></th>        <th class=\"col_heading level0 col0\" >0</th>        <th class=\"col_heading level0 col1\" >1</th>        <th class=\"col_heading level0 col2\" >2</th>        <th class=\"col_heading level0 col3\" >3</th>        <th class=\"col_heading level0 col4\" >4</th>        <th class=\"col_heading level0 col5\" >5</th>        <th class=\"col_heading level0 col6\" >6</th>        <th class=\"col_heading level0 col7\" >7</th>        <th class=\"col_heading level0 col8\" >8</th>        <th class=\"col_heading level0 col9\" >9</th>        <th class=\"col_heading level0 col10\" >10</th>        <th class=\"col_heading level0 col11\" >11</th>        <th class=\"col_heading level0 col12\" >12</th>    </tr>    <tr>        <th class=\"index_name level0\" >Cohort</th>        <th class=\"blank\" ></th>        <th class=\"blank\" ></th>        <th class=\"blank\" ></th>        <th class=\"blank\" ></th>        <th class=\"blank\" ></th>        <th class=\"blank\" ></th>        <th class=\"blank\" ></th>        <th class=\"blank\" ></th>        <th class=\"blank\" ></th>        <th class=\"blank\" ></th>        <th class=\"blank\" ></th>        <th class=\"blank\" ></th>        <th class=\"blank\" ></th>    </tr></thead><tbody>\n",
       "                <tr>\n",
       "                        <th id=\"T_022612c8_8cf8_11ee_bdbb_96000040dfb6level0_row0\" class=\"row_heading level0 row0\" >2010-12</th>\n",
       "                        <td id=\"T_022612c8_8cf8_11ee_bdbb_96000040dfb6row0_col0\" class=\"data row0 col0\" >100.00%</td>\n",
       "                        <td id=\"T_022612c8_8cf8_11ee_bdbb_96000040dfb6row0_col1\" class=\"data row0 col1\" >38.19%</td>\n",
       "                        <td id=\"T_022612c8_8cf8_11ee_bdbb_96000040dfb6row0_col2\" class=\"data row0 col2\" >33.44%</td>\n",
       "                        <td id=\"T_022612c8_8cf8_11ee_bdbb_96000040dfb6row0_col3\" class=\"data row0 col3\" >38.71%</td>\n",
       "                        <td id=\"T_022612c8_8cf8_11ee_bdbb_96000040dfb6row0_col4\" class=\"data row0 col4\" >35.97%</td>\n",
       "                        <td id=\"T_022612c8_8cf8_11ee_bdbb_96000040dfb6row0_col5\" class=\"data row0 col5\" >39.66%</td>\n",
       "                        <td id=\"T_022612c8_8cf8_11ee_bdbb_96000040dfb6row0_col6\" class=\"data row0 col6\" >37.97%</td>\n",
       "                        <td id=\"T_022612c8_8cf8_11ee_bdbb_96000040dfb6row0_col7\" class=\"data row0 col7\" >35.44%</td>\n",
       "                        <td id=\"T_022612c8_8cf8_11ee_bdbb_96000040dfb6row0_col8\" class=\"data row0 col8\" >35.44%</td>\n",
       "                        <td id=\"T_022612c8_8cf8_11ee_bdbb_96000040dfb6row0_col9\" class=\"data row0 col9\" >39.45%</td>\n",
       "                        <td id=\"T_022612c8_8cf8_11ee_bdbb_96000040dfb6row0_col10\" class=\"data row0 col10\" >37.34%</td>\n",
       "                        <td id=\"T_022612c8_8cf8_11ee_bdbb_96000040dfb6row0_col11\" class=\"data row0 col11\" >50.00%</td>\n",
       "                        <td id=\"T_022612c8_8cf8_11ee_bdbb_96000040dfb6row0_col12\" class=\"data row0 col12\" >27.43%</td>\n",
       "            </tr>\n",
       "            <tr>\n",
       "                        <th id=\"T_022612c8_8cf8_11ee_bdbb_96000040dfb6level0_row1\" class=\"row_heading level0 row1\" >2011-01</th>\n",
       "                        <td id=\"T_022612c8_8cf8_11ee_bdbb_96000040dfb6row1_col0\" class=\"data row1 col0\" >100.00%</td>\n",
       "                        <td id=\"T_022612c8_8cf8_11ee_bdbb_96000040dfb6row1_col1\" class=\"data row1 col1\" >23.99%</td>\n",
       "                        <td id=\"T_022612c8_8cf8_11ee_bdbb_96000040dfb6row1_col2\" class=\"data row1 col2\" >28.27%</td>\n",
       "                        <td id=\"T_022612c8_8cf8_11ee_bdbb_96000040dfb6row1_col3\" class=\"data row1 col3\" >24.23%</td>\n",
       "                        <td id=\"T_022612c8_8cf8_11ee_bdbb_96000040dfb6row1_col4\" class=\"data row1 col4\" >32.78%</td>\n",
       "                        <td id=\"T_022612c8_8cf8_11ee_bdbb_96000040dfb6row1_col5\" class=\"data row1 col5\" >29.93%</td>\n",
       "                        <td id=\"T_022612c8_8cf8_11ee_bdbb_96000040dfb6row1_col6\" class=\"data row1 col6\" >26.13%</td>\n",
       "                        <td id=\"T_022612c8_8cf8_11ee_bdbb_96000040dfb6row1_col7\" class=\"data row1 col7\" >25.65%</td>\n",
       "                        <td id=\"T_022612c8_8cf8_11ee_bdbb_96000040dfb6row1_col8\" class=\"data row1 col8\" >31.12%</td>\n",
       "                        <td id=\"T_022612c8_8cf8_11ee_bdbb_96000040dfb6row1_col9\" class=\"data row1 col9\" >34.68%</td>\n",
       "                        <td id=\"T_022612c8_8cf8_11ee_bdbb_96000040dfb6row1_col10\" class=\"data row1 col10\" >36.82%</td>\n",
       "                        <td id=\"T_022612c8_8cf8_11ee_bdbb_96000040dfb6row1_col11\" class=\"data row1 col11\" >14.96%</td>\n",
       "                        <td id=\"T_022612c8_8cf8_11ee_bdbb_96000040dfb6row1_col12\" class=\"data row1 col12\" ></td>\n",
       "            </tr>\n",
       "            <tr>\n",
       "                        <th id=\"T_022612c8_8cf8_11ee_bdbb_96000040dfb6level0_row2\" class=\"row_heading level0 row2\" >2011-02</th>\n",
       "                        <td id=\"T_022612c8_8cf8_11ee_bdbb_96000040dfb6row2_col0\" class=\"data row2 col0\" >100.00%</td>\n",
       "                        <td id=\"T_022612c8_8cf8_11ee_bdbb_96000040dfb6row2_col1\" class=\"data row2 col1\" >24.74%</td>\n",
       "                        <td id=\"T_022612c8_8cf8_11ee_bdbb_96000040dfb6row2_col2\" class=\"data row2 col2\" >19.21%</td>\n",
       "                        <td id=\"T_022612c8_8cf8_11ee_bdbb_96000040dfb6row2_col3\" class=\"data row2 col3\" >27.89%</td>\n",
       "                        <td id=\"T_022612c8_8cf8_11ee_bdbb_96000040dfb6row2_col4\" class=\"data row2 col4\" >26.84%</td>\n",
       "                        <td id=\"T_022612c8_8cf8_11ee_bdbb_96000040dfb6row2_col5\" class=\"data row2 col5\" >24.74%</td>\n",
       "                        <td id=\"T_022612c8_8cf8_11ee_bdbb_96000040dfb6row2_col6\" class=\"data row2 col6\" >25.53%</td>\n",
       "                        <td id=\"T_022612c8_8cf8_11ee_bdbb_96000040dfb6row2_col7\" class=\"data row2 col7\" >28.16%</td>\n",
       "                        <td id=\"T_022612c8_8cf8_11ee_bdbb_96000040dfb6row2_col8\" class=\"data row2 col8\" >25.79%</td>\n",
       "                        <td id=\"T_022612c8_8cf8_11ee_bdbb_96000040dfb6row2_col9\" class=\"data row2 col9\" >31.32%</td>\n",
       "                        <td id=\"T_022612c8_8cf8_11ee_bdbb_96000040dfb6row2_col10\" class=\"data row2 col10\" >9.21%</td>\n",
       "                        <td id=\"T_022612c8_8cf8_11ee_bdbb_96000040dfb6row2_col11\" class=\"data row2 col11\" ></td>\n",
       "                        <td id=\"T_022612c8_8cf8_11ee_bdbb_96000040dfb6row2_col12\" class=\"data row2 col12\" ></td>\n",
       "            </tr>\n",
       "            <tr>\n",
       "                        <th id=\"T_022612c8_8cf8_11ee_bdbb_96000040dfb6level0_row3\" class=\"row_heading level0 row3\" >2011-03</th>\n",
       "                        <td id=\"T_022612c8_8cf8_11ee_bdbb_96000040dfb6row3_col0\" class=\"data row3 col0\" >100.00%</td>\n",
       "                        <td id=\"T_022612c8_8cf8_11ee_bdbb_96000040dfb6row3_col1\" class=\"data row3 col1\" >19.09%</td>\n",
       "                        <td id=\"T_022612c8_8cf8_11ee_bdbb_96000040dfb6row3_col2\" class=\"data row3 col2\" >25.45%</td>\n",
       "                        <td id=\"T_022612c8_8cf8_11ee_bdbb_96000040dfb6row3_col3\" class=\"data row3 col3\" >21.82%</td>\n",
       "                        <td id=\"T_022612c8_8cf8_11ee_bdbb_96000040dfb6row3_col4\" class=\"data row3 col4\" >23.18%</td>\n",
       "                        <td id=\"T_022612c8_8cf8_11ee_bdbb_96000040dfb6row3_col5\" class=\"data row3 col5\" >17.73%</td>\n",
       "                        <td id=\"T_022612c8_8cf8_11ee_bdbb_96000040dfb6row3_col6\" class=\"data row3 col6\" >26.36%</td>\n",
       "                        <td id=\"T_022612c8_8cf8_11ee_bdbb_96000040dfb6row3_col7\" class=\"data row3 col7\" >23.86%</td>\n",
       "                        <td id=\"T_022612c8_8cf8_11ee_bdbb_96000040dfb6row3_col8\" class=\"data row3 col8\" >28.86%</td>\n",
       "                        <td id=\"T_022612c8_8cf8_11ee_bdbb_96000040dfb6row3_col9\" class=\"data row3 col9\" >8.86%</td>\n",
       "                        <td id=\"T_022612c8_8cf8_11ee_bdbb_96000040dfb6row3_col10\" class=\"data row3 col10\" ></td>\n",
       "                        <td id=\"T_022612c8_8cf8_11ee_bdbb_96000040dfb6row3_col11\" class=\"data row3 col11\" ></td>\n",
       "                        <td id=\"T_022612c8_8cf8_11ee_bdbb_96000040dfb6row3_col12\" class=\"data row3 col12\" ></td>\n",
       "            </tr>\n",
       "            <tr>\n",
       "                        <th id=\"T_022612c8_8cf8_11ee_bdbb_96000040dfb6level0_row4\" class=\"row_heading level0 row4\" >2011-04</th>\n",
       "                        <td id=\"T_022612c8_8cf8_11ee_bdbb_96000040dfb6row4_col0\" class=\"data row4 col0\" >100.00%</td>\n",
       "                        <td id=\"T_022612c8_8cf8_11ee_bdbb_96000040dfb6row4_col1\" class=\"data row4 col1\" >22.74%</td>\n",
       "                        <td id=\"T_022612c8_8cf8_11ee_bdbb_96000040dfb6row4_col2\" class=\"data row4 col2\" >22.07%</td>\n",
       "                        <td id=\"T_022612c8_8cf8_11ee_bdbb_96000040dfb6row4_col3\" class=\"data row4 col3\" >21.07%</td>\n",
       "                        <td id=\"T_022612c8_8cf8_11ee_bdbb_96000040dfb6row4_col4\" class=\"data row4 col4\" >20.74%</td>\n",
       "                        <td id=\"T_022612c8_8cf8_11ee_bdbb_96000040dfb6row4_col5\" class=\"data row4 col5\" >23.75%</td>\n",
       "                        <td id=\"T_022612c8_8cf8_11ee_bdbb_96000040dfb6row4_col6\" class=\"data row4 col6\" >23.08%</td>\n",
       "                        <td id=\"T_022612c8_8cf8_11ee_bdbb_96000040dfb6row4_col7\" class=\"data row4 col7\" >26.09%</td>\n",
       "                        <td id=\"T_022612c8_8cf8_11ee_bdbb_96000040dfb6row4_col8\" class=\"data row4 col8\" >8.36%</td>\n",
       "                        <td id=\"T_022612c8_8cf8_11ee_bdbb_96000040dfb6row4_col9\" class=\"data row4 col9\" ></td>\n",
       "                        <td id=\"T_022612c8_8cf8_11ee_bdbb_96000040dfb6row4_col10\" class=\"data row4 col10\" ></td>\n",
       "                        <td id=\"T_022612c8_8cf8_11ee_bdbb_96000040dfb6row4_col11\" class=\"data row4 col11\" ></td>\n",
       "                        <td id=\"T_022612c8_8cf8_11ee_bdbb_96000040dfb6row4_col12\" class=\"data row4 col12\" ></td>\n",
       "            </tr>\n",
       "            <tr>\n",
       "                        <th id=\"T_022612c8_8cf8_11ee_bdbb_96000040dfb6level0_row5\" class=\"row_heading level0 row5\" >2011-05</th>\n",
       "                        <td id=\"T_022612c8_8cf8_11ee_bdbb_96000040dfb6row5_col0\" class=\"data row5 col0\" >100.00%</td>\n",
       "                        <td id=\"T_022612c8_8cf8_11ee_bdbb_96000040dfb6row5_col1\" class=\"data row5 col1\" >23.66%</td>\n",
       "                        <td id=\"T_022612c8_8cf8_11ee_bdbb_96000040dfb6row5_col2\" class=\"data row5 col2\" >17.20%</td>\n",
       "                        <td id=\"T_022612c8_8cf8_11ee_bdbb_96000040dfb6row5_col3\" class=\"data row5 col3\" >17.20%</td>\n",
       "                        <td id=\"T_022612c8_8cf8_11ee_bdbb_96000040dfb6row5_col4\" class=\"data row5 col4\" >21.51%</td>\n",
       "                        <td id=\"T_022612c8_8cf8_11ee_bdbb_96000040dfb6row5_col5\" class=\"data row5 col5\" >24.37%</td>\n",
       "                        <td id=\"T_022612c8_8cf8_11ee_bdbb_96000040dfb6row5_col6\" class=\"data row5 col6\" >26.52%</td>\n",
       "                        <td id=\"T_022612c8_8cf8_11ee_bdbb_96000040dfb6row5_col7\" class=\"data row5 col7\" >10.39%</td>\n",
       "                        <td id=\"T_022612c8_8cf8_11ee_bdbb_96000040dfb6row5_col8\" class=\"data row5 col8\" ></td>\n",
       "                        <td id=\"T_022612c8_8cf8_11ee_bdbb_96000040dfb6row5_col9\" class=\"data row5 col9\" ></td>\n",
       "                        <td id=\"T_022612c8_8cf8_11ee_bdbb_96000040dfb6row5_col10\" class=\"data row5 col10\" ></td>\n",
       "                        <td id=\"T_022612c8_8cf8_11ee_bdbb_96000040dfb6row5_col11\" class=\"data row5 col11\" ></td>\n",
       "                        <td id=\"T_022612c8_8cf8_11ee_bdbb_96000040dfb6row5_col12\" class=\"data row5 col12\" ></td>\n",
       "            </tr>\n",
       "            <tr>\n",
       "                        <th id=\"T_022612c8_8cf8_11ee_bdbb_96000040dfb6level0_row6\" class=\"row_heading level0 row6\" >2011-06</th>\n",
       "                        <td id=\"T_022612c8_8cf8_11ee_bdbb_96000040dfb6row6_col0\" class=\"data row6 col0\" >100.00%</td>\n",
       "                        <td id=\"T_022612c8_8cf8_11ee_bdbb_96000040dfb6row6_col1\" class=\"data row6 col1\" >20.85%</td>\n",
       "                        <td id=\"T_022612c8_8cf8_11ee_bdbb_96000040dfb6row6_col2\" class=\"data row6 col2\" >18.72%</td>\n",
       "                        <td id=\"T_022612c8_8cf8_11ee_bdbb_96000040dfb6row6_col3\" class=\"data row6 col3\" >27.23%</td>\n",
       "                        <td id=\"T_022612c8_8cf8_11ee_bdbb_96000040dfb6row6_col4\" class=\"data row6 col4\" >24.68%</td>\n",
       "                        <td id=\"T_022612c8_8cf8_11ee_bdbb_96000040dfb6row6_col5\" class=\"data row6 col5\" >33.62%</td>\n",
       "                        <td id=\"T_022612c8_8cf8_11ee_bdbb_96000040dfb6row6_col6\" class=\"data row6 col6\" >10.21%</td>\n",
       "                        <td id=\"T_022612c8_8cf8_11ee_bdbb_96000040dfb6row6_col7\" class=\"data row6 col7\" ></td>\n",
       "                        <td id=\"T_022612c8_8cf8_11ee_bdbb_96000040dfb6row6_col8\" class=\"data row6 col8\" ></td>\n",
       "                        <td id=\"T_022612c8_8cf8_11ee_bdbb_96000040dfb6row6_col9\" class=\"data row6 col9\" ></td>\n",
       "                        <td id=\"T_022612c8_8cf8_11ee_bdbb_96000040dfb6row6_col10\" class=\"data row6 col10\" ></td>\n",
       "                        <td id=\"T_022612c8_8cf8_11ee_bdbb_96000040dfb6row6_col11\" class=\"data row6 col11\" ></td>\n",
       "                        <td id=\"T_022612c8_8cf8_11ee_bdbb_96000040dfb6row6_col12\" class=\"data row6 col12\" ></td>\n",
       "            </tr>\n",
       "            <tr>\n",
       "                        <th id=\"T_022612c8_8cf8_11ee_bdbb_96000040dfb6level0_row7\" class=\"row_heading level0 row7\" >2011-07</th>\n",
       "                        <td id=\"T_022612c8_8cf8_11ee_bdbb_96000040dfb6row7_col0\" class=\"data row7 col0\" >100.00%</td>\n",
       "                        <td id=\"T_022612c8_8cf8_11ee_bdbb_96000040dfb6row7_col1\" class=\"data row7 col1\" >20.94%</td>\n",
       "                        <td id=\"T_022612c8_8cf8_11ee_bdbb_96000040dfb6row7_col2\" class=\"data row7 col2\" >20.42%</td>\n",
       "                        <td id=\"T_022612c8_8cf8_11ee_bdbb_96000040dfb6row7_col3\" class=\"data row7 col3\" >23.04%</td>\n",
       "                        <td id=\"T_022612c8_8cf8_11ee_bdbb_96000040dfb6row7_col4\" class=\"data row7 col4\" >27.23%</td>\n",
       "                        <td id=\"T_022612c8_8cf8_11ee_bdbb_96000040dfb6row7_col5\" class=\"data row7 col5\" >11.52%</td>\n",
       "                        <td id=\"T_022612c8_8cf8_11ee_bdbb_96000040dfb6row7_col6\" class=\"data row7 col6\" ></td>\n",
       "                        <td id=\"T_022612c8_8cf8_11ee_bdbb_96000040dfb6row7_col7\" class=\"data row7 col7\" ></td>\n",
       "                        <td id=\"T_022612c8_8cf8_11ee_bdbb_96000040dfb6row7_col8\" class=\"data row7 col8\" ></td>\n",
       "                        <td id=\"T_022612c8_8cf8_11ee_bdbb_96000040dfb6row7_col9\" class=\"data row7 col9\" ></td>\n",
       "                        <td id=\"T_022612c8_8cf8_11ee_bdbb_96000040dfb6row7_col10\" class=\"data row7 col10\" ></td>\n",
       "                        <td id=\"T_022612c8_8cf8_11ee_bdbb_96000040dfb6row7_col11\" class=\"data row7 col11\" ></td>\n",
       "                        <td id=\"T_022612c8_8cf8_11ee_bdbb_96000040dfb6row7_col12\" class=\"data row7 col12\" ></td>\n",
       "            </tr>\n",
       "            <tr>\n",
       "                        <th id=\"T_022612c8_8cf8_11ee_bdbb_96000040dfb6level0_row8\" class=\"row_heading level0 row8\" >2011-08</th>\n",
       "                        <td id=\"T_022612c8_8cf8_11ee_bdbb_96000040dfb6row8_col0\" class=\"data row8 col0\" >100.00%</td>\n",
       "                        <td id=\"T_022612c8_8cf8_11ee_bdbb_96000040dfb6row8_col1\" class=\"data row8 col1\" >25.15%</td>\n",
       "                        <td id=\"T_022612c8_8cf8_11ee_bdbb_96000040dfb6row8_col2\" class=\"data row8 col2\" >25.15%</td>\n",
       "                        <td id=\"T_022612c8_8cf8_11ee_bdbb_96000040dfb6row8_col3\" class=\"data row8 col3\" >25.15%</td>\n",
       "                        <td id=\"T_022612c8_8cf8_11ee_bdbb_96000040dfb6row8_col4\" class=\"data row8 col4\" >13.77%</td>\n",
       "                        <td id=\"T_022612c8_8cf8_11ee_bdbb_96000040dfb6row8_col5\" class=\"data row8 col5\" ></td>\n",
       "                        <td id=\"T_022612c8_8cf8_11ee_bdbb_96000040dfb6row8_col6\" class=\"data row8 col6\" ></td>\n",
       "                        <td id=\"T_022612c8_8cf8_11ee_bdbb_96000040dfb6row8_col7\" class=\"data row8 col7\" ></td>\n",
       "                        <td id=\"T_022612c8_8cf8_11ee_bdbb_96000040dfb6row8_col8\" class=\"data row8 col8\" ></td>\n",
       "                        <td id=\"T_022612c8_8cf8_11ee_bdbb_96000040dfb6row8_col9\" class=\"data row8 col9\" ></td>\n",
       "                        <td id=\"T_022612c8_8cf8_11ee_bdbb_96000040dfb6row8_col10\" class=\"data row8 col10\" ></td>\n",
       "                        <td id=\"T_022612c8_8cf8_11ee_bdbb_96000040dfb6row8_col11\" class=\"data row8 col11\" ></td>\n",
       "                        <td id=\"T_022612c8_8cf8_11ee_bdbb_96000040dfb6row8_col12\" class=\"data row8 col12\" ></td>\n",
       "            </tr>\n",
       "            <tr>\n",
       "                        <th id=\"T_022612c8_8cf8_11ee_bdbb_96000040dfb6level0_row9\" class=\"row_heading level0 row9\" >2011-09</th>\n",
       "                        <td id=\"T_022612c8_8cf8_11ee_bdbb_96000040dfb6row9_col0\" class=\"data row9 col0\" >100.00%</td>\n",
       "                        <td id=\"T_022612c8_8cf8_11ee_bdbb_96000040dfb6row9_col1\" class=\"data row9 col1\" >29.87%</td>\n",
       "                        <td id=\"T_022612c8_8cf8_11ee_bdbb_96000040dfb6row9_col2\" class=\"data row9 col2\" >32.55%</td>\n",
       "                        <td id=\"T_022612c8_8cf8_11ee_bdbb_96000040dfb6row9_col3\" class=\"data row9 col3\" >12.08%</td>\n",
       "                        <td id=\"T_022612c8_8cf8_11ee_bdbb_96000040dfb6row9_col4\" class=\"data row9 col4\" ></td>\n",
       "                        <td id=\"T_022612c8_8cf8_11ee_bdbb_96000040dfb6row9_col5\" class=\"data row9 col5\" ></td>\n",
       "                        <td id=\"T_022612c8_8cf8_11ee_bdbb_96000040dfb6row9_col6\" class=\"data row9 col6\" ></td>\n",
       "                        <td id=\"T_022612c8_8cf8_11ee_bdbb_96000040dfb6row9_col7\" class=\"data row9 col7\" ></td>\n",
       "                        <td id=\"T_022612c8_8cf8_11ee_bdbb_96000040dfb6row9_col8\" class=\"data row9 col8\" ></td>\n",
       "                        <td id=\"T_022612c8_8cf8_11ee_bdbb_96000040dfb6row9_col9\" class=\"data row9 col9\" ></td>\n",
       "                        <td id=\"T_022612c8_8cf8_11ee_bdbb_96000040dfb6row9_col10\" class=\"data row9 col10\" ></td>\n",
       "                        <td id=\"T_022612c8_8cf8_11ee_bdbb_96000040dfb6row9_col11\" class=\"data row9 col11\" ></td>\n",
       "                        <td id=\"T_022612c8_8cf8_11ee_bdbb_96000040dfb6row9_col12\" class=\"data row9 col12\" ></td>\n",
       "            </tr>\n",
       "            <tr>\n",
       "                        <th id=\"T_022612c8_8cf8_11ee_bdbb_96000040dfb6level0_row10\" class=\"row_heading level0 row10\" >2011-10</th>\n",
       "                        <td id=\"T_022612c8_8cf8_11ee_bdbb_96000040dfb6row10_col0\" class=\"data row10 col0\" >100.00%</td>\n",
       "                        <td id=\"T_022612c8_8cf8_11ee_bdbb_96000040dfb6row10_col1\" class=\"data row10 col1\" >26.42%</td>\n",
       "                        <td id=\"T_022612c8_8cf8_11ee_bdbb_96000040dfb6row10_col2\" class=\"data row10 col2\" >13.07%</td>\n",
       "                        <td id=\"T_022612c8_8cf8_11ee_bdbb_96000040dfb6row10_col3\" class=\"data row10 col3\" ></td>\n",
       "                        <td id=\"T_022612c8_8cf8_11ee_bdbb_96000040dfb6row10_col4\" class=\"data row10 col4\" ></td>\n",
       "                        <td id=\"T_022612c8_8cf8_11ee_bdbb_96000040dfb6row10_col5\" class=\"data row10 col5\" ></td>\n",
       "                        <td id=\"T_022612c8_8cf8_11ee_bdbb_96000040dfb6row10_col6\" class=\"data row10 col6\" ></td>\n",
       "                        <td id=\"T_022612c8_8cf8_11ee_bdbb_96000040dfb6row10_col7\" class=\"data row10 col7\" ></td>\n",
       "                        <td id=\"T_022612c8_8cf8_11ee_bdbb_96000040dfb6row10_col8\" class=\"data row10 col8\" ></td>\n",
       "                        <td id=\"T_022612c8_8cf8_11ee_bdbb_96000040dfb6row10_col9\" class=\"data row10 col9\" ></td>\n",
       "                        <td id=\"T_022612c8_8cf8_11ee_bdbb_96000040dfb6row10_col10\" class=\"data row10 col10\" ></td>\n",
       "                        <td id=\"T_022612c8_8cf8_11ee_bdbb_96000040dfb6row10_col11\" class=\"data row10 col11\" ></td>\n",
       "                        <td id=\"T_022612c8_8cf8_11ee_bdbb_96000040dfb6row10_col12\" class=\"data row10 col12\" ></td>\n",
       "            </tr>\n",
       "            <tr>\n",
       "                        <th id=\"T_022612c8_8cf8_11ee_bdbb_96000040dfb6level0_row11\" class=\"row_heading level0 row11\" >2011-11</th>\n",
       "                        <td id=\"T_022612c8_8cf8_11ee_bdbb_96000040dfb6row11_col0\" class=\"data row11 col0\" >100.00%</td>\n",
       "                        <td id=\"T_022612c8_8cf8_11ee_bdbb_96000040dfb6row11_col1\" class=\"data row11 col1\" >13.44%</td>\n",
       "                        <td id=\"T_022612c8_8cf8_11ee_bdbb_96000040dfb6row11_col2\" class=\"data row11 col2\" ></td>\n",
       "                        <td id=\"T_022612c8_8cf8_11ee_bdbb_96000040dfb6row11_col3\" class=\"data row11 col3\" ></td>\n",
       "                        <td id=\"T_022612c8_8cf8_11ee_bdbb_96000040dfb6row11_col4\" class=\"data row11 col4\" ></td>\n",
       "                        <td id=\"T_022612c8_8cf8_11ee_bdbb_96000040dfb6row11_col5\" class=\"data row11 col5\" ></td>\n",
       "                        <td id=\"T_022612c8_8cf8_11ee_bdbb_96000040dfb6row11_col6\" class=\"data row11 col6\" ></td>\n",
       "                        <td id=\"T_022612c8_8cf8_11ee_bdbb_96000040dfb6row11_col7\" class=\"data row11 col7\" ></td>\n",
       "                        <td id=\"T_022612c8_8cf8_11ee_bdbb_96000040dfb6row11_col8\" class=\"data row11 col8\" ></td>\n",
       "                        <td id=\"T_022612c8_8cf8_11ee_bdbb_96000040dfb6row11_col9\" class=\"data row11 col9\" ></td>\n",
       "                        <td id=\"T_022612c8_8cf8_11ee_bdbb_96000040dfb6row11_col10\" class=\"data row11 col10\" ></td>\n",
       "                        <td id=\"T_022612c8_8cf8_11ee_bdbb_96000040dfb6row11_col11\" class=\"data row11 col11\" ></td>\n",
       "                        <td id=\"T_022612c8_8cf8_11ee_bdbb_96000040dfb6row11_col12\" class=\"data row11 col12\" ></td>\n",
       "            </tr>\n",
       "            <tr>\n",
       "                        <th id=\"T_022612c8_8cf8_11ee_bdbb_96000040dfb6level0_row12\" class=\"row_heading level0 row12\" >2011-12</th>\n",
       "                        <td id=\"T_022612c8_8cf8_11ee_bdbb_96000040dfb6row12_col0\" class=\"data row12 col0\" >100.00%</td>\n",
       "                        <td id=\"T_022612c8_8cf8_11ee_bdbb_96000040dfb6row12_col1\" class=\"data row12 col1\" ></td>\n",
       "                        <td id=\"T_022612c8_8cf8_11ee_bdbb_96000040dfb6row12_col2\" class=\"data row12 col2\" ></td>\n",
       "                        <td id=\"T_022612c8_8cf8_11ee_bdbb_96000040dfb6row12_col3\" class=\"data row12 col3\" ></td>\n",
       "                        <td id=\"T_022612c8_8cf8_11ee_bdbb_96000040dfb6row12_col4\" class=\"data row12 col4\" ></td>\n",
       "                        <td id=\"T_022612c8_8cf8_11ee_bdbb_96000040dfb6row12_col5\" class=\"data row12 col5\" ></td>\n",
       "                        <td id=\"T_022612c8_8cf8_11ee_bdbb_96000040dfb6row12_col6\" class=\"data row12 col6\" ></td>\n",
       "                        <td id=\"T_022612c8_8cf8_11ee_bdbb_96000040dfb6row12_col7\" class=\"data row12 col7\" ></td>\n",
       "                        <td id=\"T_022612c8_8cf8_11ee_bdbb_96000040dfb6row12_col8\" class=\"data row12 col8\" ></td>\n",
       "                        <td id=\"T_022612c8_8cf8_11ee_bdbb_96000040dfb6row12_col9\" class=\"data row12 col9\" ></td>\n",
       "                        <td id=\"T_022612c8_8cf8_11ee_bdbb_96000040dfb6row12_col10\" class=\"data row12 col10\" ></td>\n",
       "                        <td id=\"T_022612c8_8cf8_11ee_bdbb_96000040dfb6row12_col11\" class=\"data row12 col11\" ></td>\n",
       "                        <td id=\"T_022612c8_8cf8_11ee_bdbb_96000040dfb6row12_col12\" class=\"data row12 col12\" ></td>\n",
       "            </tr>\n",
       "    </tbody></table>"
      ],
      "text/plain": [
       "<pandas.io.formats.style.Styler at 0x7fb600e89198>"
      ]
     },
     "execution_count": 122,
     "metadata": {},
     "output_type": "execute_result"
    }
   ],
   "source": [
    "ur_style = (user_retention\n",
    "            .style\n",
    "            .set_caption('User retention by cohort')  # добавляем подпись\n",
    "            .background_gradient(cmap='viridis')  # раскрашиваем ячейки по столбцам\n",
    "            .highlight_null('white')  # делаем белый фон для значений NaN\n",
    "            .format(\"{:.2%}\", na_rep=\"\"))  # числа форматируем как проценты, NaN заменяем на пустоту\n",
    "ur_style"
   ]
  },
  {
   "cell_type": "markdown",
   "metadata": {},
   "source": [
    "Теперь довольно легко заметить, что ретеншен в каждый из месяцев был наибольшим среди пользователей из самой первой когорты, 2010-12"
   ]
  }
 ],
 "metadata": {
  "kernelspec": {
   "display_name": "Python 3",
   "language": "python",
   "name": "python3"
  },
  "language_info": {
   "codemirror_mode": {
    "name": "ipython",
    "version": 3
   },
   "file_extension": ".py",
   "mimetype": "text/x-python",
   "name": "python",
   "nbconvert_exporter": "python",
   "pygments_lexer": "ipython3",
   "version": "3.7.3"
  }
 },
 "nbformat": 4,
 "nbformat_minor": 4
}
