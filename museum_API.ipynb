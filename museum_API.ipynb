{
 "cells": [
  {
   "cell_type": "markdown",
   "metadata": {},
   "source": [
    "# API: Museum"
   ]
  },
  {
   "cell_type": "markdown",
   "metadata": {},
   "source": [
    "В рамках дополнительного проекта попробуем освоить API, позволяющий получать данные о музейных коллекциях. Это задание может пригодиться для большего понимания того, какими способами можно собирать и обрабатывать данные, например, для собственного проекта или другой рабочей задачи."
   ]
  },
  {
   "cell_type": "markdown",
   "metadata": {},
   "source": [
    "Документация: https://metmuseum.github.io"
   ]
  },
  {
   "cell_type": "markdown",
   "metadata": {},
   "source": [
    "- Объекты (Objects)\n",
    "- Объект (Object) – данные об объекте (например, о картине)\n",
    "- Департаменты (Departments) –  данные о департаменте/разделе (например, \"Современное искусство\") \n",
    "- Поиск (Search) – используется для поиска"
   ]
  },
  {
   "cell_type": "code",
   "execution_count": 1,
   "metadata": {},
   "outputs": [],
   "source": [
    "import requests\n",
    "import pandas as pd\n",
    "import seaborn as sns\n",
    "import matplotlib.pyplot as plt"
   ]
  },
  {
   "cell_type": "markdown",
   "metadata": {},
   "source": [
    "Сам запрос к API должен состоять из нескольких параметров. Пример обращения к поиску (Search):"
   ]
  },
  {
   "cell_type": "code",
   "execution_count": 2,
   "metadata": {},
   "outputs": [],
   "source": [
    "r = requests.get('https://collectionapi.metmuseum.org/public/collection/v1/search?q=QUERY')\n",
    "res = r.json()\n",
    "# QUERY – ключевое слово"
   ]
  },
  {
   "cell_type": "markdown",
   "metadata": {},
   "source": [
    "Найти все произведения, связанные с подсолнухами. Выполните поиск по слову \"sunflowers\". \n",
    "Внимательно посмотрите на формат ответа и сохраните id полученных объектов в список sunflower_ids."
   ]
  },
  {
   "cell_type": "code",
   "execution_count": 3,
   "metadata": {},
   "outputs": [],
   "source": [
    "r = requests.get('https://collectionapi.metmuseum.org/public/collection/v1/search?q=sunflowers')\n",
    "res = r.json()\n",
    "sunflower_ids = res['objectIDs']"
   ]
  },
  {
   "cell_type": "code",
   "execution_count": 4,
   "metadata": {},
   "outputs": [],
   "source": [
    "# url = '<https://collectionapi.metmuseum.org/public/collection/v1/search?q=>'\n",
    "# IDs = 'sunflowers'\n",
    "# r = requests.get(url+IDs)\n",
    "# res = r.json()\n",
    "# Где, IDsэто ключевое слово, в нашем случае sunflowers(подсолнух)"
   ]
  },
  {
   "cell_type": "code",
   "execution_count": 5,
   "metadata": {},
   "outputs": [
    {
     "data": {
      "text/plain": [
       "True"
      ]
     },
     "execution_count": 5,
     "metadata": {},
     "output_type": "execute_result"
    }
   ],
   "source": [
    "437329 in sunflower_ids"
   ]
  },
  {
   "cell_type": "code",
   "execution_count": 6,
   "metadata": {},
   "outputs": [
    {
     "data": {
      "text/plain": [
       "False"
      ]
     },
     "execution_count": 6,
     "metadata": {},
     "output_type": "execute_result"
    }
   ],
   "source": [
    "16822570 in sunflower_ids"
   ]
  },
  {
   "cell_type": "code",
   "execution_count": 7,
   "metadata": {},
   "outputs": [
    {
     "data": {
      "text/plain": [
       "True"
      ]
     },
     "execution_count": 7,
     "metadata": {},
     "output_type": "execute_result"
    }
   ],
   "source": [
    "436524 in sunflower_ids\n"
   ]
  },
  {
   "cell_type": "code",
   "execution_count": 9,
   "metadata": {},
   "outputs": [],
   "source": [
    "# Другой вариант:\n",
    "search_ids = [436524, 2032, 20149, 16822570, 437329]  # записываем варианты id"
   ]
  },
  {
   "cell_type": "code",
   "execution_count": 10,
   "metadata": {},
   "outputs": [
    {
     "data": {
      "text/plain": [
       "[436524, 2032, 437329]"
      ]
     },
     "execution_count": 10,
     "metadata": {},
     "output_type": "execute_result"
    }
   ],
   "source": [
    "# для каждого id проверяем, есть ли он в sunflower_ids; выводим элемент, если условие выполнено\n",
    "[i for i in search_ids if i in sunflower_ids]"
   ]
  },
  {
   "cell_type": "markdown",
   "metadata": {},
   "source": [
    "Пример текста запроса для получения информации об одном объекте (Object):"
   ]
  },
  {
   "cell_type": "code",
   "execution_count": 11,
   "metadata": {},
   "outputs": [],
   "source": [
    "r_test = requests.get(f'https://collectionapi.metmuseum.org/public/collection/v1/objects/OBJECT_ID')\n",
    "obj_test = r_test.json()\n",
    "# где OBJECT_ID – id объекта.\n",
    "# Выполните запрос для объекта 437980. Для проверки соотнесите полученные параметры с их значениями:"
   ]
  },
  {
   "cell_type": "code",
   "execution_count": 12,
   "metadata": {},
   "outputs": [],
   "source": [
    "r_test = requests.get(f'https://collectionapi.metmuseum.org/public/collection/v1/objects/437980')\n",
    "obj_test = r_test.json()"
   ]
  },
  {
   "cell_type": "code",
   "execution_count": 13,
   "metadata": {},
   "outputs": [
    {
     "name": "stdout",
     "output_type": "stream",
     "text": [
      "\n",
      "Cypresses\n",
      "European Paintings\n",
      "Vincent van Gogh\n",
      "Painting\n",
      "437980\n"
     ]
    }
   ],
   "source": [
    "print(obj_test['culture'])\n",
    "print(obj_test['title'])\n",
    "print(obj_test['department'])\n",
    "print(obj_test['artistDisplayName'])\n",
    "print(obj_test['objectName'])\n",
    "print(obj_test['objectID'])\n"
   ]
  },
  {
   "cell_type": "markdown",
   "metadata": {},
   "source": [
    "Напишите цикл, с помощью которого будет собрана информация об объектах, которые были получены на 2 шаге. \n",
    "Результаты запишите в датафрейм, а именно – следующие параметры:\n",
    "- objectID – id объекта\n",
    "- title – название\n",
    "- artistDisplayName – автор\n",
    "- department – департамент\n",
    "- objectBeginDate – дата (начало)\n",
    "- objectEndDate – дата (конец)\n",
    "- period – название периода\n",
    "- objectName – название/категория объекта\n",
    "- culture – культура"
   ]
  },
  {
   "cell_type": "markdown",
   "metadata": {},
   "source": [
    "Написать запрос к API, вместо object_id подставить id из sunflower_ids и сформировать строчку в датафрейме для объекта"
   ]
  },
  {
   "cell_type": "code",
   "execution_count": 14,
   "metadata": {},
   "outputs": [],
   "source": [
    "sunflower_df = pd.DataFrame() #создали пустой df\n",
    "for i in sunflower_ids:\n",
    "    try:\n",
    "        r = requests.get('https://collectionapi.metmuseum.org/public/collection/v1/objects/{}'.format(i))\n",
    "        obj = r.json()\n",
    "   \n",
    "    \n",
    "        df = pd.json_normalize(obj)\n",
    "        df = df[['objectID',\n",
    "                                 'title',\n",
    "                                 'artistDisplayName',\n",
    "                                 'department',\n",
    "                                 'objectBeginDate',\n",
    "                                 'objectEndDate',\n",
    "                                 'period',\n",
    "                                 'objectName',\n",
    "                                 'culture']]\n",
    "    except:\n",
    "        continue\n",
    "\n",
    "    try:\n",
    "        sunflower_df = pd.concat([sunflower_df, df])\n",
    "    except:\n",
    "        continue\n",
    "\n"
   ]
  },
  {
   "cell_type": "code",
   "execution_count": 15,
   "metadata": {},
   "outputs": [
    {
     "data": {
      "text/html": [
       "<div>\n",
       "<style scoped>\n",
       "    .dataframe tbody tr th:only-of-type {\n",
       "        vertical-align: middle;\n",
       "    }\n",
       "\n",
       "    .dataframe tbody tr th {\n",
       "        vertical-align: top;\n",
       "    }\n",
       "\n",
       "    .dataframe thead th {\n",
       "        text-align: right;\n",
       "    }\n",
       "</style>\n",
       "<table border=\"1\" class=\"dataframe\">\n",
       "  <thead>\n",
       "    <tr style=\"text-align: right;\">\n",
       "      <th></th>\n",
       "      <th>objectID</th>\n",
       "      <th>title</th>\n",
       "      <th>artistDisplayName</th>\n",
       "      <th>department</th>\n",
       "      <th>objectBeginDate</th>\n",
       "      <th>objectEndDate</th>\n",
       "      <th>period</th>\n",
       "      <th>objectName</th>\n",
       "      <th>culture</th>\n",
       "    </tr>\n",
       "  </thead>\n",
       "  <tbody>\n",
       "    <tr>\n",
       "      <th>0</th>\n",
       "      <td>57922</td>\n",
       "      <td>Incense box</td>\n",
       "      <td></td>\n",
       "      <td>Asian Art</td>\n",
       "      <td>1700</td>\n",
       "      <td>1799</td>\n",
       "      <td>Edo period (1615–1868)</td>\n",
       "      <td>Incense box</td>\n",
       "      <td>Japan</td>\n",
       "    </tr>\n",
       "  </tbody>\n",
       "</table>\n",
       "</div>"
      ],
      "text/plain": [
       "   objectID        title artistDisplayName department  objectBeginDate  \\\n",
       "0     57922  Incense box                    Asian Art             1700   \n",
       "\n",
       "   objectEndDate                  period   objectName culture  \n",
       "0           1799  Edo period (1615–1868)  Incense box   Japan  "
      ]
     },
     "execution_count": 15,
     "metadata": {},
     "output_type": "execute_result"
    }
   ],
   "source": [
    "sunflower_df.query('culture == \"Japan\"')"
   ]
  },
  {
   "cell_type": "code",
   "execution_count": 16,
   "metadata": {},
   "outputs": [
    {
     "data": {
      "text/plain": [
       "(88, 9)"
      ]
     },
     "execution_count": 16,
     "metadata": {},
     "output_type": "execute_result"
    }
   ],
   "source": [
    "sunflower_df.shape"
   ]
  },
  {
   "cell_type": "markdown",
   "metadata": {},
   "source": [
    "Теперь попробуем построить более сложный запрос с помощью секции \"Search\"! \n",
    "На этот раз параметры необходимо передать через \"&\", например, departmentId (id департамента – 1) и q (ключевое слово – cat):"
   ]
  },
  {
   "cell_type": "code",
   "execution_count": 17,
   "metadata": {},
   "outputs": [],
   "source": [
    "# r = requests.get('https://collectionapi.metmuseum.org/public/collection/v1/search?departmentId=1&q=cat')\n",
    "# cats = r.json()"
   ]
  },
  {
   "cell_type": "markdown",
   "metadata": {},
   "source": [
    "Выполните поисковый запрос для департамента \"Asian art\" (departmentId = 6) с тегом \"cat\" и запишите id объектов в cat_ids. \n",
    "Используйте цикл из шага 4, чтобы получить данные о первой 1000 объектов из списка.\n",
    "\n",
    "выполнение цикла может занять некоторое время (~5 минут), поэтому проверять его работоспособность лучше на маленькой выборке!"
   ]
  },
  {
   "cell_type": "code",
   "execution_count": 18,
   "metadata": {},
   "outputs": [],
   "source": [
    "r_cats = requests.get('https://collectionapi.metmuseum.org/public/collection/v1/search?departmentId=6&q=cat')\n",
    "cats = r_cats.json()\n",
    "cat_ids = cats['objectIDs']"
   ]
  },
  {
   "cell_type": "code",
   "execution_count": 19,
   "metadata": {},
   "outputs": [],
   "source": [
    "# for i in cat_ids[0:10]:\n",
    "    \n",
    "#     try:\n",
    "#         r = requests.get('https://collectionapi.metmuseum.org/public/collection/v1/objects/{}'.format(i))\n",
    "#         obj = r.json()\n",
    "   \n",
    "    \n",
    "#         dff = pd.json_normalize(obj)\n",
    "#         dff = dff[['objectID', 'title', 'period', 'objectName']]\n",
    "    \n",
    "#     except:\n",
    "#         continue\n",
    "        \n",
    "#     try: \n",
    "#         cat_df = pd.concat([cat_df, df])\n",
    "                      \n",
    "#     except:\n",
    "#         continue\n",
    "\n",
    "# cat_df"
   ]
  },
  {
   "cell_type": "code",
   "execution_count": 20,
   "metadata": {},
   "outputs": [
    {
     "data": {
      "text/plain": [
       "Edo period (1615–1868)         275\n",
       "                               144\n",
       "Qing dynasty (1644–1911)        62\n",
       "Ming dynasty (1368–1644)        42\n",
       "Kamakura period (1185–1333)     32\n",
       "Name: period, dtype: int64"
      ]
     },
     "execution_count": 20,
     "metadata": {},
     "output_type": "execute_result"
    }
   ],
   "source": [
    "cat_df = pd.DataFrame()\n",
    "for i in cat_ids[0:1000]:\n",
    "    r = requests.get('https://collectionapi.metmuseum.org/public/collection/v1/objects/{}'.format(i))\n",
    "    obj = r.json()    \n",
    "    dff = pd.json_normalize(obj)\n",
    "    dff = dff[['objectID', 'period']]\n",
    "    try: \n",
    "        cat_df = pd.concat([cat_df, dff])\n",
    "                      \n",
    "    except:\n",
    "        continue\n",
    "\n",
    "cat_df.period.value_counts().head()"
   ]
  },
  {
   "cell_type": "markdown",
   "metadata": {},
   "source": [
    "Другой вариант:"
   ]
  },
  {
   "cell_type": "code",
   "execution_count": 21,
   "metadata": {},
   "outputs": [],
   "source": [
    "# собираем датафрейм для результатов поиска \n",
    "object_df = pd.DataFrame()\n",
    "\n",
    "for object_id in cat_ids[:1000]:  # берем только 1000 объектов, как указано в задании\n",
    "    # информация об объекте\n",
    "    r = requests.get(f'https://collectionapi.metmuseum.org/public/collection/v1/objects/{object_id}')\n",
    "    obj_tmp = r.json()\n",
    "\n",
    "    # формируем строчку для объекта\n",
    "    try:\n",
    "        obj_tmp_df = pd.DataFrame({'objectID' : obj_tmp['objectID'],\n",
    "                                 'title' : [obj_tmp['title']],\n",
    "                                 'artistDisplayName': [obj_tmp['artistDisplayName']],\n",
    "                                 'department' : [obj_tmp['department']], \n",
    "                                 'objectBeginDate' : [obj_tmp['objectBeginDate']], \n",
    "                                 'objectEndDate' : [obj_tmp['objectEndDate']], \n",
    "                                 'objectName' : [obj_tmp['objectName']], \n",
    "                                 'culture': [obj_tmp['culture']],\n",
    "                                 'period': [obj_tmp['period']]\n",
    "                            })\n",
    "        # приклеиваем\n",
    "        object_df = pd.concat([object_df, obj_tmp_df])\n",
    "    except KeyError:\n",
    "        continue\n"
   ]
  }
 ],
 "metadata": {
  "kernelspec": {
   "display_name": "Python 3",
   "language": "python",
   "name": "python3"
  },
  "language_info": {
   "codemirror_mode": {
    "name": "ipython",
    "version": 3
   },
   "file_extension": ".py",
   "mimetype": "text/x-python",
   "name": "python",
   "nbconvert_exporter": "python",
   "pygments_lexer": "ipython3",
   "version": "3.7.3"
  }
 },
 "nbformat": 4,
 "nbformat_minor": 4
}
